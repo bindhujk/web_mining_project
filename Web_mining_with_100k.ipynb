{
  "nbformat": 4,
  "nbformat_minor": 0,
  "metadata": {
    "colab": {
      "provenance": [],
      "authorship_tag": "ABX9TyM8Q+krIJ2YKyDUR9iY1VOd",
      "include_colab_link": true
    },
    "kernelspec": {
      "name": "python3",
      "display_name": "Python 3"
    },
    "language_info": {
      "name": "python"
    }
  },
  "cells": [
    {
      "cell_type": "markdown",
      "metadata": {
        "id": "view-in-github",
        "colab_type": "text"
      },
      "source": [
        "<a href=\"https://colab.research.google.com/github/bindhujk/web_mining_project/blob/main/Web_mining_with_100k.ipynb\" target=\"_parent\"><img src=\"https://colab.research.google.com/assets/colab-badge.svg\" alt=\"Open In Colab\"/></a>"
      ]
    },
    {
      "cell_type": "code",
      "execution_count": null,
      "metadata": {
        "id": "5aGrovXih5cU",
        "colab": {
          "base_uri": "https://localhost:8080/"
        },
        "outputId": "3473258e-b7a0-4ad5-f46c-9198d85176a8"
      },
      "outputs": [
        {
          "output_type": "stream",
          "name": "stdout",
          "text": [
            "Looking in indexes: https://pypi.org/simple, https://us-python.pkg.dev/colab-wheels/public/simple/\n",
            "Collecting surprise\n",
            "  Downloading surprise-0.1-py2.py3-none-any.whl (1.8 kB)\n",
            "Collecting scikit-surprise (from surprise)\n",
            "  Downloading scikit-surprise-1.1.3.tar.gz (771 kB)\n",
            "\u001b[2K     \u001b[90m━━━━━━━━━━━━━━━━━━━━━━━━━━━━━━━━━━━━━━\u001b[0m \u001b[32m772.0/772.0 kB\u001b[0m \u001b[31m26.4 MB/s\u001b[0m eta \u001b[36m0:00:00\u001b[0m\n",
            "\u001b[?25h  Preparing metadata (setup.py) ... \u001b[?25l\u001b[?25hdone\n",
            "Requirement already satisfied: joblib>=1.0.0 in /usr/local/lib/python3.10/dist-packages (from scikit-surprise->surprise) (1.2.0)\n",
            "Requirement already satisfied: numpy>=1.17.3 in /usr/local/lib/python3.10/dist-packages (from scikit-surprise->surprise) (1.22.4)\n",
            "Requirement already satisfied: scipy>=1.3.2 in /usr/local/lib/python3.10/dist-packages (from scikit-surprise->surprise) (1.10.1)\n",
            "Building wheels for collected packages: scikit-surprise\n",
            "  Building wheel for scikit-surprise (setup.py) ... \u001b[?25l\u001b[?25hdone\n",
            "  Created wheel for scikit-surprise: filename=scikit_surprise-1.1.3-cp310-cp310-linux_x86_64.whl size=3095445 sha256=a67e2149ec567b4574efc27da7ce2b982dd1a548b0effbfbc77d0d1113238f5a\n",
            "  Stored in directory: /root/.cache/pip/wheels/a5/ca/a8/4e28def53797fdc4363ca4af740db15a9c2f1595ebc51fb445\n",
            "Successfully built scikit-surprise\n",
            "Installing collected packages: scikit-surprise, surprise\n",
            "Successfully installed scikit-surprise-1.1.3 surprise-0.1\n"
          ]
        }
      ],
      "source": [
        "!pip install surprise"
      ]
    },
    {
      "cell_type": "code",
      "source": [
        "import csv\n",
        "import pandas as pd\n",
        "import re\n",
        "import numpy as np\n",
        "from sklearn import preprocessing\n",
        "from scipy.sparse import coo_matrix\n",
        "from scipy.sparse import csr_matrix\n",
        "from surprise import KNNBasic\n",
        "from surprise.model_selection import train_test_split\n",
        "from pdb import set_trace\n",
        "from surprise.accuracy import mse, rmse, mae\n",
        "from surprise import Dataset, Reader, KNNBasic\n",
        "import seaborn as sns"
      ],
      "metadata": {
        "id": "XNc4FoA_h5_4"
      },
      "execution_count": null,
      "outputs": []
    },
    {
      "cell_type": "code",
      "source": [
        "import random\n",
        "my_seed = 0\n",
        "random.seed(my_seed)\n",
        "np.random.seed(my_seed)"
      ],
      "metadata": {
        "id": "G9YgpoWxh6Dt"
      },
      "execution_count": null,
      "outputs": []
    },
    {
      "cell_type": "code",
      "source": [
        "from google.colab import drive\n",
        "drive.mount('/content/gdrive')"
      ],
      "metadata": {
        "id": "Rji4eR2bh6EV",
        "colab": {
          "base_uri": "https://localhost:8080/"
        },
        "outputId": "712cbd8b-9fb8-4285-ddae-6be9dbccdb03"
      },
      "execution_count": null,
      "outputs": [
        {
          "output_type": "stream",
          "name": "stdout",
          "text": [
            "Mounted at /content/gdrive\n"
          ]
        }
      ]
    },
    {
      "cell_type": "code",
      "source": [
        "def make_csv_file(srcfile, targetfile):\n",
        "    with open(srcfile, 'r') as dat_file:\n",
        "        with open(targetfile, 'w', newline='', encoding = 'utf-8') as csv_file:\n",
        "            csv_writer = csv.writer(csv_file)\n",
        "            for row in dat_file:\n",
        "                row = [value.strip() for value in row.split('::')]\n",
        "                csv_writer.writerow(row)"
      ],
      "metadata": {
        "id": "M1nLRBith6Hr"
      },
      "execution_count": null,
      "outputs": []
    },
    {
      "cell_type": "code",
      "source": [
        "df_ratings = pd.read_csv('/content/gdrive/MyDrive/ratings_100.csv')\n",
        "df_users = pd.read_csv('/content/gdrive/MyDrive/users_100.csv')"
      ],
      "metadata": {
        "id": "MzXVvgLoh6Jc"
      },
      "execution_count": null,
      "outputs": []
    },
    {
      "cell_type": "code",
      "source": [
        "df_movies = pd.read_csv('/content/gdrive/MyDrive/movies_100.csv')\n"
      ],
      "metadata": {
        "id": "i32ftGAS1goY"
      },
      "execution_count": null,
      "outputs": []
    },
    {
      "cell_type": "code",
      "source": [
        "df_ratings.head()"
      ],
      "metadata": {
        "id": "AjcruDkxh6N2",
        "colab": {
          "base_uri": "https://localhost:8080/",
          "height": 206
        },
        "outputId": "bad08921-edb7-4c27-dff0-d4f40c93a007"
      },
      "execution_count": null,
      "outputs": [
        {
          "output_type": "execute_result",
          "data": {
            "text/plain": [
              "   UserID  MovieID  Rating  Timestamp\n",
              "0     196      242       3  881250949\n",
              "1     186      302       3  891717742\n",
              "2      22      377       1  878887116\n",
              "3     244       51       2  880606923\n",
              "4     166      346       1  886397596"
            ],
            "text/html": [
              "\n",
              "  <div id=\"df-08ba403a-6636-4d79-8b02-e820abfd3ad5\">\n",
              "    <div class=\"colab-df-container\">\n",
              "      <div>\n",
              "<style scoped>\n",
              "    .dataframe tbody tr th:only-of-type {\n",
              "        vertical-align: middle;\n",
              "    }\n",
              "\n",
              "    .dataframe tbody tr th {\n",
              "        vertical-align: top;\n",
              "    }\n",
              "\n",
              "    .dataframe thead th {\n",
              "        text-align: right;\n",
              "    }\n",
              "</style>\n",
              "<table border=\"1\" class=\"dataframe\">\n",
              "  <thead>\n",
              "    <tr style=\"text-align: right;\">\n",
              "      <th></th>\n",
              "      <th>UserID</th>\n",
              "      <th>MovieID</th>\n",
              "      <th>Rating</th>\n",
              "      <th>Timestamp</th>\n",
              "    </tr>\n",
              "  </thead>\n",
              "  <tbody>\n",
              "    <tr>\n",
              "      <th>0</th>\n",
              "      <td>196</td>\n",
              "      <td>242</td>\n",
              "      <td>3</td>\n",
              "      <td>881250949</td>\n",
              "    </tr>\n",
              "    <tr>\n",
              "      <th>1</th>\n",
              "      <td>186</td>\n",
              "      <td>302</td>\n",
              "      <td>3</td>\n",
              "      <td>891717742</td>\n",
              "    </tr>\n",
              "    <tr>\n",
              "      <th>2</th>\n",
              "      <td>22</td>\n",
              "      <td>377</td>\n",
              "      <td>1</td>\n",
              "      <td>878887116</td>\n",
              "    </tr>\n",
              "    <tr>\n",
              "      <th>3</th>\n",
              "      <td>244</td>\n",
              "      <td>51</td>\n",
              "      <td>2</td>\n",
              "      <td>880606923</td>\n",
              "    </tr>\n",
              "    <tr>\n",
              "      <th>4</th>\n",
              "      <td>166</td>\n",
              "      <td>346</td>\n",
              "      <td>1</td>\n",
              "      <td>886397596</td>\n",
              "    </tr>\n",
              "  </tbody>\n",
              "</table>\n",
              "</div>\n",
              "      <button class=\"colab-df-convert\" onclick=\"convertToInteractive('df-08ba403a-6636-4d79-8b02-e820abfd3ad5')\"\n",
              "              title=\"Convert this dataframe to an interactive table.\"\n",
              "              style=\"display:none;\">\n",
              "        \n",
              "  <svg xmlns=\"http://www.w3.org/2000/svg\" height=\"24px\"viewBox=\"0 0 24 24\"\n",
              "       width=\"24px\">\n",
              "    <path d=\"M0 0h24v24H0V0z\" fill=\"none\"/>\n",
              "    <path d=\"M18.56 5.44l.94 2.06.94-2.06 2.06-.94-2.06-.94-.94-2.06-.94 2.06-2.06.94zm-11 1L8.5 8.5l.94-2.06 2.06-.94-2.06-.94L8.5 2.5l-.94 2.06-2.06.94zm10 10l.94 2.06.94-2.06 2.06-.94-2.06-.94-.94-2.06-.94 2.06-2.06.94z\"/><path d=\"M17.41 7.96l-1.37-1.37c-.4-.4-.92-.59-1.43-.59-.52 0-1.04.2-1.43.59L10.3 9.45l-7.72 7.72c-.78.78-.78 2.05 0 2.83L4 21.41c.39.39.9.59 1.41.59.51 0 1.02-.2 1.41-.59l7.78-7.78 2.81-2.81c.8-.78.8-2.07 0-2.86zM5.41 20L4 18.59l7.72-7.72 1.47 1.35L5.41 20z\"/>\n",
              "  </svg>\n",
              "      </button>\n",
              "      \n",
              "  <style>\n",
              "    .colab-df-container {\n",
              "      display:flex;\n",
              "      flex-wrap:wrap;\n",
              "      gap: 12px;\n",
              "    }\n",
              "\n",
              "    .colab-df-convert {\n",
              "      background-color: #E8F0FE;\n",
              "      border: none;\n",
              "      border-radius: 50%;\n",
              "      cursor: pointer;\n",
              "      display: none;\n",
              "      fill: #1967D2;\n",
              "      height: 32px;\n",
              "      padding: 0 0 0 0;\n",
              "      width: 32px;\n",
              "    }\n",
              "\n",
              "    .colab-df-convert:hover {\n",
              "      background-color: #E2EBFA;\n",
              "      box-shadow: 0px 1px 2px rgba(60, 64, 67, 0.3), 0px 1px 3px 1px rgba(60, 64, 67, 0.15);\n",
              "      fill: #174EA6;\n",
              "    }\n",
              "\n",
              "    [theme=dark] .colab-df-convert {\n",
              "      background-color: #3B4455;\n",
              "      fill: #D2E3FC;\n",
              "    }\n",
              "\n",
              "    [theme=dark] .colab-df-convert:hover {\n",
              "      background-color: #434B5C;\n",
              "      box-shadow: 0px 1px 3px 1px rgba(0, 0, 0, 0.15);\n",
              "      filter: drop-shadow(0px 1px 2px rgba(0, 0, 0, 0.3));\n",
              "      fill: #FFFFFF;\n",
              "    }\n",
              "  </style>\n",
              "\n",
              "      <script>\n",
              "        const buttonEl =\n",
              "          document.querySelector('#df-08ba403a-6636-4d79-8b02-e820abfd3ad5 button.colab-df-convert');\n",
              "        buttonEl.style.display =\n",
              "          google.colab.kernel.accessAllowed ? 'block' : 'none';\n",
              "\n",
              "        async function convertToInteractive(key) {\n",
              "          const element = document.querySelector('#df-08ba403a-6636-4d79-8b02-e820abfd3ad5');\n",
              "          const dataTable =\n",
              "            await google.colab.kernel.invokeFunction('convertToInteractive',\n",
              "                                                     [key], {});\n",
              "          if (!dataTable) return;\n",
              "\n",
              "          const docLinkHtml = 'Like what you see? Visit the ' +\n",
              "            '<a target=\"_blank\" href=https://colab.research.google.com/notebooks/data_table.ipynb>data table notebook</a>'\n",
              "            + ' to learn more about interactive tables.';\n",
              "          element.innerHTML = '';\n",
              "          dataTable['output_type'] = 'display_data';\n",
              "          await google.colab.output.renderOutput(dataTable, element);\n",
              "          const docLink = document.createElement('div');\n",
              "          docLink.innerHTML = docLinkHtml;\n",
              "          element.appendChild(docLink);\n",
              "        }\n",
              "      </script>\n",
              "    </div>\n",
              "  </div>\n",
              "  "
            ]
          },
          "metadata": {},
          "execution_count": 13
        }
      ]
    },
    {
      "cell_type": "code",
      "source": [
        "df_ratings['Rating'].mean()"
      ],
      "metadata": {
        "colab": {
          "base_uri": "https://localhost:8080/"
        },
        "id": "pAPa9eyhYnkQ",
        "outputId": "541bf501-362b-491c-c0ea-02a8a55a80a4"
      },
      "execution_count": null,
      "outputs": [
        {
          "output_type": "execute_result",
          "data": {
            "text/plain": [
              "3.52986"
            ]
          },
          "metadata": {},
          "execution_count": 14
        }
      ]
    },
    {
      "cell_type": "code",
      "source": [
        "df_movies"
      ],
      "metadata": {
        "id": "-Vwh7cz2h6On",
        "colab": {
          "base_uri": "https://localhost:8080/",
          "height": 424
        },
        "outputId": "2be834e1-7b9c-4cad-c1f3-810aef0ab0ca"
      },
      "execution_count": null,
      "outputs": [
        {
          "output_type": "execute_result",
          "data": {
            "text/plain": [
              "      MovieID                                      Title  \\\n",
              "0           1                           Toy Story (1995)   \n",
              "1           2                           GoldenEye (1995)   \n",
              "2           3                          Four Rooms (1995)   \n",
              "3           4                          Get Shorty (1995)   \n",
              "4           5                             Copycat (1995)   \n",
              "...       ...                                        ...   \n",
              "1677     1678                          Mat' i syn (1997)   \n",
              "1678     1679                           B. Monkey (1998)   \n",
              "1679     1680                       Sliding Doors (1998)   \n",
              "1680     1681                        You So Crazy (1994)   \n",
              "1681     1682  Scream of Stone (Schrei aus Stein) (1991)   \n",
              "\n",
              "                           Genres  \n",
              "0     Animation|Children's|Comedy  \n",
              "1       Action|Adventure|Thriller  \n",
              "2                        Thriller  \n",
              "3             Action|Comedy|Drama  \n",
              "4            Crime|Drama|Thriller  \n",
              "...                           ...  \n",
              "1677                        Drama  \n",
              "1678             Romance|Thriller  \n",
              "1679                Drama|Romance  \n",
              "1680                       Comedy  \n",
              "1681                        Drama  \n",
              "\n",
              "[1682 rows x 3 columns]"
            ],
            "text/html": [
              "\n",
              "  <div id=\"df-d5f8de93-0062-400c-8c37-0aa38e10bf65\">\n",
              "    <div class=\"colab-df-container\">\n",
              "      <div>\n",
              "<style scoped>\n",
              "    .dataframe tbody tr th:only-of-type {\n",
              "        vertical-align: middle;\n",
              "    }\n",
              "\n",
              "    .dataframe tbody tr th {\n",
              "        vertical-align: top;\n",
              "    }\n",
              "\n",
              "    .dataframe thead th {\n",
              "        text-align: right;\n",
              "    }\n",
              "</style>\n",
              "<table border=\"1\" class=\"dataframe\">\n",
              "  <thead>\n",
              "    <tr style=\"text-align: right;\">\n",
              "      <th></th>\n",
              "      <th>MovieID</th>\n",
              "      <th>Title</th>\n",
              "      <th>Genres</th>\n",
              "    </tr>\n",
              "  </thead>\n",
              "  <tbody>\n",
              "    <tr>\n",
              "      <th>0</th>\n",
              "      <td>1</td>\n",
              "      <td>Toy Story (1995)</td>\n",
              "      <td>Animation|Children's|Comedy</td>\n",
              "    </tr>\n",
              "    <tr>\n",
              "      <th>1</th>\n",
              "      <td>2</td>\n",
              "      <td>GoldenEye (1995)</td>\n",
              "      <td>Action|Adventure|Thriller</td>\n",
              "    </tr>\n",
              "    <tr>\n",
              "      <th>2</th>\n",
              "      <td>3</td>\n",
              "      <td>Four Rooms (1995)</td>\n",
              "      <td>Thriller</td>\n",
              "    </tr>\n",
              "    <tr>\n",
              "      <th>3</th>\n",
              "      <td>4</td>\n",
              "      <td>Get Shorty (1995)</td>\n",
              "      <td>Action|Comedy|Drama</td>\n",
              "    </tr>\n",
              "    <tr>\n",
              "      <th>4</th>\n",
              "      <td>5</td>\n",
              "      <td>Copycat (1995)</td>\n",
              "      <td>Crime|Drama|Thriller</td>\n",
              "    </tr>\n",
              "    <tr>\n",
              "      <th>...</th>\n",
              "      <td>...</td>\n",
              "      <td>...</td>\n",
              "      <td>...</td>\n",
              "    </tr>\n",
              "    <tr>\n",
              "      <th>1677</th>\n",
              "      <td>1678</td>\n",
              "      <td>Mat' i syn (1997)</td>\n",
              "      <td>Drama</td>\n",
              "    </tr>\n",
              "    <tr>\n",
              "      <th>1678</th>\n",
              "      <td>1679</td>\n",
              "      <td>B. Monkey (1998)</td>\n",
              "      <td>Romance|Thriller</td>\n",
              "    </tr>\n",
              "    <tr>\n",
              "      <th>1679</th>\n",
              "      <td>1680</td>\n",
              "      <td>Sliding Doors (1998)</td>\n",
              "      <td>Drama|Romance</td>\n",
              "    </tr>\n",
              "    <tr>\n",
              "      <th>1680</th>\n",
              "      <td>1681</td>\n",
              "      <td>You So Crazy (1994)</td>\n",
              "      <td>Comedy</td>\n",
              "    </tr>\n",
              "    <tr>\n",
              "      <th>1681</th>\n",
              "      <td>1682</td>\n",
              "      <td>Scream of Stone (Schrei aus Stein) (1991)</td>\n",
              "      <td>Drama</td>\n",
              "    </tr>\n",
              "  </tbody>\n",
              "</table>\n",
              "<p>1682 rows × 3 columns</p>\n",
              "</div>\n",
              "      <button class=\"colab-df-convert\" onclick=\"convertToInteractive('df-d5f8de93-0062-400c-8c37-0aa38e10bf65')\"\n",
              "              title=\"Convert this dataframe to an interactive table.\"\n",
              "              style=\"display:none;\">\n",
              "        \n",
              "  <svg xmlns=\"http://www.w3.org/2000/svg\" height=\"24px\"viewBox=\"0 0 24 24\"\n",
              "       width=\"24px\">\n",
              "    <path d=\"M0 0h24v24H0V0z\" fill=\"none\"/>\n",
              "    <path d=\"M18.56 5.44l.94 2.06.94-2.06 2.06-.94-2.06-.94-.94-2.06-.94 2.06-2.06.94zm-11 1L8.5 8.5l.94-2.06 2.06-.94-2.06-.94L8.5 2.5l-.94 2.06-2.06.94zm10 10l.94 2.06.94-2.06 2.06-.94-2.06-.94-.94-2.06-.94 2.06-2.06.94z\"/><path d=\"M17.41 7.96l-1.37-1.37c-.4-.4-.92-.59-1.43-.59-.52 0-1.04.2-1.43.59L10.3 9.45l-7.72 7.72c-.78.78-.78 2.05 0 2.83L4 21.41c.39.39.9.59 1.41.59.51 0 1.02-.2 1.41-.59l7.78-7.78 2.81-2.81c.8-.78.8-2.07 0-2.86zM5.41 20L4 18.59l7.72-7.72 1.47 1.35L5.41 20z\"/>\n",
              "  </svg>\n",
              "      </button>\n",
              "      \n",
              "  <style>\n",
              "    .colab-df-container {\n",
              "      display:flex;\n",
              "      flex-wrap:wrap;\n",
              "      gap: 12px;\n",
              "    }\n",
              "\n",
              "    .colab-df-convert {\n",
              "      background-color: #E8F0FE;\n",
              "      border: none;\n",
              "      border-radius: 50%;\n",
              "      cursor: pointer;\n",
              "      display: none;\n",
              "      fill: #1967D2;\n",
              "      height: 32px;\n",
              "      padding: 0 0 0 0;\n",
              "      width: 32px;\n",
              "    }\n",
              "\n",
              "    .colab-df-convert:hover {\n",
              "      background-color: #E2EBFA;\n",
              "      box-shadow: 0px 1px 2px rgba(60, 64, 67, 0.3), 0px 1px 3px 1px rgba(60, 64, 67, 0.15);\n",
              "      fill: #174EA6;\n",
              "    }\n",
              "\n",
              "    [theme=dark] .colab-df-convert {\n",
              "      background-color: #3B4455;\n",
              "      fill: #D2E3FC;\n",
              "    }\n",
              "\n",
              "    [theme=dark] .colab-df-convert:hover {\n",
              "      background-color: #434B5C;\n",
              "      box-shadow: 0px 1px 3px 1px rgba(0, 0, 0, 0.15);\n",
              "      filter: drop-shadow(0px 1px 2px rgba(0, 0, 0, 0.3));\n",
              "      fill: #FFFFFF;\n",
              "    }\n",
              "  </style>\n",
              "\n",
              "      <script>\n",
              "        const buttonEl =\n",
              "          document.querySelector('#df-d5f8de93-0062-400c-8c37-0aa38e10bf65 button.colab-df-convert');\n",
              "        buttonEl.style.display =\n",
              "          google.colab.kernel.accessAllowed ? 'block' : 'none';\n",
              "\n",
              "        async function convertToInteractive(key) {\n",
              "          const element = document.querySelector('#df-d5f8de93-0062-400c-8c37-0aa38e10bf65');\n",
              "          const dataTable =\n",
              "            await google.colab.kernel.invokeFunction('convertToInteractive',\n",
              "                                                     [key], {});\n",
              "          if (!dataTable) return;\n",
              "\n",
              "          const docLinkHtml = 'Like what you see? Visit the ' +\n",
              "            '<a target=\"_blank\" href=https://colab.research.google.com/notebooks/data_table.ipynb>data table notebook</a>'\n",
              "            + ' to learn more about interactive tables.';\n",
              "          element.innerHTML = '';\n",
              "          dataTable['output_type'] = 'display_data';\n",
              "          await google.colab.output.renderOutput(dataTable, element);\n",
              "          const docLink = document.createElement('div');\n",
              "          docLink.innerHTML = docLinkHtml;\n",
              "          element.appendChild(docLink);\n",
              "        }\n",
              "      </script>\n",
              "    </div>\n",
              "  </div>\n",
              "  "
            ]
          },
          "metadata": {},
          "execution_count": 15
        }
      ]
    },
    {
      "cell_type": "code",
      "source": [
        "df_users"
      ],
      "metadata": {
        "id": "TQpYRN-2h6Qx",
        "colab": {
          "base_uri": "https://localhost:8080/",
          "height": 424
        },
        "outputId": "0a929e58-b311-48fd-923c-0036236621e4"
      },
      "execution_count": null,
      "outputs": [
        {
          "output_type": "execute_result",
          "data": {
            "text/plain": [
              "     UserID  Age Gender     Occupation Zip-code\n",
              "0         1   24      M     technician    85711\n",
              "1         2   53      F          other    94043\n",
              "2         3   23      M         writer    32067\n",
              "3         4   24      M     technician    43537\n",
              "4         5   33      F          other    15213\n",
              "..      ...  ...    ...            ...      ...\n",
              "938     939   26      F        student    33319\n",
              "939     940   32      M  administrator    02215\n",
              "940     941   20      M        student    97229\n",
              "941     942   48      F      librarian    78209\n",
              "942     943   22      M        student    77841\n",
              "\n",
              "[943 rows x 5 columns]"
            ],
            "text/html": [
              "\n",
              "  <div id=\"df-02c0b8e1-ce68-4079-92c3-cdd904ba39f8\">\n",
              "    <div class=\"colab-df-container\">\n",
              "      <div>\n",
              "<style scoped>\n",
              "    .dataframe tbody tr th:only-of-type {\n",
              "        vertical-align: middle;\n",
              "    }\n",
              "\n",
              "    .dataframe tbody tr th {\n",
              "        vertical-align: top;\n",
              "    }\n",
              "\n",
              "    .dataframe thead th {\n",
              "        text-align: right;\n",
              "    }\n",
              "</style>\n",
              "<table border=\"1\" class=\"dataframe\">\n",
              "  <thead>\n",
              "    <tr style=\"text-align: right;\">\n",
              "      <th></th>\n",
              "      <th>UserID</th>\n",
              "      <th>Age</th>\n",
              "      <th>Gender</th>\n",
              "      <th>Occupation</th>\n",
              "      <th>Zip-code</th>\n",
              "    </tr>\n",
              "  </thead>\n",
              "  <tbody>\n",
              "    <tr>\n",
              "      <th>0</th>\n",
              "      <td>1</td>\n",
              "      <td>24</td>\n",
              "      <td>M</td>\n",
              "      <td>technician</td>\n",
              "      <td>85711</td>\n",
              "    </tr>\n",
              "    <tr>\n",
              "      <th>1</th>\n",
              "      <td>2</td>\n",
              "      <td>53</td>\n",
              "      <td>F</td>\n",
              "      <td>other</td>\n",
              "      <td>94043</td>\n",
              "    </tr>\n",
              "    <tr>\n",
              "      <th>2</th>\n",
              "      <td>3</td>\n",
              "      <td>23</td>\n",
              "      <td>M</td>\n",
              "      <td>writer</td>\n",
              "      <td>32067</td>\n",
              "    </tr>\n",
              "    <tr>\n",
              "      <th>3</th>\n",
              "      <td>4</td>\n",
              "      <td>24</td>\n",
              "      <td>M</td>\n",
              "      <td>technician</td>\n",
              "      <td>43537</td>\n",
              "    </tr>\n",
              "    <tr>\n",
              "      <th>4</th>\n",
              "      <td>5</td>\n",
              "      <td>33</td>\n",
              "      <td>F</td>\n",
              "      <td>other</td>\n",
              "      <td>15213</td>\n",
              "    </tr>\n",
              "    <tr>\n",
              "      <th>...</th>\n",
              "      <td>...</td>\n",
              "      <td>...</td>\n",
              "      <td>...</td>\n",
              "      <td>...</td>\n",
              "      <td>...</td>\n",
              "    </tr>\n",
              "    <tr>\n",
              "      <th>938</th>\n",
              "      <td>939</td>\n",
              "      <td>26</td>\n",
              "      <td>F</td>\n",
              "      <td>student</td>\n",
              "      <td>33319</td>\n",
              "    </tr>\n",
              "    <tr>\n",
              "      <th>939</th>\n",
              "      <td>940</td>\n",
              "      <td>32</td>\n",
              "      <td>M</td>\n",
              "      <td>administrator</td>\n",
              "      <td>02215</td>\n",
              "    </tr>\n",
              "    <tr>\n",
              "      <th>940</th>\n",
              "      <td>941</td>\n",
              "      <td>20</td>\n",
              "      <td>M</td>\n",
              "      <td>student</td>\n",
              "      <td>97229</td>\n",
              "    </tr>\n",
              "    <tr>\n",
              "      <th>941</th>\n",
              "      <td>942</td>\n",
              "      <td>48</td>\n",
              "      <td>F</td>\n",
              "      <td>librarian</td>\n",
              "      <td>78209</td>\n",
              "    </tr>\n",
              "    <tr>\n",
              "      <th>942</th>\n",
              "      <td>943</td>\n",
              "      <td>22</td>\n",
              "      <td>M</td>\n",
              "      <td>student</td>\n",
              "      <td>77841</td>\n",
              "    </tr>\n",
              "  </tbody>\n",
              "</table>\n",
              "<p>943 rows × 5 columns</p>\n",
              "</div>\n",
              "      <button class=\"colab-df-convert\" onclick=\"convertToInteractive('df-02c0b8e1-ce68-4079-92c3-cdd904ba39f8')\"\n",
              "              title=\"Convert this dataframe to an interactive table.\"\n",
              "              style=\"display:none;\">\n",
              "        \n",
              "  <svg xmlns=\"http://www.w3.org/2000/svg\" height=\"24px\"viewBox=\"0 0 24 24\"\n",
              "       width=\"24px\">\n",
              "    <path d=\"M0 0h24v24H0V0z\" fill=\"none\"/>\n",
              "    <path d=\"M18.56 5.44l.94 2.06.94-2.06 2.06-.94-2.06-.94-.94-2.06-.94 2.06-2.06.94zm-11 1L8.5 8.5l.94-2.06 2.06-.94-2.06-.94L8.5 2.5l-.94 2.06-2.06.94zm10 10l.94 2.06.94-2.06 2.06-.94-2.06-.94-.94-2.06-.94 2.06-2.06.94z\"/><path d=\"M17.41 7.96l-1.37-1.37c-.4-.4-.92-.59-1.43-.59-.52 0-1.04.2-1.43.59L10.3 9.45l-7.72 7.72c-.78.78-.78 2.05 0 2.83L4 21.41c.39.39.9.59 1.41.59.51 0 1.02-.2 1.41-.59l7.78-7.78 2.81-2.81c.8-.78.8-2.07 0-2.86zM5.41 20L4 18.59l7.72-7.72 1.47 1.35L5.41 20z\"/>\n",
              "  </svg>\n",
              "      </button>\n",
              "      \n",
              "  <style>\n",
              "    .colab-df-container {\n",
              "      display:flex;\n",
              "      flex-wrap:wrap;\n",
              "      gap: 12px;\n",
              "    }\n",
              "\n",
              "    .colab-df-convert {\n",
              "      background-color: #E8F0FE;\n",
              "      border: none;\n",
              "      border-radius: 50%;\n",
              "      cursor: pointer;\n",
              "      display: none;\n",
              "      fill: #1967D2;\n",
              "      height: 32px;\n",
              "      padding: 0 0 0 0;\n",
              "      width: 32px;\n",
              "    }\n",
              "\n",
              "    .colab-df-convert:hover {\n",
              "      background-color: #E2EBFA;\n",
              "      box-shadow: 0px 1px 2px rgba(60, 64, 67, 0.3), 0px 1px 3px 1px rgba(60, 64, 67, 0.15);\n",
              "      fill: #174EA6;\n",
              "    }\n",
              "\n",
              "    [theme=dark] .colab-df-convert {\n",
              "      background-color: #3B4455;\n",
              "      fill: #D2E3FC;\n",
              "    }\n",
              "\n",
              "    [theme=dark] .colab-df-convert:hover {\n",
              "      background-color: #434B5C;\n",
              "      box-shadow: 0px 1px 3px 1px rgba(0, 0, 0, 0.15);\n",
              "      filter: drop-shadow(0px 1px 2px rgba(0, 0, 0, 0.3));\n",
              "      fill: #FFFFFF;\n",
              "    }\n",
              "  </style>\n",
              "\n",
              "      <script>\n",
              "        const buttonEl =\n",
              "          document.querySelector('#df-02c0b8e1-ce68-4079-92c3-cdd904ba39f8 button.colab-df-convert');\n",
              "        buttonEl.style.display =\n",
              "          google.colab.kernel.accessAllowed ? 'block' : 'none';\n",
              "\n",
              "        async function convertToInteractive(key) {\n",
              "          const element = document.querySelector('#df-02c0b8e1-ce68-4079-92c3-cdd904ba39f8');\n",
              "          const dataTable =\n",
              "            await google.colab.kernel.invokeFunction('convertToInteractive',\n",
              "                                                     [key], {});\n",
              "          if (!dataTable) return;\n",
              "\n",
              "          const docLinkHtml = 'Like what you see? Visit the ' +\n",
              "            '<a target=\"_blank\" href=https://colab.research.google.com/notebooks/data_table.ipynb>data table notebook</a>'\n",
              "            + ' to learn more about interactive tables.';\n",
              "          element.innerHTML = '';\n",
              "          dataTable['output_type'] = 'display_data';\n",
              "          await google.colab.output.renderOutput(dataTable, element);\n",
              "          const docLink = document.createElement('div');\n",
              "          docLink.innerHTML = docLinkHtml;\n",
              "          element.appendChild(docLink);\n",
              "        }\n",
              "      </script>\n",
              "    </div>\n",
              "  </div>\n",
              "  "
            ]
          },
          "metadata": {},
          "execution_count": 16
        }
      ]
    },
    {
      "cell_type": "code",
      "source": [
        "df_users.loc[df_users['Occupation']==0]"
      ],
      "metadata": {
        "colab": {
          "base_uri": "https://localhost:8080/",
          "height": 49
        },
        "id": "y8wSyXUpU2uM",
        "outputId": "3f5dab1e-510b-435d-cbde-16fe978c39ba"
      },
      "execution_count": null,
      "outputs": [
        {
          "output_type": "execute_result",
          "data": {
            "text/plain": [
              "Empty DataFrame\n",
              "Columns: [UserID, Age, Gender, Occupation, Zip-code]\n",
              "Index: []"
            ],
            "text/html": [
              "\n",
              "  <div id=\"df-dc793e81-daf3-4756-8d74-07a79c386d70\">\n",
              "    <div class=\"colab-df-container\">\n",
              "      <div>\n",
              "<style scoped>\n",
              "    .dataframe tbody tr th:only-of-type {\n",
              "        vertical-align: middle;\n",
              "    }\n",
              "\n",
              "    .dataframe tbody tr th {\n",
              "        vertical-align: top;\n",
              "    }\n",
              "\n",
              "    .dataframe thead th {\n",
              "        text-align: right;\n",
              "    }\n",
              "</style>\n",
              "<table border=\"1\" class=\"dataframe\">\n",
              "  <thead>\n",
              "    <tr style=\"text-align: right;\">\n",
              "      <th></th>\n",
              "      <th>UserID</th>\n",
              "      <th>Age</th>\n",
              "      <th>Gender</th>\n",
              "      <th>Occupation</th>\n",
              "      <th>Zip-code</th>\n",
              "    </tr>\n",
              "  </thead>\n",
              "  <tbody>\n",
              "  </tbody>\n",
              "</table>\n",
              "</div>\n",
              "      <button class=\"colab-df-convert\" onclick=\"convertToInteractive('df-dc793e81-daf3-4756-8d74-07a79c386d70')\"\n",
              "              title=\"Convert this dataframe to an interactive table.\"\n",
              "              style=\"display:none;\">\n",
              "        \n",
              "  <svg xmlns=\"http://www.w3.org/2000/svg\" height=\"24px\"viewBox=\"0 0 24 24\"\n",
              "       width=\"24px\">\n",
              "    <path d=\"M0 0h24v24H0V0z\" fill=\"none\"/>\n",
              "    <path d=\"M18.56 5.44l.94 2.06.94-2.06 2.06-.94-2.06-.94-.94-2.06-.94 2.06-2.06.94zm-11 1L8.5 8.5l.94-2.06 2.06-.94-2.06-.94L8.5 2.5l-.94 2.06-2.06.94zm10 10l.94 2.06.94-2.06 2.06-.94-2.06-.94-.94-2.06-.94 2.06-2.06.94z\"/><path d=\"M17.41 7.96l-1.37-1.37c-.4-.4-.92-.59-1.43-.59-.52 0-1.04.2-1.43.59L10.3 9.45l-7.72 7.72c-.78.78-.78 2.05 0 2.83L4 21.41c.39.39.9.59 1.41.59.51 0 1.02-.2 1.41-.59l7.78-7.78 2.81-2.81c.8-.78.8-2.07 0-2.86zM5.41 20L4 18.59l7.72-7.72 1.47 1.35L5.41 20z\"/>\n",
              "  </svg>\n",
              "      </button>\n",
              "      \n",
              "  <style>\n",
              "    .colab-df-container {\n",
              "      display:flex;\n",
              "      flex-wrap:wrap;\n",
              "      gap: 12px;\n",
              "    }\n",
              "\n",
              "    .colab-df-convert {\n",
              "      background-color: #E8F0FE;\n",
              "      border: none;\n",
              "      border-radius: 50%;\n",
              "      cursor: pointer;\n",
              "      display: none;\n",
              "      fill: #1967D2;\n",
              "      height: 32px;\n",
              "      padding: 0 0 0 0;\n",
              "      width: 32px;\n",
              "    }\n",
              "\n",
              "    .colab-df-convert:hover {\n",
              "      background-color: #E2EBFA;\n",
              "      box-shadow: 0px 1px 2px rgba(60, 64, 67, 0.3), 0px 1px 3px 1px rgba(60, 64, 67, 0.15);\n",
              "      fill: #174EA6;\n",
              "    }\n",
              "\n",
              "    [theme=dark] .colab-df-convert {\n",
              "      background-color: #3B4455;\n",
              "      fill: #D2E3FC;\n",
              "    }\n",
              "\n",
              "    [theme=dark] .colab-df-convert:hover {\n",
              "      background-color: #434B5C;\n",
              "      box-shadow: 0px 1px 3px 1px rgba(0, 0, 0, 0.15);\n",
              "      filter: drop-shadow(0px 1px 2px rgba(0, 0, 0, 0.3));\n",
              "      fill: #FFFFFF;\n",
              "    }\n",
              "  </style>\n",
              "\n",
              "      <script>\n",
              "        const buttonEl =\n",
              "          document.querySelector('#df-dc793e81-daf3-4756-8d74-07a79c386d70 button.colab-df-convert');\n",
              "        buttonEl.style.display =\n",
              "          google.colab.kernel.accessAllowed ? 'block' : 'none';\n",
              "\n",
              "        async function convertToInteractive(key) {\n",
              "          const element = document.querySelector('#df-dc793e81-daf3-4756-8d74-07a79c386d70');\n",
              "          const dataTable =\n",
              "            await google.colab.kernel.invokeFunction('convertToInteractive',\n",
              "                                                     [key], {});\n",
              "          if (!dataTable) return;\n",
              "\n",
              "          const docLinkHtml = 'Like what you see? Visit the ' +\n",
              "            '<a target=\"_blank\" href=https://colab.research.google.com/notebooks/data_table.ipynb>data table notebook</a>'\n",
              "            + ' to learn more about interactive tables.';\n",
              "          element.innerHTML = '';\n",
              "          dataTable['output_type'] = 'display_data';\n",
              "          await google.colab.output.renderOutput(dataTable, element);\n",
              "          const docLink = document.createElement('div');\n",
              "          docLink.innerHTML = docLinkHtml;\n",
              "          element.appendChild(docLink);\n",
              "        }\n",
              "      </script>\n",
              "    </div>\n",
              "  </div>\n",
              "  "
            ]
          },
          "metadata": {},
          "execution_count": 17
        }
      ]
    },
    {
      "cell_type": "markdown",
      "source": [],
      "metadata": {
        "id": "y4WhKSVv3mg_"
      }
    },
    {
      "cell_type": "code",
      "source": [
        "df_ratings.isna().sum()"
      ],
      "metadata": {
        "colab": {
          "base_uri": "https://localhost:8080/"
        },
        "id": "VPd3VPNG68SU",
        "outputId": "7c397045-9d71-4897-b7f8-43a01844cd56"
      },
      "execution_count": null,
      "outputs": [
        {
          "output_type": "execute_result",
          "data": {
            "text/plain": [
              "UserID       0\n",
              "MovieID      0\n",
              "Rating       0\n",
              "Timestamp    0\n",
              "dtype: int64"
            ]
          },
          "metadata": {},
          "execution_count": 18
        }
      ]
    },
    {
      "cell_type": "code",
      "source": [
        "df_movies.isna().sum()"
      ],
      "metadata": {
        "colab": {
          "base_uri": "https://localhost:8080/"
        },
        "id": "4WI3o9mj68PL",
        "outputId": "9bd9f35c-748b-4331-eab3-bc6a47ebf12e"
      },
      "execution_count": null,
      "outputs": [
        {
          "output_type": "execute_result",
          "data": {
            "text/plain": [
              "MovieID    0\n",
              "Title      0\n",
              "Genres     0\n",
              "dtype: int64"
            ]
          },
          "metadata": {},
          "execution_count": 19
        }
      ]
    },
    {
      "cell_type": "code",
      "source": [
        "df_users.isna().sum()"
      ],
      "metadata": {
        "colab": {
          "base_uri": "https://localhost:8080/"
        },
        "id": "W1SSQ6Ro68J7",
        "outputId": "1e06c382-159c-4a7d-cf57-a4a29488c9a4"
      },
      "execution_count": null,
      "outputs": [
        {
          "output_type": "execute_result",
          "data": {
            "text/plain": [
              "UserID        0\n",
              "Age           0\n",
              "Gender        0\n",
              "Occupation    0\n",
              "Zip-code      0\n",
              "dtype: int64"
            ]
          },
          "metadata": {},
          "execution_count": 20
        }
      ]
    },
    {
      "cell_type": "code",
      "source": [
        "df_ratings['Rating'].describe()"
      ],
      "metadata": {
        "colab": {
          "base_uri": "https://localhost:8080/"
        },
        "id": "Tzfbgiy65Gvy",
        "outputId": "a4a3d7e8-e559-4e08-e477-3ce32f8e86bd"
      },
      "execution_count": null,
      "outputs": [
        {
          "output_type": "execute_result",
          "data": {
            "text/plain": [
              "count    100000.000000\n",
              "mean          3.529860\n",
              "std           1.125674\n",
              "min           1.000000\n",
              "25%           3.000000\n",
              "50%           4.000000\n",
              "75%           4.000000\n",
              "max           5.000000\n",
              "Name: Rating, dtype: float64"
            ]
          },
          "metadata": {},
          "execution_count": 21
        }
      ]
    },
    {
      "cell_type": "markdown",
      "source": [
        "## **Data Preprocessing**"
      ],
      "metadata": {
        "id": "vzTsj6UhBcJq"
      }
    },
    {
      "cell_type": "markdown",
      "source": [
        "Remove features that are not necessary"
      ],
      "metadata": {
        "id": "Ko98cODnh58G"
      }
    },
    {
      "cell_type": "code",
      "source": [
        "df_ratings.drop('Timestamp', axis=1, inplace=True)"
      ],
      "metadata": {
        "id": "NE4mxStMh6XR"
      },
      "execution_count": null,
      "outputs": []
    },
    {
      "cell_type": "markdown",
      "source": [
        "Preprocessing 'Title' and 'Genre' column of df_movies dataset"
      ],
      "metadata": {
        "id": "CIG9UBK--4ya"
      }
    },
    {
      "cell_type": "code",
      "source": [
        "def year(x):\n",
        "  x = re.findall('\\d{4}', x)\n",
        "  if len(x) == 0:\n",
        "    return 0\n",
        "  else:\n",
        "    return x[0]"
      ],
      "metadata": {
        "id": "xZfk8zTHzwWn"
      },
      "execution_count": null,
      "outputs": []
    },
    {
      "cell_type": "code",
      "source": [
        "df_movies['Year'] = df_movies['Title'].apply(year)"
      ],
      "metadata": {
        "id": "q9y_Lau3zwTc"
      },
      "execution_count": null,
      "outputs": []
    },
    {
      "cell_type": "code",
      "source": [
        "def title(x):\n",
        "  x = re.sub('(\\d{4})', '', x)\n",
        "  x = re.sub('\\([^)]*\\)', '', x)\n",
        "  x = re.sub('[^a-zA-Z]+', ' ', x)\n",
        "  x = re.sub(\"'\", '', x)\n",
        "  x = re.sub(r'\\\\s+', ' ', x)\n",
        "  return x"
      ],
      "metadata": {
        "id": "uFz1jR4SzwP4"
      },
      "execution_count": null,
      "outputs": []
    },
    {
      "cell_type": "code",
      "source": [
        "df_movies['Title'] = df_movies['Title'].apply(title)\n",
        "df_movies['Genres'] = df_movies['Genres'].apply(title)"
      ],
      "metadata": {
        "id": "rb60i8QmzwNI"
      },
      "execution_count": null,
      "outputs": []
    },
    {
      "cell_type": "code",
      "source": [
        "df_movies"
      ],
      "metadata": {
        "colab": {
          "base_uri": "https://localhost:8080/",
          "height": 424
        },
        "id": "P8KC23iV_nTJ",
        "outputId": "398ead2c-b04e-4769-e6d8-2e6d468e5dfd"
      },
      "execution_count": null,
      "outputs": [
        {
          "output_type": "execute_result",
          "data": {
            "text/plain": [
              "      MovieID             Title                       Genres  Year\n",
              "0           1        Toy Story   Animation Children s Comedy  1995\n",
              "1           2        GoldenEye     Action Adventure Thriller  1995\n",
              "2           3       Four Rooms                      Thriller  1995\n",
              "3           4       Get Shorty           Action Comedy Drama  1995\n",
              "4           5          Copycat          Crime Drama Thriller  1995\n",
              "...       ...               ...                          ...   ...\n",
              "1677     1678        Mat i syn                         Drama  1997\n",
              "1678     1679         B Monkey              Romance Thriller  1998\n",
              "1679     1680    Sliding Doors                 Drama Romance  1998\n",
              "1680     1681     You So Crazy                        Comedy  1994\n",
              "1681     1682  Scream of Stone                         Drama  1991\n",
              "\n",
              "[1682 rows x 4 columns]"
            ],
            "text/html": [
              "\n",
              "  <div id=\"df-0d18d94d-ff21-4251-a702-7b052cb25cba\">\n",
              "    <div class=\"colab-df-container\">\n",
              "      <div>\n",
              "<style scoped>\n",
              "    .dataframe tbody tr th:only-of-type {\n",
              "        vertical-align: middle;\n",
              "    }\n",
              "\n",
              "    .dataframe tbody tr th {\n",
              "        vertical-align: top;\n",
              "    }\n",
              "\n",
              "    .dataframe thead th {\n",
              "        text-align: right;\n",
              "    }\n",
              "</style>\n",
              "<table border=\"1\" class=\"dataframe\">\n",
              "  <thead>\n",
              "    <tr style=\"text-align: right;\">\n",
              "      <th></th>\n",
              "      <th>MovieID</th>\n",
              "      <th>Title</th>\n",
              "      <th>Genres</th>\n",
              "      <th>Year</th>\n",
              "    </tr>\n",
              "  </thead>\n",
              "  <tbody>\n",
              "    <tr>\n",
              "      <th>0</th>\n",
              "      <td>1</td>\n",
              "      <td>Toy Story</td>\n",
              "      <td>Animation Children s Comedy</td>\n",
              "      <td>1995</td>\n",
              "    </tr>\n",
              "    <tr>\n",
              "      <th>1</th>\n",
              "      <td>2</td>\n",
              "      <td>GoldenEye</td>\n",
              "      <td>Action Adventure Thriller</td>\n",
              "      <td>1995</td>\n",
              "    </tr>\n",
              "    <tr>\n",
              "      <th>2</th>\n",
              "      <td>3</td>\n",
              "      <td>Four Rooms</td>\n",
              "      <td>Thriller</td>\n",
              "      <td>1995</td>\n",
              "    </tr>\n",
              "    <tr>\n",
              "      <th>3</th>\n",
              "      <td>4</td>\n",
              "      <td>Get Shorty</td>\n",
              "      <td>Action Comedy Drama</td>\n",
              "      <td>1995</td>\n",
              "    </tr>\n",
              "    <tr>\n",
              "      <th>4</th>\n",
              "      <td>5</td>\n",
              "      <td>Copycat</td>\n",
              "      <td>Crime Drama Thriller</td>\n",
              "      <td>1995</td>\n",
              "    </tr>\n",
              "    <tr>\n",
              "      <th>...</th>\n",
              "      <td>...</td>\n",
              "      <td>...</td>\n",
              "      <td>...</td>\n",
              "      <td>...</td>\n",
              "    </tr>\n",
              "    <tr>\n",
              "      <th>1677</th>\n",
              "      <td>1678</td>\n",
              "      <td>Mat i syn</td>\n",
              "      <td>Drama</td>\n",
              "      <td>1997</td>\n",
              "    </tr>\n",
              "    <tr>\n",
              "      <th>1678</th>\n",
              "      <td>1679</td>\n",
              "      <td>B Monkey</td>\n",
              "      <td>Romance Thriller</td>\n",
              "      <td>1998</td>\n",
              "    </tr>\n",
              "    <tr>\n",
              "      <th>1679</th>\n",
              "      <td>1680</td>\n",
              "      <td>Sliding Doors</td>\n",
              "      <td>Drama Romance</td>\n",
              "      <td>1998</td>\n",
              "    </tr>\n",
              "    <tr>\n",
              "      <th>1680</th>\n",
              "      <td>1681</td>\n",
              "      <td>You So Crazy</td>\n",
              "      <td>Comedy</td>\n",
              "      <td>1994</td>\n",
              "    </tr>\n",
              "    <tr>\n",
              "      <th>1681</th>\n",
              "      <td>1682</td>\n",
              "      <td>Scream of Stone</td>\n",
              "      <td>Drama</td>\n",
              "      <td>1991</td>\n",
              "    </tr>\n",
              "  </tbody>\n",
              "</table>\n",
              "<p>1682 rows × 4 columns</p>\n",
              "</div>\n",
              "      <button class=\"colab-df-convert\" onclick=\"convertToInteractive('df-0d18d94d-ff21-4251-a702-7b052cb25cba')\"\n",
              "              title=\"Convert this dataframe to an interactive table.\"\n",
              "              style=\"display:none;\">\n",
              "        \n",
              "  <svg xmlns=\"http://www.w3.org/2000/svg\" height=\"24px\"viewBox=\"0 0 24 24\"\n",
              "       width=\"24px\">\n",
              "    <path d=\"M0 0h24v24H0V0z\" fill=\"none\"/>\n",
              "    <path d=\"M18.56 5.44l.94 2.06.94-2.06 2.06-.94-2.06-.94-.94-2.06-.94 2.06-2.06.94zm-11 1L8.5 8.5l.94-2.06 2.06-.94-2.06-.94L8.5 2.5l-.94 2.06-2.06.94zm10 10l.94 2.06.94-2.06 2.06-.94-2.06-.94-.94-2.06-.94 2.06-2.06.94z\"/><path d=\"M17.41 7.96l-1.37-1.37c-.4-.4-.92-.59-1.43-.59-.52 0-1.04.2-1.43.59L10.3 9.45l-7.72 7.72c-.78.78-.78 2.05 0 2.83L4 21.41c.39.39.9.59 1.41.59.51 0 1.02-.2 1.41-.59l7.78-7.78 2.81-2.81c.8-.78.8-2.07 0-2.86zM5.41 20L4 18.59l7.72-7.72 1.47 1.35L5.41 20z\"/>\n",
              "  </svg>\n",
              "      </button>\n",
              "      \n",
              "  <style>\n",
              "    .colab-df-container {\n",
              "      display:flex;\n",
              "      flex-wrap:wrap;\n",
              "      gap: 12px;\n",
              "    }\n",
              "\n",
              "    .colab-df-convert {\n",
              "      background-color: #E8F0FE;\n",
              "      border: none;\n",
              "      border-radius: 50%;\n",
              "      cursor: pointer;\n",
              "      display: none;\n",
              "      fill: #1967D2;\n",
              "      height: 32px;\n",
              "      padding: 0 0 0 0;\n",
              "      width: 32px;\n",
              "    }\n",
              "\n",
              "    .colab-df-convert:hover {\n",
              "      background-color: #E2EBFA;\n",
              "      box-shadow: 0px 1px 2px rgba(60, 64, 67, 0.3), 0px 1px 3px 1px rgba(60, 64, 67, 0.15);\n",
              "      fill: #174EA6;\n",
              "    }\n",
              "\n",
              "    [theme=dark] .colab-df-convert {\n",
              "      background-color: #3B4455;\n",
              "      fill: #D2E3FC;\n",
              "    }\n",
              "\n",
              "    [theme=dark] .colab-df-convert:hover {\n",
              "      background-color: #434B5C;\n",
              "      box-shadow: 0px 1px 3px 1px rgba(0, 0, 0, 0.15);\n",
              "      filter: drop-shadow(0px 1px 2px rgba(0, 0, 0, 0.3));\n",
              "      fill: #FFFFFF;\n",
              "    }\n",
              "  </style>\n",
              "\n",
              "      <script>\n",
              "        const buttonEl =\n",
              "          document.querySelector('#df-0d18d94d-ff21-4251-a702-7b052cb25cba button.colab-df-convert');\n",
              "        buttonEl.style.display =\n",
              "          google.colab.kernel.accessAllowed ? 'block' : 'none';\n",
              "\n",
              "        async function convertToInteractive(key) {\n",
              "          const element = document.querySelector('#df-0d18d94d-ff21-4251-a702-7b052cb25cba');\n",
              "          const dataTable =\n",
              "            await google.colab.kernel.invokeFunction('convertToInteractive',\n",
              "                                                     [key], {});\n",
              "          if (!dataTable) return;\n",
              "\n",
              "          const docLinkHtml = 'Like what you see? Visit the ' +\n",
              "            '<a target=\"_blank\" href=https://colab.research.google.com/notebooks/data_table.ipynb>data table notebook</a>'\n",
              "            + ' to learn more about interactive tables.';\n",
              "          element.innerHTML = '';\n",
              "          dataTable['output_type'] = 'display_data';\n",
              "          await google.colab.output.renderOutput(dataTable, element);\n",
              "          const docLink = document.createElement('div');\n",
              "          docLink.innerHTML = docLinkHtml;\n",
              "          element.appendChild(docLink);\n",
              "        }\n",
              "      </script>\n",
              "    </div>\n",
              "  </div>\n",
              "  "
            ]
          },
          "metadata": {},
          "execution_count": 62
        }
      ]
    },
    {
      "cell_type": "markdown",
      "source": [
        "Preprocessing 'Gender' and 'Occupation' column of df_users dataset"
      ],
      "metadata": {
        "id": "OPe4YgBH_wK8"
      }
    },
    {
      "cell_type": "code",
      "source": [
        "df_users['Gender'] = df_users['Gender'].replace({'M': 'Male', 'F': 'Female'})"
      ],
      "metadata": {
        "id": "c9FwZa9t_vyx"
      },
      "execution_count": null,
      "outputs": []
    },
    {
      "cell_type": "code",
      "source": [
        "import re\n",
        "\n",
        "def pre(x):\n",
        "  x = re.sub('[^a-zA-Z]+', ' ', x)\n",
        "  x = re.sub(\"'\", '', x)\n",
        "  x = re.sub(r'\\\\s+', ' ', x)\n",
        "  return x\n",
        "df_users['Occupation'] = df_users['Occupation'].apply(pre)"
      ],
      "metadata": {
        "id": "F9e8Juqs_vpe"
      },
      "execution_count": null,
      "outputs": []
    },
    {
      "cell_type": "code",
      "source": [
        "df_users"
      ],
      "metadata": {
        "colab": {
          "base_uri": "https://localhost:8080/",
          "height": 424
        },
        "id": "Wi9auYpAATii",
        "outputId": "5e074015-b066-4a6f-c27b-ebb75af522c0"
      },
      "execution_count": null,
      "outputs": [
        {
          "output_type": "execute_result",
          "data": {
            "text/plain": [
              "     UserID  Age  Gender     Occupation Zip-code\n",
              "0         1   24    Male     technician    85711\n",
              "1         2   53  Female          other    94043\n",
              "2         3   23    Male         writer    32067\n",
              "3         4   24    Male     technician    43537\n",
              "4         5   33  Female          other    15213\n",
              "..      ...  ...     ...            ...      ...\n",
              "938     939   26  Female        student    33319\n",
              "939     940   32    Male  administrator    02215\n",
              "940     941   20    Male        student    97229\n",
              "941     942   48  Female      librarian    78209\n",
              "942     943   22    Male        student    77841\n",
              "\n",
              "[943 rows x 5 columns]"
            ],
            "text/html": [
              "\n",
              "  <div id=\"df-5c15c935-c14c-47a6-9743-970545f53964\">\n",
              "    <div class=\"colab-df-container\">\n",
              "      <div>\n",
              "<style scoped>\n",
              "    .dataframe tbody tr th:only-of-type {\n",
              "        vertical-align: middle;\n",
              "    }\n",
              "\n",
              "    .dataframe tbody tr th {\n",
              "        vertical-align: top;\n",
              "    }\n",
              "\n",
              "    .dataframe thead th {\n",
              "        text-align: right;\n",
              "    }\n",
              "</style>\n",
              "<table border=\"1\" class=\"dataframe\">\n",
              "  <thead>\n",
              "    <tr style=\"text-align: right;\">\n",
              "      <th></th>\n",
              "      <th>UserID</th>\n",
              "      <th>Age</th>\n",
              "      <th>Gender</th>\n",
              "      <th>Occupation</th>\n",
              "      <th>Zip-code</th>\n",
              "    </tr>\n",
              "  </thead>\n",
              "  <tbody>\n",
              "    <tr>\n",
              "      <th>0</th>\n",
              "      <td>1</td>\n",
              "      <td>24</td>\n",
              "      <td>Male</td>\n",
              "      <td>technician</td>\n",
              "      <td>85711</td>\n",
              "    </tr>\n",
              "    <tr>\n",
              "      <th>1</th>\n",
              "      <td>2</td>\n",
              "      <td>53</td>\n",
              "      <td>Female</td>\n",
              "      <td>other</td>\n",
              "      <td>94043</td>\n",
              "    </tr>\n",
              "    <tr>\n",
              "      <th>2</th>\n",
              "      <td>3</td>\n",
              "      <td>23</td>\n",
              "      <td>Male</td>\n",
              "      <td>writer</td>\n",
              "      <td>32067</td>\n",
              "    </tr>\n",
              "    <tr>\n",
              "      <th>3</th>\n",
              "      <td>4</td>\n",
              "      <td>24</td>\n",
              "      <td>Male</td>\n",
              "      <td>technician</td>\n",
              "      <td>43537</td>\n",
              "    </tr>\n",
              "    <tr>\n",
              "      <th>4</th>\n",
              "      <td>5</td>\n",
              "      <td>33</td>\n",
              "      <td>Female</td>\n",
              "      <td>other</td>\n",
              "      <td>15213</td>\n",
              "    </tr>\n",
              "    <tr>\n",
              "      <th>...</th>\n",
              "      <td>...</td>\n",
              "      <td>...</td>\n",
              "      <td>...</td>\n",
              "      <td>...</td>\n",
              "      <td>...</td>\n",
              "    </tr>\n",
              "    <tr>\n",
              "      <th>938</th>\n",
              "      <td>939</td>\n",
              "      <td>26</td>\n",
              "      <td>Female</td>\n",
              "      <td>student</td>\n",
              "      <td>33319</td>\n",
              "    </tr>\n",
              "    <tr>\n",
              "      <th>939</th>\n",
              "      <td>940</td>\n",
              "      <td>32</td>\n",
              "      <td>Male</td>\n",
              "      <td>administrator</td>\n",
              "      <td>02215</td>\n",
              "    </tr>\n",
              "    <tr>\n",
              "      <th>940</th>\n",
              "      <td>941</td>\n",
              "      <td>20</td>\n",
              "      <td>Male</td>\n",
              "      <td>student</td>\n",
              "      <td>97229</td>\n",
              "    </tr>\n",
              "    <tr>\n",
              "      <th>941</th>\n",
              "      <td>942</td>\n",
              "      <td>48</td>\n",
              "      <td>Female</td>\n",
              "      <td>librarian</td>\n",
              "      <td>78209</td>\n",
              "    </tr>\n",
              "    <tr>\n",
              "      <th>942</th>\n",
              "      <td>943</td>\n",
              "      <td>22</td>\n",
              "      <td>Male</td>\n",
              "      <td>student</td>\n",
              "      <td>77841</td>\n",
              "    </tr>\n",
              "  </tbody>\n",
              "</table>\n",
              "<p>943 rows × 5 columns</p>\n",
              "</div>\n",
              "      <button class=\"colab-df-convert\" onclick=\"convertToInteractive('df-5c15c935-c14c-47a6-9743-970545f53964')\"\n",
              "              title=\"Convert this dataframe to an interactive table.\"\n",
              "              style=\"display:none;\">\n",
              "        \n",
              "  <svg xmlns=\"http://www.w3.org/2000/svg\" height=\"24px\"viewBox=\"0 0 24 24\"\n",
              "       width=\"24px\">\n",
              "    <path d=\"M0 0h24v24H0V0z\" fill=\"none\"/>\n",
              "    <path d=\"M18.56 5.44l.94 2.06.94-2.06 2.06-.94-2.06-.94-.94-2.06-.94 2.06-2.06.94zm-11 1L8.5 8.5l.94-2.06 2.06-.94-2.06-.94L8.5 2.5l-.94 2.06-2.06.94zm10 10l.94 2.06.94-2.06 2.06-.94-2.06-.94-.94-2.06-.94 2.06-2.06.94z\"/><path d=\"M17.41 7.96l-1.37-1.37c-.4-.4-.92-.59-1.43-.59-.52 0-1.04.2-1.43.59L10.3 9.45l-7.72 7.72c-.78.78-.78 2.05 0 2.83L4 21.41c.39.39.9.59 1.41.59.51 0 1.02-.2 1.41-.59l7.78-7.78 2.81-2.81c.8-.78.8-2.07 0-2.86zM5.41 20L4 18.59l7.72-7.72 1.47 1.35L5.41 20z\"/>\n",
              "  </svg>\n",
              "      </button>\n",
              "      \n",
              "  <style>\n",
              "    .colab-df-container {\n",
              "      display:flex;\n",
              "      flex-wrap:wrap;\n",
              "      gap: 12px;\n",
              "    }\n",
              "\n",
              "    .colab-df-convert {\n",
              "      background-color: #E8F0FE;\n",
              "      border: none;\n",
              "      border-radius: 50%;\n",
              "      cursor: pointer;\n",
              "      display: none;\n",
              "      fill: #1967D2;\n",
              "      height: 32px;\n",
              "      padding: 0 0 0 0;\n",
              "      width: 32px;\n",
              "    }\n",
              "\n",
              "    .colab-df-convert:hover {\n",
              "      background-color: #E2EBFA;\n",
              "      box-shadow: 0px 1px 2px rgba(60, 64, 67, 0.3), 0px 1px 3px 1px rgba(60, 64, 67, 0.15);\n",
              "      fill: #174EA6;\n",
              "    }\n",
              "\n",
              "    [theme=dark] .colab-df-convert {\n",
              "      background-color: #3B4455;\n",
              "      fill: #D2E3FC;\n",
              "    }\n",
              "\n",
              "    [theme=dark] .colab-df-convert:hover {\n",
              "      background-color: #434B5C;\n",
              "      box-shadow: 0px 1px 3px 1px rgba(0, 0, 0, 0.15);\n",
              "      filter: drop-shadow(0px 1px 2px rgba(0, 0, 0, 0.3));\n",
              "      fill: #FFFFFF;\n",
              "    }\n",
              "  </style>\n",
              "\n",
              "      <script>\n",
              "        const buttonEl =\n",
              "          document.querySelector('#df-5c15c935-c14c-47a6-9743-970545f53964 button.colab-df-convert');\n",
              "        buttonEl.style.display =\n",
              "          google.colab.kernel.accessAllowed ? 'block' : 'none';\n",
              "\n",
              "        async function convertToInteractive(key) {\n",
              "          const element = document.querySelector('#df-5c15c935-c14c-47a6-9743-970545f53964');\n",
              "          const dataTable =\n",
              "            await google.colab.kernel.invokeFunction('convertToInteractive',\n",
              "                                                     [key], {});\n",
              "          if (!dataTable) return;\n",
              "\n",
              "          const docLinkHtml = 'Like what you see? Visit the ' +\n",
              "            '<a target=\"_blank\" href=https://colab.research.google.com/notebooks/data_table.ipynb>data table notebook</a>'\n",
              "            + ' to learn more about interactive tables.';\n",
              "          element.innerHTML = '';\n",
              "          dataTable['output_type'] = 'display_data';\n",
              "          await google.colab.output.renderOutput(dataTable, element);\n",
              "          const docLink = document.createElement('div');\n",
              "          docLink.innerHTML = docLinkHtml;\n",
              "          element.appendChild(docLink);\n",
              "        }\n",
              "      </script>\n",
              "    </div>\n",
              "  </div>\n",
              "  "
            ]
          },
          "metadata": {},
          "execution_count": 40
        }
      ]
    },
    {
      "cell_type": "markdown",
      "source": [
        "### Functions for evaluation metrics"
      ],
      "metadata": {
        "id": "PTUvceW3CxuF"
      }
    },
    {
      "cell_type": "code",
      "source": [
        "from collections import defaultdict\n",
        "from sklearn.metrics import precision_score, recall_score, f1_score, accuracy_score\n",
        "\n",
        "def precision_recall_f1(predictions, threshold=3.5):\n",
        "    \"\"\"Return precision, recall and f1 metrics averaged across all users\"\"\"\n",
        "\n",
        "    # First map the predictions to each user.\n",
        "    user_est_true = defaultdict(list)\n",
        "    for uid, _, true_r, est, _ in predictions:\n",
        "        user_est_true[uid].append((est, true_r))\n",
        "    \n",
        "    # collect metrics per user\n",
        "    precisions = dict()\n",
        "    recalls = dict()\n",
        "    f1s = dict()\n",
        "    accuracies = dict()\n",
        "    \n",
        "    for uid, user_ratings in user_est_true.items():\n",
        "        \n",
        "        # get relevance labels for average precision calculation\n",
        "        y_true = [1 if (true_r >= threshold) else 0 for (_, true_r) in user_ratings]\n",
        "        y_pred = [1 if (est_r >= threshold) else 0 for (est_r, _) in user_ratings]\n",
        "        \n",
        "        precisions[uid] = precision_score(y_true, y_pred, zero_division=0)\n",
        "        recalls[uid] = recall_score(y_true, y_pred, zero_division=0)\n",
        "        f1s[uid] = f1_score(y_true, y_pred, zero_division=0)\n",
        "\n",
        "        accuracies[uid] = accuracy_score(y_true, y_pred)\n",
        "\n",
        "    # average scores over all users \n",
        "    avg_precision = sum(list(precisions.values())) / len(list(precisions.values()))\n",
        "    avg_recall = sum(list(recalls.values())) / len(list(recalls.values()))\n",
        "    avg_f1 = sum(list(f1s.values())) / len(list(f1s.values()))\n",
        "    \n",
        "    avg_accuracy = sum(list(accuracies.values())) / len(list(accuracies.values()))\n",
        "    \n",
        "    return avg_precision, avg_recall, avg_f1, avg_accuracy"
      ],
      "metadata": {
        "id": "Ar6M7BNOC6XP"
      },
      "execution_count": null,
      "outputs": []
    },
    {
      "cell_type": "code",
      "source": [
        "from sklearn.metrics import average_precision_score, ndcg_score\n",
        "\n",
        "def measures_at_k(predictions, k=10, threshold=3.5):\n",
        "    \"\"\"Return precision and nDCG at k metrics averaged across all users\"\"\"\n",
        "\n",
        "    # First map the predictions to each user.\n",
        "    user_est_true = defaultdict(list)\n",
        "    for uid, _, true_r, est, _ in predictions:\n",
        "        user_est_true[uid].append((est, true_r))\n",
        "    \n",
        "    average_precisions = dict()\n",
        "    precisions_at_k = dict()\n",
        "    ndcgs_at_k = dict()\n",
        "\n",
        "    for uid, user_ratings in user_est_true.items():\n",
        "\n",
        "        # Sort user ratings by estimated value\n",
        "        user_ratings.sort(key=lambda x: x[0], reverse=True)\n",
        "        \n",
        "        # get relevance labels for average precision calculation\n",
        "        y_true = [1 if (true_r > threshold) else 0 for (_, true_r) in user_ratings]\n",
        "        y_pred = [1 if (est_r > threshold) else 0 for (est_r, _) in user_ratings]\n",
        "        \n",
        "        y_true_at_k = y_true[:k]\n",
        "        y_pred_at_k = y_pred[:k]\n",
        "        \n",
        "        if sum(y_true) > 0:\n",
        "            average_precisions[uid] = average_precision_score(y_true, y_pred)\n",
        "        else:\n",
        "            average_precisions[uid] = 0\n",
        "\n",
        "        precisions_at_k[uid] = precision_score(y_true_at_k, y_pred_at_k, zero_division=0)\n",
        "        \n",
        "        if not len(user_ratings) == 1:\n",
        "            ndcgs_at_k[uid] = ndcg_score(np.asarray([[x for (_, x) in user_ratings]]), np.asarray([[x for (x, _) in user_ratings]]), k=k)\n",
        "        elif len(user_ratings) == 1:\n",
        "            ndcgs_at_k[uid] = sum(\n",
        "            ((true_r >= threshold) and (est >= threshold))\n",
        "            for (est, true_r) in user_ratings\n",
        "        )\n",
        "            \n",
        "        # compute simple averages over all users for each score:\n",
        "        avg_average_precisions = sum(val for val in average_precisions.values()) / len(average_precisions)\n",
        "        avg_precisions_at_k = sum(val for val in precisions_at_k.values()) / len(precisions_at_k)\n",
        "        avg_ndcgs_at_k = sum(val for val in ndcgs_at_k.values()) / len(ndcgs_at_k)\n",
        "\n",
        "    return avg_average_precisions, avg_precisions_at_k, avg_ndcgs_at_k"
      ],
      "metadata": {
        "id": "AnDSrH9uC6Oc"
      },
      "execution_count": null,
      "outputs": []
    },
    {
      "cell_type": "markdown",
      "source": [
        "### Function to generate example recommendations for a user"
      ],
      "metadata": {
        "id": "JhuTrSmNFf9J"
      }
    },
    {
      "cell_type": "code",
      "source": [
        "def get_top_n(predictions, n=10):\n",
        "    \"\"\"Return the top-N recommendation for each user from a set of predictions.\n",
        "\n",
        "    Args:\n",
        "        predictions(list of Prediction objects): The list of predictions, as\n",
        "            returned by the test method of an algorithm.\n",
        "        n(int): The number of recommendation to output for each user. Default\n",
        "            is 10.\n",
        "\n",
        "    Returns:\n",
        "    A dict where keys are user (raw) ids and values are lists of tuples:\n",
        "        [(raw item id, rating estimation), ...] of size n.\n",
        "    \"\"\"\n",
        "\n",
        "    # First map the predictions to each user.\n",
        "    top_n = defaultdict(list)\n",
        "    for uid, iid, true_r, est, _ in predictions:\n",
        "        top_n[uid].append((iid, est))\n",
        "\n",
        "    # Then sort the predictions for each user and retrieve the k highest ones.\n",
        "    for uid, user_ratings in top_n.items():\n",
        "        user_ratings.sort(key=lambda x: x[1], reverse=True)\n",
        "        top_n[uid] = user_ratings[:n]\n",
        "\n",
        "    return top_n"
      ],
      "metadata": {
        "id": "lm3bRH0DFffO"
      },
      "execution_count": null,
      "outputs": []
    },
    {
      "cell_type": "markdown",
      "source": [
        "## **Collaborative Filtering**"
      ],
      "metadata": {
        "id": "gPg9NCcfBtsQ"
      }
    },
    {
      "cell_type": "code",
      "source": [
        "reader = Reader(rating_scale=(0, 5))\n",
        "data = Dataset.load_from_df(df_ratings[['UserID','MovieID','Rating']], reader)"
      ],
      "metadata": {
        "id": "kzFibm2gBtDx"
      },
      "execution_count": null,
      "outputs": []
    },
    {
      "cell_type": "markdown",
      "source": [
        "### **Baseline models**"
      ],
      "metadata": {
        "id": "tpTqL3VqDX-Y"
      }
    },
    {
      "cell_type": "markdown",
      "source": [
        "### 1. KNNBasic"
      ],
      "metadata": {
        "id": "50x-glKyDhBZ"
      }
    },
    {
      "cell_type": "code",
      "source": [
        "trainset, testset = train_test_split(data, test_size=0.25, random_state=my_seed)"
      ],
      "metadata": {
        "id": "LTkrQ1KsXpP_"
      },
      "execution_count": null,
      "outputs": []
    },
    {
      "cell_type": "code",
      "source": [
        "sim_options = {'name': 'pearson', 'user_based': True, 'min_support': 1}\n",
        "\n",
        "algo = KNNBasic(sim_options=sim_options, k=10)\n",
        "\n",
        "algo.fit(trainset)\n",
        "predictions_knn = algo.test(testset)"
      ],
      "metadata": {
        "colab": {
          "base_uri": "https://localhost:8080/"
        },
        "id": "eixxr7OjBZKF",
        "outputId": "8ca7f8d5-f657-4d63-82a0-f381298fc6d8"
      },
      "execution_count": null,
      "outputs": [
        {
          "output_type": "stream",
          "name": "stdout",
          "text": [
            "Computing the pearson similarity matrix...\n",
            "Done computing similarity matrix.\n"
          ]
        }
      ]
    },
    {
      "cell_type": "code",
      "source": [
        "mse(predictions_knn)\n",
        "rmse(predictions_knn)\n",
        "mae(predictions_knn);"
      ],
      "metadata": {
        "colab": {
          "base_uri": "https://localhost:8080/"
        },
        "id": "dcCUMskIBZGY",
        "outputId": "e1fab4d5-4e4c-46bf-cb9c-e07a29cbe387"
      },
      "execution_count": null,
      "outputs": [
        {
          "output_type": "stream",
          "name": "stdout",
          "text": [
            "MSE: 1.1002\n",
            "RMSE: 1.0489\n",
            "MAE:  0.8336\n"
          ]
        }
      ]
    },
    {
      "cell_type": "code",
      "source": [
        "# get average evaluation measures and print them\n",
        "avg_precision, avg_recall, avg_f1, avg_accuracy = precision_recall_f1(predictions_knn, threshold=3.5)\n",
        "print(f'Avg. Precision: {avg_precision}')\n",
        "print(f'Avg. Recall: {avg_recall}')\n",
        "print(f'Avg. F1: {avg_f1}')\n",
        "print(f'Avg. Accuracy: {avg_accuracy}')"
      ],
      "metadata": {
        "colab": {
          "base_uri": "https://localhost:8080/"
        },
        "id": "w9SjLNt5BZD_",
        "outputId": "d025c872-13bf-42c3-aeb2-be67cf508c69"
      },
      "execution_count": null,
      "outputs": [
        {
          "output_type": "stream",
          "name": "stdout",
          "text": [
            "Avg. Precision: 0.6730567192891691\n",
            "Avg. Recall: 0.689702601889619\n",
            "Avg. F1: 0.6519861422166865\n",
            "Avg. Accuracy: 0.6443137010780204\n"
          ]
        }
      ]
    },
    {
      "cell_type": "code",
      "source": [
        "# get average evaluation measures and print them\n",
        "avg_average_precisions, avg_precisions, avg_ndcgs = measures_at_k(predictions_knn, k=5, threshold=3.5)\n",
        "print(f'Avg. AveragePrecision: {avg_average_precisions}')\n",
        "print(f'Avg. Precision@5: {avg_precisions}')\n",
        "print(f'Avg. nDCG@5: {avg_ndcgs}')"
      ],
      "metadata": {
        "colab": {
          "base_uri": "https://localhost:8080/"
        },
        "id": "YAMMRRs6BZA6",
        "outputId": "d409dc8d-37c2-4241-e392-27df42b31034"
      },
      "execution_count": null,
      "outputs": [
        {
          "output_type": "stream",
          "name": "stdout",
          "text": [
            "Avg. AveragePrecision: 0.6596171295251162\n",
            "Avg. Precision@5: 0.7371903750884643\n",
            "Avg. nDCG@5: 0.8706627044620174\n"
          ]
        }
      ]
    },
    {
      "cell_type": "markdown",
      "source": [
        "### 2. SVD"
      ],
      "metadata": {
        "id": "hOqwC83UD_Do"
      }
    },
    {
      "cell_type": "code",
      "source": [
        "from surprise import SVD\n",
        "\n",
        "algo = SVD(n_epochs=10, lr_all=0.005, reg_all=0.4)\n",
        "\n",
        "# Train the algorithm on the trainset, and predict ratings for the testset\n",
        "algo.fit(trainset)\n",
        "predictions_svd = algo.test(testset)\n",
        "\n",
        "# Then compute MSE, RMSE and MAE\n",
        "mse(predictions_svd)\n",
        "rmse(predictions_svd)\n",
        "mae(predictions_svd);"
      ],
      "metadata": {
        "colab": {
          "base_uri": "https://localhost:8080/"
        },
        "id": "1S4XoUmiBY9x",
        "outputId": "e94cd295-4017-416f-95c4-ac91d79c4ecc"
      },
      "execution_count": null,
      "outputs": [
        {
          "output_type": "stream",
          "name": "stdout",
          "text": [
            "MSE: 0.9398\n",
            "RMSE: 0.9694\n",
            "MAE:  0.7765\n"
          ]
        }
      ]
    },
    {
      "cell_type": "code",
      "source": [
        "# get average evaluation measures and print them\n",
        "avg_precision, avg_recall, avg_f1, avg_accuracy = precision_recall_f1(predictions_svd, threshold=3.5)\n",
        "print(f'Avg. Precision: {avg_precision}')\n",
        "print(f'Avg. Recall: {avg_recall}')\n",
        "print(f'Avg. F1: {avg_f1}')\n",
        "print(f'Avg. Accuracy: {avg_accuracy}')"
      ],
      "metadata": {
        "colab": {
          "base_uri": "https://localhost:8080/"
        },
        "id": "F1ptG7qoEEd0",
        "outputId": "11d5f41f-6213-421f-e9ad-f0d2832ab1c0"
      },
      "execution_count": null,
      "outputs": [
        {
          "output_type": "stream",
          "name": "stdout",
          "text": [
            "Avg. Precision: 0.670893862039651\n",
            "Avg. Recall: 0.6801836995528794\n",
            "Avg. F1: 0.6466521972893047\n",
            "Avg. Accuracy: 0.6975558970084743\n"
          ]
        }
      ]
    },
    {
      "cell_type": "code",
      "source": [
        "# get average evaluation measures and print them\n",
        "avg_average_precisions, avg_precisions, avg_ndcgs = measures_at_k(predictions_svd, k=5, threshold=3.5)\n",
        "print(f'Avg. AveragePrecision: {avg_average_precisions}')\n",
        "print(f'Avg. Precision@5: {avg_precisions}')\n",
        "print(f'Avg. nDCG@5: {avg_ndcgs}')"
      ],
      "metadata": {
        "colab": {
          "base_uri": "https://localhost:8080/"
        },
        "id": "sxU0uqphEEa7",
        "outputId": "4deb4937-80e5-4549-f7b2-c74404f376b4"
      },
      "execution_count": null,
      "outputs": [
        {
          "output_type": "stream",
          "name": "stdout",
          "text": [
            "Avg. AveragePrecision: 0.6565959198754373\n",
            "Avg. Precision@5: 0.7360226468506714\n",
            "Avg. nDCG@5: 0.8801782149234739\n"
          ]
        }
      ]
    },
    {
      "cell_type": "markdown",
      "source": [
        "### **Hyperparameter tuning**"
      ],
      "metadata": {
        "id": "M7XgVsnIEeNk"
      }
    },
    {
      "cell_type": "code",
      "source": [
        "!pip install auto_surprise"
      ],
      "metadata": {
        "colab": {
          "base_uri": "https://localhost:8080/"
        },
        "id": "l3nSzG5kEk-d",
        "outputId": "5f41131a-9d34-4fc4-da86-fb8f5731297e"
      },
      "execution_count": null,
      "outputs": [
        {
          "output_type": "stream",
          "name": "stdout",
          "text": [
            "Looking in indexes: https://pypi.org/simple, https://us-python.pkg.dev/colab-wheels/public/simple/\n",
            "Collecting auto_surprise\n",
            "  Downloading auto_surprise-0.1.8-py3-none-any.whl (19 kB)\n",
            "Requirement already satisfied: hyperopt>=0.2.5 in /usr/local/lib/python3.10/dist-packages (from auto_surprise) (0.2.7)\n",
            "Requirement already satisfied: numpy in /usr/local/lib/python3.10/dist-packages (from auto_surprise) (1.22.4)\n",
            "Requirement already satisfied: scikit-learn>=0.23.0 in /usr/local/lib/python3.10/dist-packages (from auto_surprise) (1.2.2)\n",
            "Requirement already satisfied: scikit-surprise in /usr/local/lib/python3.10/dist-packages (from auto_surprise) (1.1.3)\n",
            "Requirement already satisfied: rich in /usr/local/lib/python3.10/dist-packages (from auto_surprise) (13.3.4)\n",
            "Requirement already satisfied: scipy in /usr/local/lib/python3.10/dist-packages (from hyperopt>=0.2.5->auto_surprise) (1.10.1)\n",
            "Requirement already satisfied: six in /usr/local/lib/python3.10/dist-packages (from hyperopt>=0.2.5->auto_surprise) (1.16.0)\n",
            "Requirement already satisfied: networkx>=2.2 in /usr/local/lib/python3.10/dist-packages (from hyperopt>=0.2.5->auto_surprise) (3.1)\n",
            "Requirement already satisfied: future in /usr/local/lib/python3.10/dist-packages (from hyperopt>=0.2.5->auto_surprise) (0.18.3)\n",
            "Requirement already satisfied: tqdm in /usr/local/lib/python3.10/dist-packages (from hyperopt>=0.2.5->auto_surprise) (4.65.0)\n",
            "Requirement already satisfied: cloudpickle in /usr/local/lib/python3.10/dist-packages (from hyperopt>=0.2.5->auto_surprise) (2.2.1)\n",
            "Requirement already satisfied: py4j in /usr/local/lib/python3.10/dist-packages (from hyperopt>=0.2.5->auto_surprise) (0.10.9.7)\n",
            "Requirement already satisfied: joblib>=1.1.1 in /usr/local/lib/python3.10/dist-packages (from scikit-learn>=0.23.0->auto_surprise) (1.2.0)\n",
            "Requirement already satisfied: threadpoolctl>=2.0.0 in /usr/local/lib/python3.10/dist-packages (from scikit-learn>=0.23.0->auto_surprise) (3.1.0)\n",
            "Requirement already satisfied: markdown-it-py<3.0.0,>=2.2.0 in /usr/local/lib/python3.10/dist-packages (from rich->auto_surprise) (2.2.0)\n",
            "Requirement already satisfied: pygments<3.0.0,>=2.13.0 in /usr/local/lib/python3.10/dist-packages (from rich->auto_surprise) (2.14.0)\n",
            "Requirement already satisfied: mdurl~=0.1 in /usr/local/lib/python3.10/dist-packages (from markdown-it-py<3.0.0,>=2.2.0->rich->auto_surprise) (0.1.2)\n",
            "Installing collected packages: auto_surprise\n",
            "Successfully installed auto_surprise-0.1.8\n"
          ]
        }
      ]
    },
    {
      "cell_type": "code",
      "source": [
        "from surprise import Dataset\n",
        "from surprise import Reader\n",
        "from auto_surprise.engine import Engine\n",
        "import pandas as pd\n",
        "\n",
        "\n",
        "# Create a reader object with the rating scale\n",
        "reader = Reader(rating_scale=(1, 5))\n",
        "\n",
        "# Load the dataset from the dataframe\n",
        "data = Dataset.load_from_df(df_ratings[['UserID', 'MovieID', 'Rating']], reader)\n",
        "\n",
        "# Intitialize auto surprise engine\n",
        "engine = Engine(verbose=True)\n",
        "\n",
        "# Start the trainer\n",
        "best_algo, best_params, best_score, tasks = engine.train(\n",
        "    data=data,\n",
        "    target_metric='test_rmse', # The metric we seek to minimize\n",
        "    cpu_time_limit=60 * 60, # The time limit we want to train in seconds\n",
        "    max_evals=100 # The maximum number of evaluations each algorithm gets for hyper parameter optimization\n",
        ")\n",
        "\n",
        "# Print the results\n",
        "print(f\"Best algorithm: {best_algo}\")\n",
        "print(f\"Best parameters: {best_params}\")\n",
        "print(f\"Best score: {best_score}\")\n",
        "\n",
        "# Build a pickelable model with the best algorithm and parameters\n",
        "model = engine.build_model(best_algo, best_params)"
      ],
      "metadata": {
        "colab": {
          "base_uri": "https://localhost:8080/",
          "height": 1000
        },
        "id": "fybdjFbpEk6_",
        "outputId": "dc307184-ad7b-47da-8461-bcadf148a5dc"
      },
      "execution_count": null,
      "outputs": [
        {
          "output_type": "display_data",
          "data": {
            "text/plain": [
              "auto_surprise \u001b[1;36m0.1\u001b[0m.\u001b[1;36m8\u001b[0m\n"
            ],
            "text/html": [
              "<pre style=\"white-space:pre;overflow-x:auto;line-height:normal;font-family:Menlo,'DejaVu Sans Mono',consolas,'Courier New',monospace\">auto_surprise <span style=\"color: #008080; text-decoration-color: #008080; font-weight: bold\">0.1</span>.<span style=\"color: #008080; text-decoration-color: #008080; font-weight: bold\">8</span>\n",
              "</pre>\n"
            ]
          },
          "metadata": {}
        },
        {
          "output_type": "display_data",
          "data": {
            "text/plain": [
              "Available CPUs: \u001b[1;36m2\u001b[0m\n"
            ],
            "text/html": [
              "<pre style=\"white-space:pre;overflow-x:auto;line-height:normal;font-family:Menlo,'DejaVu Sans Mono',consolas,'Courier New',monospace\">Available CPUs: <span style=\"color: #008080; text-decoration-color: #008080; font-weight: bold\">2</span>\n",
              "</pre>\n"
            ]
          },
          "metadata": {}
        },
        {
          "output_type": "stream",
          "name": "stderr",
          "text": [
            "INFO:auto_surprise.context.result_logging_manager_normal_predictor:Started hyperarameter optimization\n",
            "INFO:auto_surprise.context.result_logging_manager_normal_predictor:Execution time: 0:00:03 Loss: 1.5193259426335184 Hyperparameters: None\n",
            "INFO:auto_surprise.context.result_logging_manager_normal_predictor:Done!\n"
          ]
        },
        {
          "output_type": "stream",
          "name": "stdout",
          "text": [
            "Evaluating RMSE, MAE, MSE of algorithm NormalPredictor on 5 split(s).\n",
            "\n",
            "                  Fold 1  Fold 2  Fold 3  Fold 4  Fold 5  Mean    Std     \n",
            "RMSE (testset)    1.5277  1.5111  1.5212  1.5092  1.5275  1.5193  0.0079  \n",
            "MAE (testset)     1.2294  1.2094  1.2254  1.2145  1.2256  1.2208  0.0076  \n",
            "MSE (testset)     2.3338  2.2835  2.3140  2.2776  2.3332  2.3084  0.0239  \n",
            "Fit time          0.13    0.18    0.16    0.17    0.29    0.19    0.05    \n",
            "Test time         0.13    0.14    0.12    0.47    0.23    0.22    0.13    \n"
          ]
        },
        {
          "output_type": "display_data",
          "data": {
            "text/plain": [
              "Baseline loss: \u001b[1;36m1.5193259426335184\u001b[0m\n"
            ],
            "text/html": [
              "<pre style=\"white-space:pre;overflow-x:auto;line-height:normal;font-family:Menlo,'DejaVu Sans Mono',consolas,'Courier New',monospace\">Baseline loss: <span style=\"color: #008080; text-decoration-color: #008080; font-weight: bold\">1.5193259426335184</span>\n",
              "</pre>\n"
            ]
          },
          "metadata": {}
        },
        {
          "output_type": "stream",
          "name": "stdout",
          "text": [
            "Starting process with svd algorithm\n",
            "Starting process with svdpp algorithm\n"
          ]
        },
        {
          "output_type": "stream",
          "name": "stderr",
          "text": [
            "INFO:auto_surprise.context.result_logging_manager_svd:Started hyperarameter optimization\n"
          ]
        },
        {
          "output_type": "stream",
          "name": "stdout",
          "text": [
            "Starting process with nmf algorithm\n"
          ]
        },
        {
          "output_type": "stream",
          "name": "stderr",
          "text": [
            "INFO:auto_surprise.context.result_logging_manager_svdpp:Started hyperarameter optimization\n"
          ]
        },
        {
          "output_type": "stream",
          "name": "stdout",
          "text": [
            "  0%|          | 0/100 [00:00<?, ?trial/s, best loss=?]Starting process with knn_basic algorithm\n",
            "  0%|          | 0/100 [00:00<?, ?trial/s, best loss=?]\n",
            "Starting process with knn_baseline algorithm\n"
          ]
        },
        {
          "output_type": "stream",
          "name": "stderr",
          "text": [
            "INFO:auto_surprise.context.result_logging_manager_nmf:Started hyperarameter optimization\n"
          ]
        },
        {
          "output_type": "stream",
          "name": "stdout",
          "text": [
            "\n"
          ]
        },
        {
          "output_type": "stream",
          "name": "stderr",
          "text": [
            "ERROR:auto_surprise.trainer:Exception for algo svd\n"
          ]
        },
        {
          "output_type": "stream",
          "name": "stdout",
          "text": [
            "Starting process with knn_with_means algorithm\n"
          ]
        },
        {
          "output_type": "stream",
          "name": "stderr",
          "text": [
            "ERROR:auto_surprise.trainer:Traceback (most recent call last):\n",
            "  File \"/usr/local/lib/python3.10/dist-packages/auto_surprise/trainer.py\", line 85, in start_with_limits\n",
            "    _, best_trial = self.algo_base.best_hyperparams(max_evals)\n",
            "  File \"/usr/local/lib/python3.10/dist-packages/auto_surprise/algorithms/base.py\", line 99, in best_hyperparams\n",
            "    best = fmin(**fmin_args)\n",
            "  File \"/usr/local/lib/python3.10/dist-packages/hyperopt/fmin.py\", line 540, in fmin\n",
            "    return trials.fmin(\n",
            "  File \"/usr/local/lib/python3.10/dist-packages/hyperopt/base.py\", line 671, in fmin\n",
            "    return fmin(\n",
            "  File \"/usr/local/lib/python3.10/dist-packages/hyperopt/fmin.py\", line 586, in fmin\n",
            "    rval.exhaust()\n",
            "  File \"/usr/local/lib/python3.10/dist-packages/hyperopt/fmin.py\", line 364, in exhaust\n",
            "    self.run(self.max_evals - n_done, block_until_done=self.asynchronous)\n",
            "  File \"/usr/local/lib/python3.10/dist-packages/hyperopt/fmin.py\", line 279, in run\n",
            "    new_ids, self.domain, trials, self.rstate.integers(2 ** 31 - 1)\n",
            "AttributeError: module 'numpy.random' has no attribute 'integers'\n",
            "\n",
            "INFO:auto_surprise.context.result_logging_manager_knn_basic:Started hyperarameter optimization\n",
            "ERROR:auto_surprise.trainer:Exception for algo svdpp\n",
            "ERROR:auto_surprise.trainer:Traceback (most recent call last):\n",
            "  File \"/usr/local/lib/python3.10/dist-packages/auto_surprise/trainer.py\", line 85, in start_with_limits\n",
            "    _, best_trial = self.algo_base.best_hyperparams(max_evals)\n",
            "  File \"/usr/local/lib/python3.10/dist-packages/auto_surprise/algorithms/base.py\", line 99, in best_hyperparams\n",
            "    best = fmin(**fmin_args)\n",
            "  File \"/usr/local/lib/python3.10/dist-packages/hyperopt/fmin.py\", line 540, in fmin\n",
            "    return trials.fmin(\n",
            "  File \"/usr/local/lib/python3.10/dist-packages/hyperopt/base.py\", line 671, in fmin\n",
            "    return fmin(\n",
            "  File \"/usr/local/lib/python3.10/dist-packages/hyperopt/fmin.py\", line 586, in fmin\n",
            "    rval.exhaust()\n",
            "  File \"/usr/local/lib/python3.10/dist-packages/hyperopt/fmin.py\", line 364, in exhaust\n",
            "    self.run(self.max_evals - n_done, block_until_done=self.asynchronous)\n",
            "  File \"/usr/local/lib/python3.10/dist-packages/hyperopt/fmin.py\", line 279, in run\n",
            "    new_ids, self.domain, trials, self.rstate.integers(2 ** 31 - 1)\n",
            "AttributeError: module 'numpy.random' has no attribute 'integers'\n",
            "\n",
            "INFO:auto_surprise.context.result_logging_manager_svd:Done!\n"
          ]
        },
        {
          "output_type": "stream",
          "name": "stdout",
          "text": [
            "  0%|          | 0/100 [00:00<?, ?trial/s, best loss=?]Starting process with knn_with_z_score algorithm\n",
            "  0%|          | 0/100 [00:00<?, ?trial/s, best loss=?]"
          ]
        },
        {
          "output_type": "stream",
          "name": "stderr",
          "text": [
            "INFO:auto_surprise.context.result_logging_manager_svdpp:Done!\n"
          ]
        },
        {
          "output_type": "stream",
          "name": "stdout",
          "text": [
            "\r  0%|          | 0/100 [00:00<?, ?trial/s, best loss=?]\n",
            "Starting process with co_clustering algorithm\n",
            "  0%|          | 0/100 [00:00<?, ?trial/s, best loss=?]"
          ]
        },
        {
          "output_type": "stream",
          "name": "stderr",
          "text": [
            "INFO:auto_surprise.context.result_logging_manager_knn_baseline:Started hyperarameter optimization\n"
          ]
        },
        {
          "output_type": "stream",
          "name": "stdout",
          "text": [
            "\n",
            "Starting process with slope_one algorithm\n"
          ]
        },
        {
          "output_type": "stream",
          "name": "stderr",
          "text": [
            "ERROR:auto_surprise.trainer:Exception for algo knn_basic\n",
            "INFO:auto_surprise.context.result_logging_manager_knn_with_means:Started hyperarameter optimization\n",
            "ERROR:auto_surprise.trainer:Traceback (most recent call last):\n",
            "  File \"/usr/local/lib/python3.10/dist-packages/auto_surprise/trainer.py\", line 85, in start_with_limits\n",
            "    _, best_trial = self.algo_base.best_hyperparams(max_evals)\n",
            "  File \"/usr/local/lib/python3.10/dist-packages/auto_surprise/algorithms/base.py\", line 99, in best_hyperparams\n",
            "    best = fmin(**fmin_args)\n",
            "  File \"/usr/local/lib/python3.10/dist-packages/hyperopt/fmin.py\", line 540, in fmin\n",
            "    return trials.fmin(\n",
            "  File \"/usr/local/lib/python3.10/dist-packages/hyperopt/base.py\", line 671, in fmin\n",
            "    return fmin(\n",
            "  File \"/usr/local/lib/python3.10/dist-packages/hyperopt/fmin.py\", line 586, in fmin\n",
            "    rval.exhaust()\n",
            "  File \"/usr/local/lib/python3.10/dist-packages/hyperopt/fmin.py\", line 364, in exhaust\n",
            "    self.run(self.max_evals - n_done, block_until_done=self.asynchronous)\n",
            "  File \"/usr/local/lib/python3.10/dist-packages/hyperopt/fmin.py\", line 279, in run\n",
            "    new_ids, self.domain, trials, self.rstate.integers(2 ** 31 - 1)\n",
            "AttributeError: module 'numpy.random' has no attribute 'integers'\n",
            "\n",
            "ERROR:auto_surprise.trainer:Exception for algo nmf\n",
            "ERROR:auto_surprise.trainer:Traceback (most recent call last):\n",
            "  File \"/usr/local/lib/python3.10/dist-packages/auto_surprise/trainer.py\", line 85, in start_with_limits\n",
            "    _, best_trial = self.algo_base.best_hyperparams(max_evals)\n",
            "  File \"/usr/local/lib/python3.10/dist-packages/auto_surprise/algorithms/base.py\", line 99, in best_hyperparams\n",
            "    best = fmin(**fmin_args)\n",
            "  File \"/usr/local/lib/python3.10/dist-packages/hyperopt/fmin.py\", line 540, in fmin\n",
            "    return trials.fmin(\n",
            "  File \"/usr/local/lib/python3.10/dist-packages/hyperopt/base.py\", line 671, in fmin\n",
            "    return fmin(\n",
            "  File \"/usr/local/lib/python3.10/dist-packages/hyperopt/fmin.py\", line 586, in fmin\n",
            "    rval.exhaust()\n",
            "  File \"/usr/local/lib/python3.10/dist-packages/hyperopt/fmin.py\", line 364, in exhaust\n",
            "    self.run(self.max_evals - n_done, block_until_done=self.asynchronous)\n",
            "  File \"/usr/local/lib/python3.10/dist-packages/hyperopt/fmin.py\", line 279, in run\n",
            "    new_ids, self.domain, trials, self.rstate.integers(2 ** 31 - 1)\n",
            "AttributeError: module 'numpy.random' has no attribute 'integers'\n",
            "\n",
            "INFO:auto_surprise.context.result_logging_manager_knn_basic:Done!\n"
          ]
        },
        {
          "output_type": "stream",
          "name": "stdout",
          "text": [
            "\r  0%|          | 0/100 [00:00<?, ?trial/s, best loss=?]"
          ]
        },
        {
          "output_type": "stream",
          "name": "stderr",
          "text": [
            "INFO:auto_surprise.context.result_logging_manager_nmf:Done!\n"
          ]
        },
        {
          "output_type": "stream",
          "name": "stdout",
          "text": [
            "  0%|          | 0/100 [00:00<?, ?trial/s, best loss=?]Starting process with baseline_only algorithm\n"
          ]
        },
        {
          "output_type": "stream",
          "name": "stderr",
          "text": [
            "INFO:auto_surprise.context.result_logging_manager_knn_with_z_score:Started hyperarameter optimization\n"
          ]
        },
        {
          "output_type": "stream",
          "name": "stdout",
          "text": [
            "  0%|          | 0/100 [00:00<?, ?trial/s, best loss=?]"
          ]
        },
        {
          "output_type": "stream",
          "name": "stderr",
          "text": [
            "INFO:auto_surprise.context.result_logging_manager_co_clustering:Started hyperarameter optimization\n"
          ]
        },
        {
          "output_type": "stream",
          "name": "stdout",
          "text": [
            "\n",
            "  0%|          | 0/100 [00:00<?, ?trial/s, best loss=?]"
          ]
        },
        {
          "output_type": "stream",
          "name": "stderr",
          "text": [
            "ERROR:auto_surprise.trainer:Exception for algo knn_with_means\n"
          ]
        },
        {
          "output_type": "stream",
          "name": "stdout",
          "text": [
            "\n"
          ]
        },
        {
          "output_type": "stream",
          "name": "stderr",
          "text": [
            "ERROR:auto_surprise.trainer:Traceback (most recent call last):\n",
            "  File \"/usr/local/lib/python3.10/dist-packages/auto_surprise/trainer.py\", line 85, in start_with_limits\n",
            "    _, best_trial = self.algo_base.best_hyperparams(max_evals)\n",
            "  File \"/usr/local/lib/python3.10/dist-packages/auto_surprise/algorithms/base.py\", line 99, in best_hyperparams\n",
            "    best = fmin(**fmin_args)\n",
            "  File \"/usr/local/lib/python3.10/dist-packages/hyperopt/fmin.py\", line 540, in fmin\n",
            "    return trials.fmin(\n",
            "  File \"/usr/local/lib/python3.10/dist-packages/hyperopt/base.py\", line 671, in fmin\n",
            "    return fmin(\n",
            "  File \"/usr/local/lib/python3.10/dist-packages/hyperopt/fmin.py\", line 586, in fmin\n",
            "    rval.exhaust()\n",
            "  File \"/usr/local/lib/python3.10/dist-packages/hyperopt/fmin.py\", line 364, in exhaust\n",
            "    self.run(self.max_evals - n_done, block_until_done=self.asynchronous)\n",
            "  File \"/usr/local/lib/python3.10/dist-packages/hyperopt/fmin.py\", line 279, in run\n",
            "    new_ids, self.domain, trials, self.rstate.integers(2 ** 31 - 1)\n",
            "AttributeError: module 'numpy.random' has no attribute 'integers'\n",
            "\n"
          ]
        },
        {
          "output_type": "stream",
          "name": "stdout",
          "text": [
            "\n"
          ]
        },
        {
          "output_type": "stream",
          "name": "stderr",
          "text": [
            "ERROR:auto_surprise.trainer:Exception for algo knn_baseline\n"
          ]
        },
        {
          "output_type": "stream",
          "name": "stdout",
          "text": [
            "\r  0%|          | 0/100 [00:00<?, ?trial/s, best loss=?]"
          ]
        },
        {
          "output_type": "stream",
          "name": "stderr",
          "text": [
            "ERROR:auto_surprise.trainer:Exception for algo knn_with_z_score\n",
            "ERROR:auto_surprise.trainer:Traceback (most recent call last):\n",
            "  File \"/usr/local/lib/python3.10/dist-packages/auto_surprise/trainer.py\", line 85, in start_with_limits\n",
            "    _, best_trial = self.algo_base.best_hyperparams(max_evals)\n",
            "  File \"/usr/local/lib/python3.10/dist-packages/auto_surprise/algorithms/base.py\", line 99, in best_hyperparams\n",
            "    best = fmin(**fmin_args)\n",
            "  File \"/usr/local/lib/python3.10/dist-packages/hyperopt/fmin.py\", line 540, in fmin\n",
            "    return trials.fmin(\n",
            "  File \"/usr/local/lib/python3.10/dist-packages/hyperopt/base.py\", line 671, in fmin\n",
            "    return fmin(\n",
            "  File \"/usr/local/lib/python3.10/dist-packages/hyperopt/fmin.py\", line 586, in fmin\n",
            "    rval.exhaust()\n",
            "  File \"/usr/local/lib/python3.10/dist-packages/hyperopt/fmin.py\", line 364, in exhaust\n",
            "    self.run(self.max_evals - n_done, block_until_done=self.asynchronous)\n",
            "  File \"/usr/local/lib/python3.10/dist-packages/hyperopt/fmin.py\", line 279, in run\n",
            "    new_ids, self.domain, trials, self.rstate.integers(2 ** 31 - 1)\n",
            "AttributeError: module 'numpy.random' has no attribute 'integers'\n",
            "\n",
            "INFO:auto_surprise.context.result_logging_manager_knn_with_means:Done!\n"
          ]
        },
        {
          "output_type": "stream",
          "name": "stdout",
          "text": [
            "\r  0%|          | 0/100 [00:00<?, ?trial/s, best loss=?]"
          ]
        },
        {
          "output_type": "stream",
          "name": "stderr",
          "text": [
            "ERROR:auto_surprise.trainer:Traceback (most recent call last):\n",
            "  File \"/usr/local/lib/python3.10/dist-packages/auto_surprise/trainer.py\", line 85, in start_with_limits\n",
            "    _, best_trial = self.algo_base.best_hyperparams(max_evals)\n",
            "  File \"/usr/local/lib/python3.10/dist-packages/auto_surprise/algorithms/base.py\", line 99, in best_hyperparams\n",
            "    best = fmin(**fmin_args)\n",
            "  File \"/usr/local/lib/python3.10/dist-packages/hyperopt/fmin.py\", line 540, in fmin\n",
            "    return trials.fmin(\n",
            "  File \"/usr/local/lib/python3.10/dist-packages/hyperopt/base.py\", line 671, in fmin\n",
            "    return fmin(\n",
            "  File \"/usr/local/lib/python3.10/dist-packages/hyperopt/fmin.py\", line 586, in fmin\n",
            "    rval.exhaust()\n",
            "  File \"/usr/local/lib/python3.10/dist-packages/hyperopt/fmin.py\", line 364, in exhaust\n",
            "    self.run(self.max_evals - n_done, block_until_done=self.asynchronous)\n",
            "  File \"/usr/local/lib/python3.10/dist-packages/hyperopt/fmin.py\", line 279, in run\n",
            "    new_ids, self.domain, trials, self.rstate.integers(2 ** 31 - 1)\n",
            "AttributeError: module 'numpy.random' has no attribute 'integers'\n",
            "\n",
            "INFO:auto_surprise.context.result_logging_manager_knn_baseline:Done!\n"
          ]
        },
        {
          "output_type": "stream",
          "name": "stdout",
          "text": [
            "\n"
          ]
        },
        {
          "output_type": "stream",
          "name": "stderr",
          "text": [
            "INFO:auto_surprise.context.result_logging_manager_slope_one:Started hyperarameter optimization\n",
            "ERROR:auto_surprise.trainer:Exception for algo co_clustering\n",
            "INFO:auto_surprise.context.result_logging_manager_knn_with_z_score:Done!\n",
            "ERROR:auto_surprise.trainer:Traceback (most recent call last):\n",
            "  File \"/usr/local/lib/python3.10/dist-packages/auto_surprise/trainer.py\", line 85, in start_with_limits\n",
            "    _, best_trial = self.algo_base.best_hyperparams(max_evals)\n",
            "  File \"/usr/local/lib/python3.10/dist-packages/auto_surprise/algorithms/base.py\", line 99, in best_hyperparams\n",
            "    best = fmin(**fmin_args)\n",
            "  File \"/usr/local/lib/python3.10/dist-packages/hyperopt/fmin.py\", line 540, in fmin\n",
            "    return trials.fmin(\n",
            "  File \"/usr/local/lib/python3.10/dist-packages/hyperopt/base.py\", line 671, in fmin\n",
            "    return fmin(\n",
            "  File \"/usr/local/lib/python3.10/dist-packages/hyperopt/fmin.py\", line 586, in fmin\n",
            "    rval.exhaust()\n",
            "  File \"/usr/local/lib/python3.10/dist-packages/hyperopt/fmin.py\", line 364, in exhaust\n",
            "    self.run(self.max_evals - n_done, block_until_done=self.asynchronous)\n",
            "  File \"/usr/local/lib/python3.10/dist-packages/hyperopt/fmin.py\", line 279, in run\n",
            "    new_ids, self.domain, trials, self.rstate.integers(2 ** 31 - 1)\n",
            "AttributeError: module 'numpy.random' has no attribute 'integers'\n",
            "\n",
            "INFO:auto_surprise.context.result_logging_manager_baseline_only:Started hyperarameter optimization\n",
            "INFO:auto_surprise.context.result_logging_manager_co_clustering:Done!\n"
          ]
        },
        {
          "output_type": "stream",
          "name": "stdout",
          "text": [
            "  0%|          | 0/100 [00:00<?, ?trial/s, best loss=?]\n"
          ]
        },
        {
          "output_type": "stream",
          "name": "stderr",
          "text": [
            "ERROR:auto_surprise.trainer:Exception for algo baseline_only\n",
            "ERROR:auto_surprise.trainer:Traceback (most recent call last):\n",
            "  File \"/usr/local/lib/python3.10/dist-packages/auto_surprise/trainer.py\", line 85, in start_with_limits\n",
            "    _, best_trial = self.algo_base.best_hyperparams(max_evals)\n",
            "  File \"/usr/local/lib/python3.10/dist-packages/auto_surprise/algorithms/base.py\", line 99, in best_hyperparams\n",
            "    best = fmin(**fmin_args)\n",
            "  File \"/usr/local/lib/python3.10/dist-packages/hyperopt/fmin.py\", line 540, in fmin\n",
            "    return trials.fmin(\n",
            "  File \"/usr/local/lib/python3.10/dist-packages/hyperopt/base.py\", line 671, in fmin\n",
            "    return fmin(\n",
            "  File \"/usr/local/lib/python3.10/dist-packages/hyperopt/fmin.py\", line 586, in fmin\n",
            "    rval.exhaust()\n",
            "  File \"/usr/local/lib/python3.10/dist-packages/hyperopt/fmin.py\", line 364, in exhaust\n",
            "    self.run(self.max_evals - n_done, block_until_done=self.asynchronous)\n",
            "  File \"/usr/local/lib/python3.10/dist-packages/hyperopt/fmin.py\", line 279, in run\n",
            "    new_ids, self.domain, trials, self.rstate.integers(2 ** 31 - 1)\n",
            "AttributeError: module 'numpy.random' has no attribute 'integers'\n",
            "\n",
            "INFO:auto_surprise.context.result_logging_manager_baseline_only:Done!\n"
          ]
        },
        {
          "output_type": "stream",
          "name": "stdout",
          "text": [
            "Evaluating RMSE, MAE, MSE of algorithm SlopeOne on 5 split(s).\n",
            "\n",
            "                  Fold 1  Fold 2  Fold 3  Fold 4  Fold 5  Mean    Std     \n",
            "RMSE (testset)    0.9411  0.9508  0.9480  0.9437  0.9417  0.9451  0.0038  \n",
            "MAE (testset)     0.7397  0.7431  0.7446  0.7443  0.7410  0.7425  0.0019  \n",
            "MSE (testset)     0.8856  0.9041  0.8987  0.8905  0.8868  0.8931  0.0071  \n",
            "Fit time          2.77    1.46    2.24    0.77    0.78    1.60    0.80    \n",
            "Test time         9.18    10.67   6.60    2.88    3.02    6.47    3.16    \n"
          ]
        },
        {
          "output_type": "stream",
          "name": "stderr",
          "text": [
            "INFO:auto_surprise.context.result_logging_manager_slope_one:Execution time: 0:00:42 Loss: 0.9450518422874599 Hyperparameters: None\n",
            "INFO:auto_surprise.context.result_logging_manager_slope_one:Done!\n"
          ]
        },
        {
          "output_type": "display_data",
          "data": {
            "text/plain": [
              "----Done!----\n"
            ],
            "text/html": [
              "<pre style=\"white-space:pre;overflow-x:auto;line-height:normal;font-family:Menlo,'DejaVu Sans Mono',consolas,'Courier New',monospace\">----Done!----\n",
              "</pre>\n"
            ]
          },
          "metadata": {}
        },
        {
          "output_type": "display_data",
          "data": {
            "text/plain": [
              "Best algorithm: slope_one\n"
            ],
            "text/html": [
              "<pre style=\"white-space:pre;overflow-x:auto;line-height:normal;font-family:Menlo,'DejaVu Sans Mono',consolas,'Courier New',monospace\">Best algorithm: slope_one\n",
              "</pre>\n"
            ]
          },
          "metadata": {}
        },
        {
          "output_type": "display_data",
          "data": {
            "text/plain": [
              "Best hyperparameters: \u001b[3;35mNone\u001b[0m\n"
            ],
            "text/html": [
              "<pre style=\"white-space:pre;overflow-x:auto;line-height:normal;font-family:Menlo,'DejaVu Sans Mono',consolas,'Courier New',monospace\">Best hyperparameters: <span style=\"color: #800080; text-decoration-color: #800080; font-style: italic\">None</span>\n",
              "</pre>\n"
            ]
          },
          "metadata": {}
        },
        {
          "output_type": "display_data",
          "data": {
            "text/plain": [
              "┏━━━━━━━━━━━━━━━━━━┳━━━━━━━━━━━━━━━━━┳━━━━━━━━━━━━━━━━━━━━┓\n",
              "┃\u001b[1;35m \u001b[0m\u001b[1;35mAlgorithm       \u001b[0m\u001b[1;35m \u001b[0m┃\u001b[1;35m \u001b[0m\u001b[1;35mHyperparameters\u001b[0m\u001b[1;35m \u001b[0m┃\u001b[1;35m \u001b[0m\u001b[1;35m              Loss\u001b[0m\u001b[1;35m \u001b[0m┃\n",
              "┡━━━━━━━━━━━━━━━━━━╇━━━━━━━━━━━━━━━━━╇━━━━━━━━━━━━━━━━━━━━┩\n",
              "│ svd              │ None            │               None │\n",
              "│ svdpp            │ None            │               None │\n",
              "│ knn_basic        │ None            │               None │\n",
              "│ nmf              │ None            │               None │\n",
              "│ knn_with_means   │ None            │               None │\n",
              "│ knn_baseline     │ None            │               None │\n",
              "│ knn_with_z_score │ None            │               None │\n",
              "│ co_clustering    │ None            │               None │\n",
              "│ baseline_only    │ None            │               None │\n",
              "│ slope_one        │ None            │ 0.9450518422874599 │\n",
              "└──────────────────┴─────────────────┴────────────────────┘\n"
            ],
            "text/html": [
              "<pre style=\"white-space:pre;overflow-x:auto;line-height:normal;font-family:Menlo,'DejaVu Sans Mono',consolas,'Courier New',monospace\">┏━━━━━━━━━━━━━━━━━━┳━━━━━━━━━━━━━━━━━┳━━━━━━━━━━━━━━━━━━━━┓\n",
              "┃<span style=\"color: #800080; text-decoration-color: #800080; font-weight: bold\"> Algorithm        </span>┃<span style=\"color: #800080; text-decoration-color: #800080; font-weight: bold\"> Hyperparameters </span>┃<span style=\"color: #800080; text-decoration-color: #800080; font-weight: bold\">               Loss </span>┃\n",
              "┡━━━━━━━━━━━━━━━━━━╇━━━━━━━━━━━━━━━━━╇━━━━━━━━━━━━━━━━━━━━┩\n",
              "│ svd              │ None            │               None │\n",
              "│ svdpp            │ None            │               None │\n",
              "│ knn_basic        │ None            │               None │\n",
              "│ nmf              │ None            │               None │\n",
              "│ knn_with_means   │ None            │               None │\n",
              "│ knn_baseline     │ None            │               None │\n",
              "│ knn_with_z_score │ None            │               None │\n",
              "│ co_clustering    │ None            │               None │\n",
              "│ baseline_only    │ None            │               None │\n",
              "│ slope_one        │ None            │ 0.9450518422874599 │\n",
              "└──────────────────┴─────────────────┴────────────────────┘\n",
              "</pre>\n"
            ]
          },
          "metadata": {}
        },
        {
          "output_type": "stream",
          "name": "stdout",
          "text": [
            "Best algorithm: slope_one\n",
            "Best parameters: None\n",
            "Best score: 0.9450518422874599\n"
          ]
        }
      ]
    },
    {
      "cell_type": "code",
      "source": [
        "model.fit(trainset)\n",
        "predictions_best = model.test(testset)"
      ],
      "metadata": {
        "id": "lOSELbJ2Ek4Y"
      },
      "execution_count": null,
      "outputs": []
    },
    {
      "cell_type": "code",
      "source": [
        "mse(predictions_best)\n",
        "rmse(predictions_best)\n",
        "mae(predictions_best);"
      ],
      "metadata": {
        "colab": {
          "base_uri": "https://localhost:8080/"
        },
        "id": "ZKUXvDNpEkHo",
        "outputId": "3285edaa-f8a6-4cdb-a055-2e4acbfaf456"
      },
      "execution_count": null,
      "outputs": [
        {
          "output_type": "stream",
          "name": "stdout",
          "text": [
            "MSE: 0.9144\n",
            "RMSE: 0.9562\n",
            "MAE:  0.7519\n"
          ]
        }
      ]
    },
    {
      "cell_type": "code",
      "source": [
        "# get average evaluation measures and print them\n",
        "avg_precision, avg_recall, avg_f1, avg_accuracy = precision_recall_f1(predictions_best, threshold=3.5)\n",
        "print(f'Avg. Precision: {avg_precision}')\n",
        "print(f'Avg. Recall: {avg_recall}')\n",
        "print(f'Avg. F1: {avg_f1}')\n",
        "print(f'Avg. Accuracy: {avg_accuracy}')"
      ],
      "metadata": {
        "colab": {
          "base_uri": "https://localhost:8080/"
        },
        "id": "k1-9bH1FEw8X",
        "outputId": "ca7a1055-e4ef-4a97-8a70-f777c1a477d1"
      },
      "execution_count": null,
      "outputs": [
        {
          "output_type": "stream",
          "name": "stdout",
          "text": [
            "Avg. Precision: 0.6780604516730733\n",
            "Avg. Recall: 0.6766154685398983\n",
            "Avg. F1: 0.6527662332691184\n",
            "Avg. Accuracy: 0.6991592522261192\n"
          ]
        }
      ]
    },
    {
      "cell_type": "code",
      "source": [
        "# get average evaluation measures and print them\n",
        "avg_average_precisions, avg_precisions, avg_ndcgs = measures_at_k(predictions_best, k=5, threshold=3.5)\n",
        "print(f'Avg. AveragePrecision: {avg_average_precisions}')\n",
        "print(f'Avg. Precision@5: {avg_precisions}')\n",
        "print(f'Avg. nDCG@5: {avg_ndcgs}')"
      ],
      "metadata": {
        "colab": {
          "base_uri": "https://localhost:8080/"
        },
        "id": "V8XMkyhGEw4v",
        "outputId": "61069c4a-cd7b-4fdf-eaa9-de394c0b58ce"
      },
      "execution_count": null,
      "outputs": [
        {
          "output_type": "stream",
          "name": "stdout",
          "text": [
            "Avg. AveragePrecision: 0.6622588402951715\n",
            "Avg. Precision@5: 0.735332625619249\n",
            "Avg. nDCG@5: 0.8796546638870865\n"
          ]
        }
      ]
    },
    {
      "cell_type": "markdown",
      "source": [
        "### Getting some predictions"
      ],
      "metadata": {
        "id": "iD8dH-QbGCEe"
      }
    },
    {
      "cell_type": "code",
      "source": [
        "top_n = get_top_n(predictions_best, n=5)\n",
        "\n",
        "# Let's get recommendations for user 196\n",
        "uid = 196\n",
        "# collect all movies the user rated\n",
        "user_movies = df_ratings[df_ratings['UserID'] == int(uid)]\n",
        "\n",
        "# get the recommendations for the specific user from the top_n dict\n",
        "recommendations = [df_movies[df_movies['MovieID'] == int(iid)]['Title'].iloc[0] for (iid, _) in top_n[uid]]\n",
        "\n",
        "print('Top 5 recommendations for user with id 196:')\n",
        "for i, rec in enumerate(recommendations):\n",
        "    print(f'{i+1} {rec}')"
      ],
      "metadata": {
        "colab": {
          "base_uri": "https://localhost:8080/"
        },
        "id": "5SRLVeskFzTT",
        "outputId": "3e5d35d9-e177-422a-eec5-8c0e0ecb6e17"
      },
      "execution_count": null,
      "outputs": [
        {
          "output_type": "stream",
          "name": "stdout",
          "text": [
            "Top 5 recommendations for user with id 196:\n",
            "1 Babe \n",
            "2 Raising Arizona \n",
            "3 Mighty Aphrodite \n",
            "4 While You Were Sleeping \n",
            "5 Beautiful Girls \n"
          ]
        }
      ]
    },
    {
      "cell_type": "code",
      "source": [
        "# First we collect all movies the user rated and filter them down to only those appearing in the test set\n",
        "user_movies = df_ratings[df_ratings['UserID'] == uid].sort_values(by='Rating', ascending=False)\n",
        "movies_relevant = []\n",
        "for user, movie, rating in testset:\n",
        "    if user == uid:\n",
        "        movies_relevant.append(df_movies[df_movies['MovieID'] == int(movie)]['Title'].iloc[0])\n",
        "\n",
        "for movie in movies_relevant:\n",
        "    print(movie)"
      ],
      "metadata": {
        "colab": {
          "base_uri": "https://localhost:8080/"
        },
        "id": "4gf3cfdNFzQZ",
        "outputId": "f74d592d-662e-45a9-c151-00b06f4f30ec"
      },
      "execution_count": null,
      "outputs": [
        {
          "output_type": "stream",
          "name": "stdout",
          "text": [
            "Mighty Aphrodite \n",
            "Operation Dumbo Drop \n",
            "While You Were Sleeping \n",
            "Babe \n",
            "Raising Arizona \n",
            "Up in Smoke \n",
            "Beautiful Girls \n"
          ]
        }
      ]
    },
    {
      "cell_type": "markdown",
      "source": [
        "## **Content-based recommender**"
      ],
      "metadata": {
        "id": "-tiCDgGiIMGh"
      }
    },
    {
      "cell_type": "code",
      "source": [
        "import pandas as pd\n",
        "# assuming movies and ratings are already defined as dataframes\n",
        "df_merged = pd.merge(df_movies, df_ratings, on='MovieID', how='inner')\n",
        "df_merged = pd.merge(df_merged, df_users, on='UserID', how='inner')"
      ],
      "metadata": {
        "id": "069BwgBPFzM9"
      },
      "execution_count": null,
      "outputs": []
    },
    {
      "cell_type": "code",
      "source": [
        "df_merged"
      ],
      "metadata": {
        "colab": {
          "base_uri": "https://localhost:8080/",
          "height": 424
        },
        "id": "Os9sjvDxFzKQ",
        "outputId": "8a2bcf03-6ac1-4d70-9030-56c008e3ef68"
      },
      "execution_count": null,
      "outputs": [
        {
          "output_type": "execute_result",
          "data": {
            "text/plain": [
              "       MovieID                 Title                       Genres  Year  \\\n",
              "0            1            Toy Story   Animation Children s Comedy  1995   \n",
              "1            4           Get Shorty           Action Comedy Drama  1995   \n",
              "2            5              Copycat          Crime Drama Thriller  1995   \n",
              "3            7       Twelve Monkeys                  Drama Sci Fi  1995   \n",
              "4            8                 Babe       Children s Comedy Drama  1995   \n",
              "...        ...                   ...                          ...   ...   \n",
              "99995      748            Saint The       Action Romance Thriller  1997   \n",
              "99996      751  Tomorrow Never Dies       Action Romance Thriller  1997   \n",
              "99997      879       Peacemaker The           Action Thriller War  1997   \n",
              "99998      894           Home Alone             Children s Comedy  1997   \n",
              "99999      901             Mr Magoo                        Comedy  1997   \n",
              "\n",
              "       UserID  Rating  Age Gender Occupation Zip-code  \n",
              "0         308       4   60   Male    retired    95076  \n",
              "1         308       5   60   Male    retired    95076  \n",
              "2         308       4   60   Male    retired    95076  \n",
              "3         308       4   60   Male    retired    95076  \n",
              "4         308       5   60   Male    retired    95076  \n",
              "...       ...     ...  ...    ...        ...      ...  \n",
              "99995     729       4   19   Male    student    56567  \n",
              "99996     729       3   19   Male    student    56567  \n",
              "99997     729       3   19   Male    student    56567  \n",
              "99998     729       1   19   Male    student    56567  \n",
              "99999     729       1   19   Male    student    56567  \n",
              "\n",
              "[100000 rows x 10 columns]"
            ],
            "text/html": [
              "\n",
              "  <div id=\"df-87edebfe-d1d0-4b9c-bf89-8a299e8f9567\">\n",
              "    <div class=\"colab-df-container\">\n",
              "      <div>\n",
              "<style scoped>\n",
              "    .dataframe tbody tr th:only-of-type {\n",
              "        vertical-align: middle;\n",
              "    }\n",
              "\n",
              "    .dataframe tbody tr th {\n",
              "        vertical-align: top;\n",
              "    }\n",
              "\n",
              "    .dataframe thead th {\n",
              "        text-align: right;\n",
              "    }\n",
              "</style>\n",
              "<table border=\"1\" class=\"dataframe\">\n",
              "  <thead>\n",
              "    <tr style=\"text-align: right;\">\n",
              "      <th></th>\n",
              "      <th>MovieID</th>\n",
              "      <th>Title</th>\n",
              "      <th>Genres</th>\n",
              "      <th>Year</th>\n",
              "      <th>UserID</th>\n",
              "      <th>Rating</th>\n",
              "      <th>Age</th>\n",
              "      <th>Gender</th>\n",
              "      <th>Occupation</th>\n",
              "      <th>Zip-code</th>\n",
              "    </tr>\n",
              "  </thead>\n",
              "  <tbody>\n",
              "    <tr>\n",
              "      <th>0</th>\n",
              "      <td>1</td>\n",
              "      <td>Toy Story</td>\n",
              "      <td>Animation Children s Comedy</td>\n",
              "      <td>1995</td>\n",
              "      <td>308</td>\n",
              "      <td>4</td>\n",
              "      <td>60</td>\n",
              "      <td>Male</td>\n",
              "      <td>retired</td>\n",
              "      <td>95076</td>\n",
              "    </tr>\n",
              "    <tr>\n",
              "      <th>1</th>\n",
              "      <td>4</td>\n",
              "      <td>Get Shorty</td>\n",
              "      <td>Action Comedy Drama</td>\n",
              "      <td>1995</td>\n",
              "      <td>308</td>\n",
              "      <td>5</td>\n",
              "      <td>60</td>\n",
              "      <td>Male</td>\n",
              "      <td>retired</td>\n",
              "      <td>95076</td>\n",
              "    </tr>\n",
              "    <tr>\n",
              "      <th>2</th>\n",
              "      <td>5</td>\n",
              "      <td>Copycat</td>\n",
              "      <td>Crime Drama Thriller</td>\n",
              "      <td>1995</td>\n",
              "      <td>308</td>\n",
              "      <td>4</td>\n",
              "      <td>60</td>\n",
              "      <td>Male</td>\n",
              "      <td>retired</td>\n",
              "      <td>95076</td>\n",
              "    </tr>\n",
              "    <tr>\n",
              "      <th>3</th>\n",
              "      <td>7</td>\n",
              "      <td>Twelve Monkeys</td>\n",
              "      <td>Drama Sci Fi</td>\n",
              "      <td>1995</td>\n",
              "      <td>308</td>\n",
              "      <td>4</td>\n",
              "      <td>60</td>\n",
              "      <td>Male</td>\n",
              "      <td>retired</td>\n",
              "      <td>95076</td>\n",
              "    </tr>\n",
              "    <tr>\n",
              "      <th>4</th>\n",
              "      <td>8</td>\n",
              "      <td>Babe</td>\n",
              "      <td>Children s Comedy Drama</td>\n",
              "      <td>1995</td>\n",
              "      <td>308</td>\n",
              "      <td>5</td>\n",
              "      <td>60</td>\n",
              "      <td>Male</td>\n",
              "      <td>retired</td>\n",
              "      <td>95076</td>\n",
              "    </tr>\n",
              "    <tr>\n",
              "      <th>...</th>\n",
              "      <td>...</td>\n",
              "      <td>...</td>\n",
              "      <td>...</td>\n",
              "      <td>...</td>\n",
              "      <td>...</td>\n",
              "      <td>...</td>\n",
              "      <td>...</td>\n",
              "      <td>...</td>\n",
              "      <td>...</td>\n",
              "      <td>...</td>\n",
              "    </tr>\n",
              "    <tr>\n",
              "      <th>99995</th>\n",
              "      <td>748</td>\n",
              "      <td>Saint The</td>\n",
              "      <td>Action Romance Thriller</td>\n",
              "      <td>1997</td>\n",
              "      <td>729</td>\n",
              "      <td>4</td>\n",
              "      <td>19</td>\n",
              "      <td>Male</td>\n",
              "      <td>student</td>\n",
              "      <td>56567</td>\n",
              "    </tr>\n",
              "    <tr>\n",
              "      <th>99996</th>\n",
              "      <td>751</td>\n",
              "      <td>Tomorrow Never Dies</td>\n",
              "      <td>Action Romance Thriller</td>\n",
              "      <td>1997</td>\n",
              "      <td>729</td>\n",
              "      <td>3</td>\n",
              "      <td>19</td>\n",
              "      <td>Male</td>\n",
              "      <td>student</td>\n",
              "      <td>56567</td>\n",
              "    </tr>\n",
              "    <tr>\n",
              "      <th>99997</th>\n",
              "      <td>879</td>\n",
              "      <td>Peacemaker The</td>\n",
              "      <td>Action Thriller War</td>\n",
              "      <td>1997</td>\n",
              "      <td>729</td>\n",
              "      <td>3</td>\n",
              "      <td>19</td>\n",
              "      <td>Male</td>\n",
              "      <td>student</td>\n",
              "      <td>56567</td>\n",
              "    </tr>\n",
              "    <tr>\n",
              "      <th>99998</th>\n",
              "      <td>894</td>\n",
              "      <td>Home Alone</td>\n",
              "      <td>Children s Comedy</td>\n",
              "      <td>1997</td>\n",
              "      <td>729</td>\n",
              "      <td>1</td>\n",
              "      <td>19</td>\n",
              "      <td>Male</td>\n",
              "      <td>student</td>\n",
              "      <td>56567</td>\n",
              "    </tr>\n",
              "    <tr>\n",
              "      <th>99999</th>\n",
              "      <td>901</td>\n",
              "      <td>Mr Magoo</td>\n",
              "      <td>Comedy</td>\n",
              "      <td>1997</td>\n",
              "      <td>729</td>\n",
              "      <td>1</td>\n",
              "      <td>19</td>\n",
              "      <td>Male</td>\n",
              "      <td>student</td>\n",
              "      <td>56567</td>\n",
              "    </tr>\n",
              "  </tbody>\n",
              "</table>\n",
              "<p>100000 rows × 10 columns</p>\n",
              "</div>\n",
              "      <button class=\"colab-df-convert\" onclick=\"convertToInteractive('df-87edebfe-d1d0-4b9c-bf89-8a299e8f9567')\"\n",
              "              title=\"Convert this dataframe to an interactive table.\"\n",
              "              style=\"display:none;\">\n",
              "        \n",
              "  <svg xmlns=\"http://www.w3.org/2000/svg\" height=\"24px\"viewBox=\"0 0 24 24\"\n",
              "       width=\"24px\">\n",
              "    <path d=\"M0 0h24v24H0V0z\" fill=\"none\"/>\n",
              "    <path d=\"M18.56 5.44l.94 2.06.94-2.06 2.06-.94-2.06-.94-.94-2.06-.94 2.06-2.06.94zm-11 1L8.5 8.5l.94-2.06 2.06-.94-2.06-.94L8.5 2.5l-.94 2.06-2.06.94zm10 10l.94 2.06.94-2.06 2.06-.94-2.06-.94-.94-2.06-.94 2.06-2.06.94z\"/><path d=\"M17.41 7.96l-1.37-1.37c-.4-.4-.92-.59-1.43-.59-.52 0-1.04.2-1.43.59L10.3 9.45l-7.72 7.72c-.78.78-.78 2.05 0 2.83L4 21.41c.39.39.9.59 1.41.59.51 0 1.02-.2 1.41-.59l7.78-7.78 2.81-2.81c.8-.78.8-2.07 0-2.86zM5.41 20L4 18.59l7.72-7.72 1.47 1.35L5.41 20z\"/>\n",
              "  </svg>\n",
              "      </button>\n",
              "      \n",
              "  <style>\n",
              "    .colab-df-container {\n",
              "      display:flex;\n",
              "      flex-wrap:wrap;\n",
              "      gap: 12px;\n",
              "    }\n",
              "\n",
              "    .colab-df-convert {\n",
              "      background-color: #E8F0FE;\n",
              "      border: none;\n",
              "      border-radius: 50%;\n",
              "      cursor: pointer;\n",
              "      display: none;\n",
              "      fill: #1967D2;\n",
              "      height: 32px;\n",
              "      padding: 0 0 0 0;\n",
              "      width: 32px;\n",
              "    }\n",
              "\n",
              "    .colab-df-convert:hover {\n",
              "      background-color: #E2EBFA;\n",
              "      box-shadow: 0px 1px 2px rgba(60, 64, 67, 0.3), 0px 1px 3px 1px rgba(60, 64, 67, 0.15);\n",
              "      fill: #174EA6;\n",
              "    }\n",
              "\n",
              "    [theme=dark] .colab-df-convert {\n",
              "      background-color: #3B4455;\n",
              "      fill: #D2E3FC;\n",
              "    }\n",
              "\n",
              "    [theme=dark] .colab-df-convert:hover {\n",
              "      background-color: #434B5C;\n",
              "      box-shadow: 0px 1px 3px 1px rgba(0, 0, 0, 0.15);\n",
              "      filter: drop-shadow(0px 1px 2px rgba(0, 0, 0, 0.3));\n",
              "      fill: #FFFFFF;\n",
              "    }\n",
              "  </style>\n",
              "\n",
              "      <script>\n",
              "        const buttonEl =\n",
              "          document.querySelector('#df-87edebfe-d1d0-4b9c-bf89-8a299e8f9567 button.colab-df-convert');\n",
              "        buttonEl.style.display =\n",
              "          google.colab.kernel.accessAllowed ? 'block' : 'none';\n",
              "\n",
              "        async function convertToInteractive(key) {\n",
              "          const element = document.querySelector('#df-87edebfe-d1d0-4b9c-bf89-8a299e8f9567');\n",
              "          const dataTable =\n",
              "            await google.colab.kernel.invokeFunction('convertToInteractive',\n",
              "                                                     [key], {});\n",
              "          if (!dataTable) return;\n",
              "\n",
              "          const docLinkHtml = 'Like what you see? Visit the ' +\n",
              "            '<a target=\"_blank\" href=https://colab.research.google.com/notebooks/data_table.ipynb>data table notebook</a>'\n",
              "            + ' to learn more about interactive tables.';\n",
              "          element.innerHTML = '';\n",
              "          dataTable['output_type'] = 'display_data';\n",
              "          await google.colab.output.renderOutput(dataTable, element);\n",
              "          const docLink = document.createElement('div');\n",
              "          docLink.innerHTML = docLinkHtml;\n",
              "          element.appendChild(docLink);\n",
              "        }\n",
              "      </script>\n",
              "    </div>\n",
              "  </div>\n",
              "  "
            ]
          },
          "metadata": {},
          "execution_count": 76
        }
      ]
    },
    {
      "cell_type": "code",
      "source": [
        "type(df_merged['Occupation'][0])"
      ],
      "metadata": {
        "colab": {
          "base_uri": "https://localhost:8080/"
        },
        "id": "Emp3IwEWVH1U",
        "outputId": "f354259e-674d-4957-eacc-0bb5b4b601e2"
      },
      "execution_count": null,
      "outputs": [
        {
          "output_type": "execute_result",
          "data": {
            "text/plain": [
              "str"
            ]
          },
          "metadata": {},
          "execution_count": 40
        }
      ]
    },
    {
      "cell_type": "code",
      "source": [
        "from gensim.utils import tokenize\n",
        "# Prepare Content\n",
        "df_merged['content'] = df_merged['Title'] + ' ' + df_merged['Genres'].astype(str)+ ' ' + df_merged['Gender'].astype(str) + ' ' + df_merged['Occupation'].astype(str)\n",
        "merged_content_dict = dict(zip(df_merged['MovieID'], df_merged['content']))\n",
        "\n",
        "# Add content to trainset to parse the content of the movies to the trainset\n",
        "#Convert content to list - Make sure that starting from 0 to the highest movieId a content entry exists in the list\n",
        "trainset.content = [merged_content_dict[key] if key in merged_content_dict else '' for key in range(0, max(merged_content_dict.keys()))]"
      ],
      "metadata": {
        "id": "07UhnsTvIv5E"
      },
      "execution_count": null,
      "outputs": []
    },
    {
      "cell_type": "code",
      "source": [
        "reader = Reader(rating_scale=(1, 5))\n",
        "\n",
        "df_merged = Dataset.load_from_df(df_ratings, reader)\n",
        "df_merged.content = [merged_content_dict[key] if key in merged_content_dict else '' for key in range(0, max(merged_content_dict.keys()))]"
      ],
      "metadata": {
        "id": "T2lqRD1TIv1i"
      },
      "execution_count": null,
      "outputs": []
    },
    {
      "cell_type": "code",
      "source": [
        "# Import KNNBasic from surprise\n",
        "# Content-based Prediction using the Gensim library\n",
        "from surprise import AlgoBase, Dataset, PredictionImpossible\n",
        "from surprise.model_selection import cross_validate\n",
        "from gensim.models import TfidfModel\n",
        "from gensim.corpora import Dictionary\n",
        "from gensim.similarities import SparseMatrixSimilarity\n",
        "\n",
        "sim_options = {'name': 'cosine', 'user_based': True}\n",
        "\n",
        "# Define a custom content-based recommender class that inherits from KNNBasic\n",
        "class ContentKNN(KNNBasic):\n",
        "    def __init__(self,k=5, sim_options=sim_options):\n",
        "        # Call the base method and pass the sim_options parameter\n",
        "        KNNBasic.__init__(self, sim_options=sim_options)\n",
        "        self.k=k\n",
        "        self.df = df_merged\n",
        "    \n",
        "    def fit(self, trainset):\n",
        "        # Call the base method before doing anything\n",
        "        KNNBasic.fit(self, trainset)\n",
        "        \n",
        "        # Tokenize content by whitespace\n",
        "        tokenized_content = [list(tokenize(line)) for line in df_merged.content]\n",
        "        \n",
        "        # Compute TF-IDF Similarity Matrix\n",
        "        dct = Dictionary(tokenized_content) # fit dictionary\n",
        "        self.corpus = [dct.doc2bow(line) for line in tokenized_content]\n",
        "        self.model = TfidfModel(self.corpus)\n",
        "\n",
        "        \n",
        "        # Prepare Index\n",
        "        self.index = SparseMatrixSimilarity(self.model[self.corpus], num_features=len(dct))\n",
        "\n",
        "        return self\n",
        "    \n",
        "    \n",
        "    def estimate(self, u, i):\n",
        "        \n",
        "        # The user must be \"known\" as we need at least 1 rated item to make a recommendation\n",
        "        if self.trainset.knows_user(u):\n",
        "            # Get user ratings\n",
        "            user_ratings = self.trainset.ur[u]\n",
        "            \n",
        "            # if an item is not \"known\" to the training set (cold-start) we still can\n",
        "            # make a prediction with the content-based recommender\n",
        "            if type(i) is str:\n",
        "                i = int(i.replace('UKN__', '')) - 1\n",
        "            \n",
        "            # Get similarities\n",
        "            try:\n",
        "                similarities = self.index[self.corpus[i]]\n",
        "            except TypeError:\n",
        "                set_trace()\n",
        "            \n",
        "            # Filter user similarity scores by number of nearst neighbours and threshold > 0\n",
        "            sim_user_dict = {user_rating[0]: similarities[user_rating[0]] for user_rating in user_ratings}\n",
        "            sorted_filtered_sim = sorted(list(sim_user_dict.values()), reverse=True)[0:self.k]\n",
        "            sim_user_dict = {user: sim for user, sim in sim_user_dict.items() if sim > 0 and sim in sorted_filtered_sim}\n",
        "            \n",
        "            #Simple prediction\n",
        "            if len(sim_user_dict) > 0:\n",
        "                rating = sum([sim_user_dict[user_rating[0]]*user_rating[1] for user_rating in user_ratings if user_rating[0] in sim_user_dict])/\\\n",
        "                sum([sim_user_dict[user_rating[0]] for user_rating in user_ratings if user_rating[0] in sim_user_dict])\n",
        "            else:\n",
        "                raise PredictionImpossible(\"No similar items found.\")\n",
        "        else:\n",
        "            raise PredictionImpossible(\"User is unknown.\")\n",
        "        \n",
        "        \n",
        "        return rating"
      ],
      "metadata": {
        "id": "bVH9r3hxIvzG"
      },
      "execution_count": null,
      "outputs": []
    },
    {
      "cell_type": "code",
      "source": [
        "knn = ContentKNN(k=5)\n",
        "\n",
        "# Train the algorithm on the trainset, and predict ratings for the testset\n",
        "knn.fit(trainset)\n",
        "predictions_contentknn = knn.test(testset)\n",
        "\n",
        "# Then compute MSE, RMSE and MAE\n",
        "mse(predictions_contentknn)\n",
        "rmse(predictions_contentknn)\n",
        "mae(predictions_contentknn);"
      ],
      "metadata": {
        "colab": {
          "base_uri": "https://localhost:8080/"
        },
        "id": "rS7qlZIMIvwA",
        "outputId": "8ab7e86c-9eb6-48d5-e7ca-a60a386722a1"
      },
      "execution_count": null,
      "outputs": [
        {
          "output_type": "stream",
          "name": "stdout",
          "text": [
            "Computing the cosine similarity matrix...\n",
            "Done computing similarity matrix.\n",
            "MSE: 1.3211\n",
            "RMSE: 1.1494\n",
            "MAE:  0.9106\n"
          ]
        }
      ]
    },
    {
      "cell_type": "code",
      "source": [
        "# get average evaluation measures and print them\n",
        "avg_precision, avg_recall, avg_f1, avg_accuracy = precision_recall_f1(predictions_contentknn, threshold=3.5)\n",
        "print(f'Avg. Precision: {avg_precision}')\n",
        "print(f'Avg. Recall: {avg_recall}')\n",
        "print(f'Avg. F1: {avg_f1}')\n",
        "print(f'Avg. Accuracy: {avg_accuracy}')"
      ],
      "metadata": {
        "colab": {
          "base_uri": "https://localhost:8080/"
        },
        "id": "F2pkX4KgbWDo",
        "outputId": "325b8e04-1282-4399-d8ff-438ad3ffd2cd"
      },
      "execution_count": null,
      "outputs": [
        {
          "output_type": "stream",
          "name": "stdout",
          "text": [
            "Avg. Precision: 0.5546686203195269\n",
            "Avg. Recall: 0.5763129687640732\n",
            "Avg. F1: 0.5425755455775949\n",
            "Avg. Accuracy: 0.5943389769268215\n"
          ]
        }
      ]
    },
    {
      "cell_type": "code",
      "source": [
        "# get average evaluation measures and print them\n",
        "avg_average_precisions, avg_precisions, avg_ndcgs = measures_at_k(predictions_contentknn, k=5, threshold=3.5)\n",
        "print(f'Avg. AveragePrecision: {avg_average_precisions}')\n",
        "print(f'Avg. Precision@5: {avg_precisions}')\n",
        "print(f'Avg. nDCG@5: {avg_ndcgs}')"
      ],
      "metadata": {
        "colab": {
          "base_uri": "https://localhost:8080/"
        },
        "id": "usGyD3_7bV6R",
        "outputId": "e6a24b59-747a-4265-d4ce-4e8731b20933"
      },
      "execution_count": null,
      "outputs": [
        {
          "output_type": "stream",
          "name": "stdout",
          "text": [
            "Avg. AveragePrecision: 0.5937205917511698\n",
            "Avg. Precision@5: 0.5549539985845737\n",
            "Avg. nDCG@5: 0.784435705640516\n"
          ]
        }
      ]
    },
    {
      "cell_type": "markdown",
      "source": [
        "### Hyperparameter tuning"
      ],
      "metadata": {
        "id": "rTGUfFaGbBd_"
      }
    },
    {
      "cell_type": "code",
      "source": [
        "# Import GridSearchCV from surprise\n",
        "from surprise.model_selection import GridSearchCV\n",
        "\n",
        "# Define a dictionary of hyperparameters and their values to search over\n",
        "param_grid = {\n",
        "    'k': [3, 5, 10, 20],\n",
        "    'sim_options': {\n",
        "        'name': ['cosine', 'pearson'],\n",
        "        'user_based': [True, False]\n",
        "    }\n",
        "}\n",
        "\n",
        "# Create a GridSearchCV object with the content-based recommender and the parameter grid\n",
        "grid_search = GridSearchCV(ContentKNN, param_grid, cv=5)\n",
        "\n",
        "# Fit the grid search on the Trainset object\n",
        "grid_search.fit(df_merged)\n",
        "\n",
        "# Print the best score and the best parameters\n",
        "print(\"Best score: {}\".format(grid_search.best_score))\n",
        "print(\"Best parameters: {}\".format(grid_search.best_params))"
      ],
      "metadata": {
        "colab": {
          "base_uri": "https://localhost:8080/"
        },
        "id": "CkxNeMrKbE-4",
        "outputId": "f30fdad7-81a6-4efd-d065-5702e0c93121"
      },
      "execution_count": null,
      "outputs": [
        {
          "output_type": "stream",
          "name": "stdout",
          "text": [
            "Computing the cosine similarity matrix...\n",
            "Done computing similarity matrix.\n",
            "Computing the cosine similarity matrix...\n",
            "Done computing similarity matrix.\n",
            "Computing the cosine similarity matrix...\n",
            "Done computing similarity matrix.\n",
            "Computing the cosine similarity matrix...\n",
            "Done computing similarity matrix.\n",
            "Computing the cosine similarity matrix...\n",
            "Done computing similarity matrix.\n",
            "Computing the cosine similarity matrix...\n",
            "Done computing similarity matrix.\n",
            "Computing the cosine similarity matrix...\n",
            "Done computing similarity matrix.\n",
            "Computing the cosine similarity matrix...\n",
            "Done computing similarity matrix.\n",
            "Computing the cosine similarity matrix...\n",
            "Done computing similarity matrix.\n",
            "Computing the cosine similarity matrix...\n",
            "Done computing similarity matrix.\n",
            "Computing the pearson similarity matrix...\n",
            "Done computing similarity matrix.\n",
            "Computing the pearson similarity matrix...\n",
            "Done computing similarity matrix.\n",
            "Computing the pearson similarity matrix...\n",
            "Done computing similarity matrix.\n",
            "Computing the pearson similarity matrix...\n",
            "Done computing similarity matrix.\n",
            "Computing the pearson similarity matrix...\n",
            "Done computing similarity matrix.\n",
            "Computing the pearson similarity matrix...\n",
            "Done computing similarity matrix.\n",
            "Computing the pearson similarity matrix...\n",
            "Done computing similarity matrix.\n",
            "Computing the pearson similarity matrix...\n",
            "Done computing similarity matrix.\n",
            "Computing the pearson similarity matrix...\n",
            "Done computing similarity matrix.\n",
            "Computing the pearson similarity matrix...\n",
            "Done computing similarity matrix.\n",
            "Computing the cosine similarity matrix...\n",
            "Done computing similarity matrix.\n",
            "Computing the cosine similarity matrix...\n",
            "Done computing similarity matrix.\n",
            "Computing the cosine similarity matrix...\n",
            "Done computing similarity matrix.\n",
            "Computing the cosine similarity matrix...\n",
            "Done computing similarity matrix.\n",
            "Computing the cosine similarity matrix...\n",
            "Done computing similarity matrix.\n",
            "Computing the cosine similarity matrix...\n",
            "Done computing similarity matrix.\n",
            "Computing the cosine similarity matrix...\n",
            "Done computing similarity matrix.\n",
            "Computing the cosine similarity matrix...\n",
            "Done computing similarity matrix.\n",
            "Computing the cosine similarity matrix...\n",
            "Done computing similarity matrix.\n",
            "Computing the cosine similarity matrix...\n",
            "Done computing similarity matrix.\n",
            "Computing the pearson similarity matrix...\n",
            "Done computing similarity matrix.\n",
            "Computing the pearson similarity matrix...\n",
            "Done computing similarity matrix.\n",
            "Computing the pearson similarity matrix...\n",
            "Done computing similarity matrix.\n",
            "Computing the pearson similarity matrix...\n",
            "Done computing similarity matrix.\n",
            "Computing the pearson similarity matrix...\n",
            "Done computing similarity matrix.\n",
            "Computing the pearson similarity matrix...\n",
            "Done computing similarity matrix.\n",
            "Computing the pearson similarity matrix...\n",
            "Done computing similarity matrix.\n",
            "Computing the pearson similarity matrix...\n",
            "Done computing similarity matrix.\n",
            "Computing the pearson similarity matrix...\n",
            "Done computing similarity matrix.\n",
            "Computing the pearson similarity matrix...\n",
            "Done computing similarity matrix.\n",
            "Computing the cosine similarity matrix...\n",
            "Done computing similarity matrix.\n",
            "Computing the cosine similarity matrix...\n",
            "Done computing similarity matrix.\n",
            "Computing the cosine similarity matrix...\n",
            "Done computing similarity matrix.\n",
            "Computing the cosine similarity matrix...\n",
            "Done computing similarity matrix.\n",
            "Computing the cosine similarity matrix...\n",
            "Done computing similarity matrix.\n",
            "Computing the cosine similarity matrix...\n",
            "Done computing similarity matrix.\n",
            "Computing the cosine similarity matrix...\n",
            "Done computing similarity matrix.\n",
            "Computing the cosine similarity matrix...\n",
            "Done computing similarity matrix.\n",
            "Computing the cosine similarity matrix...\n",
            "Done computing similarity matrix.\n",
            "Computing the cosine similarity matrix...\n",
            "Done computing similarity matrix.\n",
            "Computing the pearson similarity matrix...\n",
            "Done computing similarity matrix.\n",
            "Computing the pearson similarity matrix...\n",
            "Done computing similarity matrix.\n",
            "Computing the pearson similarity matrix...\n",
            "Done computing similarity matrix.\n",
            "Computing the pearson similarity matrix...\n",
            "Done computing similarity matrix.\n",
            "Computing the pearson similarity matrix...\n",
            "Done computing similarity matrix.\n",
            "Computing the pearson similarity matrix...\n",
            "Done computing similarity matrix.\n",
            "Computing the pearson similarity matrix...\n",
            "Done computing similarity matrix.\n",
            "Computing the pearson similarity matrix...\n",
            "Done computing similarity matrix.\n",
            "Computing the pearson similarity matrix...\n",
            "Done computing similarity matrix.\n",
            "Computing the pearson similarity matrix...\n",
            "Done computing similarity matrix.\n",
            "Computing the cosine similarity matrix...\n",
            "Done computing similarity matrix.\n",
            "Computing the cosine similarity matrix...\n",
            "Done computing similarity matrix.\n",
            "Computing the cosine similarity matrix...\n",
            "Done computing similarity matrix.\n",
            "Computing the cosine similarity matrix...\n",
            "Done computing similarity matrix.\n",
            "Computing the cosine similarity matrix...\n",
            "Done computing similarity matrix.\n",
            "Computing the cosine similarity matrix...\n",
            "Done computing similarity matrix.\n",
            "Computing the cosine similarity matrix...\n",
            "Done computing similarity matrix.\n",
            "Computing the cosine similarity matrix...\n",
            "Done computing similarity matrix.\n",
            "Computing the cosine similarity matrix...\n",
            "Done computing similarity matrix.\n",
            "Computing the cosine similarity matrix...\n",
            "Done computing similarity matrix.\n",
            "Computing the pearson similarity matrix...\n",
            "Done computing similarity matrix.\n",
            "Computing the pearson similarity matrix...\n",
            "Done computing similarity matrix.\n",
            "Computing the pearson similarity matrix...\n",
            "Done computing similarity matrix.\n",
            "Computing the pearson similarity matrix...\n",
            "Done computing similarity matrix.\n",
            "Computing the pearson similarity matrix...\n",
            "Done computing similarity matrix.\n",
            "Computing the pearson similarity matrix...\n",
            "Done computing similarity matrix.\n",
            "Computing the pearson similarity matrix...\n",
            "Done computing similarity matrix.\n",
            "Computing the pearson similarity matrix...\n",
            "Done computing similarity matrix.\n",
            "Computing the pearson similarity matrix...\n",
            "Done computing similarity matrix.\n",
            "Computing the pearson similarity matrix...\n",
            "Done computing similarity matrix.\n",
            "Best score: {'rmse': 1.0639910486514261, 'mae': 0.849085433936277}\n",
            "Best parameters: {'rmse': {'k': 20, 'sim_options': {'name': 'cosine', 'user_based': True}}, 'mae': {'k': 20, 'sim_options': {'name': 'cosine', 'user_based': True}}}\n"
          ]
        }
      ]
    },
    {
      "cell_type": "code",
      "source": [
        "knn = ContentKNN(k=20)\n",
        "\n",
        "# Train the algorithm on the trainset, and predict ratings for the testset\n",
        "knn.fit(trainset)\n",
        "predictions_contentknn_best = knn.test(testset)\n",
        "\n",
        "# Then compute MSE, RMSE and MAE\n",
        "mse(predictions_contentknn_best)\n",
        "rmse(predictions_contentknn_best)\n",
        "mae(predictions_contentknn_best);"
      ],
      "metadata": {
        "colab": {
          "base_uri": "https://localhost:8080/"
        },
        "id": "s_Yb5kzcbFFM",
        "outputId": "573e7cb4-fad9-4a7e-f8b2-d8b9b9e47639"
      },
      "execution_count": null,
      "outputs": [
        {
          "output_type": "stream",
          "name": "stdout",
          "text": [
            "Computing the cosine similarity matrix...\n",
            "Done computing similarity matrix.\n",
            "MSE: 1.1593\n",
            "RMSE: 1.0767\n",
            "MAE:  0.8578\n"
          ]
        }
      ]
    },
    {
      "cell_type": "code",
      "source": [
        "predictions_contentknn_best"
      ],
      "metadata": {
        "id": "9GvI1_iWjVd0"
      },
      "execution_count": null,
      "outputs": []
    },
    {
      "cell_type": "code",
      "source": [
        "# get average evaluation measures and print them\n",
        "avg_precision, avg_recall, avg_f1, avg_accuracy = precision_recall_f1(predictions_contentknn_best, threshold=3.5)\n",
        "print(f'Avg. Precision: {avg_precision}')\n",
        "print(f'Avg. Recall: {avg_recall}')\n",
        "print(f'Avg. F1: {avg_f1}')\n",
        "print(f'Avg. Accuracy: {avg_accuracy}')"
      ],
      "metadata": {
        "colab": {
          "base_uri": "https://localhost:8080/"
        },
        "id": "5mRho7Nhbhq4",
        "outputId": "b3121368-c859-4fb6-9425-20396ed332a6"
      },
      "execution_count": null,
      "outputs": [
        {
          "output_type": "stream",
          "name": "stdout",
          "text": [
            "Avg. Precision: 0.535904325382323\n",
            "Avg. Recall: 0.598286604442075\n",
            "Avg. F1: 0.5330380991803724\n",
            "Avg. Accuracy: 0.6171243638650945\n"
          ]
        }
      ]
    },
    {
      "cell_type": "code",
      "source": [
        "# get average evaluation measures and print them\n",
        "avg_average_precisions, avg_precisions, avg_ndcgs = measures_at_k(predictions_contentknn_best, k=5, threshold=3.5)\n",
        "print(f'Avg. AveragePrecision: {avg_average_precisions}')\n",
        "print(f'Avg. Precision@5: {avg_precisions}')\n",
        "print(f'Avg. nDCG@5: {avg_ndcgs}')"
      ],
      "metadata": {
        "colab": {
          "base_uri": "https://localhost:8080/"
        },
        "id": "E7VQYhiYbhnf",
        "outputId": "ae60f93e-f374-4106-809a-66b42f12540d"
      },
      "execution_count": null,
      "outputs": [
        {
          "output_type": "stream",
          "name": "stdout",
          "text": [
            "Avg. AveragePrecision: 0.5907083413840537\n",
            "Avg. Precision@5: 0.534711874427617\n",
            "Avg. nDCG@5: 0.8647974626430708\n"
          ]
        }
      ]
    },
    {
      "cell_type": "code",
      "source": [
        "top_n = get_top_n(predictions_contentknn, n=5)\n",
        "\n",
        "# collect all movies the user rated\n",
        "user_movies = df_ratings[df_ratings['UserID'] == int(uid)]\n",
        "\n",
        "# get the recommendations for the specific user from the top_n dict\n",
        "recommendations = [df_movies[df_movies['MovieID'] == int(iid)]['Title'].iloc[0] for (iid, _) in top_n[uid]]\n",
        "\n",
        "print('Top 5 recommendations for user with id 196:')\n",
        "for i, rec in enumerate(recommendations):\n",
        "    print(f'{i+1} {rec}')"
      ],
      "metadata": {
        "colab": {
          "base_uri": "https://localhost:8080/"
        },
        "id": "kxU6gfmCbcw9",
        "outputId": "bcfc0eaf-4964-457c-f7ae-3f4597e60e38"
      },
      "execution_count": null,
      "outputs": [
        {
          "output_type": "stream",
          "name": "stdout",
          "text": [
            "Top 5 recommendations for user with id 256:\n",
            "1 Operation Dumbo Drop \n",
            "2 Babe \n",
            "3 While You Were Sleeping \n",
            "4 Mighty Aphrodite \n",
            "5 Beautiful Girls \n"
          ]
        }
      ]
    },
    {
      "cell_type": "code",
      "source": [
        "# First we collect all movies the user rated and filter them down to only those appearing in the test set\n",
        "user_movies = df_ratings[df_ratings['UserID'] == uid].sort_values(by='Rating', ascending=False)\n",
        "movies_relevant = []\n",
        "for user, movie, rating in testset:\n",
        "    if user == uid:\n",
        "        movies_relevant.append(df_movies[df_movies['MovieID'] == int(movie)]['Title'].iloc[0])\n",
        "\n",
        "for movie in movies_relevant:\n",
        "    print(movie)"
      ],
      "metadata": {
        "colab": {
          "base_uri": "https://localhost:8080/"
        },
        "id": "ZIQ7FbcZbgQG",
        "outputId": "4a009e93-f545-436b-e279-caab7f85b806"
      },
      "execution_count": null,
      "outputs": [
        {
          "output_type": "stream",
          "name": "stdout",
          "text": [
            "Mighty Aphrodite \n",
            "Operation Dumbo Drop \n",
            "While You Were Sleeping \n",
            "Babe \n",
            "Raising Arizona \n",
            "Up in Smoke \n",
            "Beautiful Girls \n"
          ]
        }
      ]
    },
    {
      "cell_type": "markdown",
      "source": [
        "### **Hybrid recommender system**"
      ],
      "metadata": {
        "id": "-JBamQzEmJSG"
      }
    },
    {
      "cell_type": "code",
      "source": [
        "from surprise.prediction_algorithms import SlopeOne"
      ],
      "metadata": {
        "id": "KMbmkCILbgMk"
      },
      "execution_count": null,
      "outputs": []
    },
    {
      "cell_type": "code",
      "source": [
        "class ContentKNNBasicHybrid(AlgoBase):\n",
        "    def __init__(self,k=20, name='cosine', user_based=True, min_support=1):\n",
        "\n",
        "        # Always call base method before doing anything.\n",
        "        AlgoBase.__init__(self)\n",
        "        self.k = k\n",
        "        self.name = name\n",
        "        self.user_based = user_based\n",
        "        self.min_support = min_support\n",
        "    \n",
        "    def fit(self, trainset):\n",
        "\n",
        "        # Here again: call base method before doing anything.\n",
        "        AlgoBase.fit(self, trainset)\n",
        "        \n",
        "        self.content = ContentKNN(k=20)\n",
        "        self.content.fit(trainset)\n",
        "        \n",
        "        sim_options = {'name': self.name, 'user_based': self.user_based, 'min_support': self.min_support}\n",
        "        self.slopeone = SlopeOne()\n",
        "        self.slopeone.fit(trainset)\n",
        "\n",
        "        return self\n",
        "    \n",
        "    \n",
        "    def estimate(self, u, i):\n",
        "        # Implement estimation\n",
        "\n",
        "        if self.trainset.knows_user(u):\n",
        "            r_content = self.content.estimate(u, i)\n",
        "            r_slopeone = self.slopeone.estimate(u, i)\n",
        "\n",
        "            #Simple prediction using the average of both ratings\n",
        "            rating = (r_content + r_slopeone) / 2\n",
        "        else:\n",
        "            raise PredictionImpossible(\"User is unknown.\")\n",
        "            \n",
        "        return rating"
      ],
      "metadata": {
        "id": "Bkr5CjAIbgJ-"
      },
      "execution_count": null,
      "outputs": []
    },
    {
      "cell_type": "code",
      "source": [
        "algo = ContentKNNBasicHybrid(k=20, name='cosine', user_based=True, min_support=1)\n",
        "\n",
        "# Train the algorithm on the trainset, and predict ratings for the testset\n",
        "algo.fit(trainset)\n",
        "predictions = algo.test(testset)\n",
        "  \n",
        "# Then compute MSE, RMSE and MAE\n",
        "mse(predictions)\n",
        "rmse(predictions)\n",
        "mae(predictions);"
      ],
      "metadata": {
        "colab": {
          "base_uri": "https://localhost:8080/"
        },
        "id": "86GK3USomzAe",
        "outputId": "a017d49c-9ad8-469f-a064-752339f5f83d"
      },
      "execution_count": null,
      "outputs": [
        {
          "output_type": "stream",
          "name": "stdout",
          "text": [
            "Computing the cosine similarity matrix...\n",
            "Done computing similarity matrix.\n",
            "MSE: 0.9603\n",
            "RMSE: 0.9800\n",
            "MAE:  0.7777\n"
          ]
        }
      ]
    },
    {
      "cell_type": "code",
      "source": [
        "# get average evaluation measures and print them\n",
        "avg_precision, avg_recall, avg_f1, avg_accuracy = precision_recall_f1(predictions, threshold=3.5)\n",
        "print(f'Avg. Precision: {avg_precision}')\n",
        "print(f'Avg. Recall: {avg_recall}')\n",
        "print(f'Avg. F1: {avg_f1}')\n",
        "print(f'Avg. Accuracy: {avg_accuracy}')"
      ],
      "metadata": {
        "colab": {
          "base_uri": "https://localhost:8080/"
        },
        "id": "S4sUqNOrvB9z",
        "outputId": "5c0f1d99-3412-446c-9cfb-c65e9b3f8ad2"
      },
      "execution_count": null,
      "outputs": [
        {
          "output_type": "stream",
          "name": "stdout",
          "text": [
            "Avg. Precision: 0.614262914488529\n",
            "Avg. Recall: 0.6514880878752577\n",
            "Avg. F1: 0.5970714707551356\n",
            "Avg. Accuracy: 0.6798590369062698\n"
          ]
        }
      ]
    },
    {
      "cell_type": "code",
      "source": [
        "# get average evaluation measures and print them\n",
        "avg_average_precisions, avg_precisions, avg_ndcgs = measures_at_k(predictions, k=20, threshold=3.5)\n",
        "print(f'Avg. AveragePrecision: {avg_average_precisions}')\n",
        "print(f'Avg. Precision@5: {avg_precisions}')\n",
        "print(f'Avg. nDCG@5: {avg_ndcgs}')"
      ],
      "metadata": {
        "colab": {
          "base_uri": "https://localhost:8080/"
        },
        "id": "4wHhP6yZvHhJ",
        "outputId": "cc1a6eee-3de7-4e3f-ff9b-944a13be4174"
      },
      "execution_count": null,
      "outputs": [
        {
          "output_type": "stream",
          "name": "stdout",
          "text": [
            "Avg. AveragePrecision: 0.6302085613605027\n",
            "Avg. Precision@5: 0.6320032625720736\n",
            "Avg. nDCG@5: 0.9181293999009891\n"
          ]
        }
      ]
    },
    {
      "cell_type": "code",
      "source": [
        "# First we collect all movies the user rated and filter them down to only those appearing in the test set\n",
        "user_movies = df_ratings[df_ratings['UserID'] == uid].sort_values(by='Rating', ascending=False)\n",
        "movies_relevant = []\n",
        "for user, movie, rating in testset:\n",
        "    if user == uid:\n",
        "        movies_relevant.append(df_movies[df_movies['MovieID'] == int(movie)]['Title'].iloc[0])\n",
        "\n",
        "for movie in movies_relevant:\n",
        "    print(movie)"
      ],
      "metadata": {
        "colab": {
          "base_uri": "https://localhost:8080/"
        },
        "id": "4iXen635P4ls",
        "outputId": "e931d52f-a747-434f-d3bc-93c520be3771"
      },
      "execution_count": null,
      "outputs": [
        {
          "output_type": "stream",
          "name": "stdout",
          "text": [
            "Mighty Aphrodite \n",
            "Operation Dumbo Drop \n",
            "While You Were Sleeping \n",
            "Babe \n",
            "Raising Arizona \n",
            "Up in Smoke \n",
            "Beautiful Girls \n"
          ]
        }
      ]
    },
    {
      "cell_type": "code",
      "source": [
        "top_n = get_top_n(predictions, n=5)\n",
        "\n",
        "# collect all movies the user rated\n",
        "user_movies = df_ratings[df_ratings['UserID'] == int(uid)]\n",
        "\n",
        "# get the recommendations for the specific user from the top_n dict\n",
        "recommendations = [df_movies[df_movies['MovieID'] == int(iid)]['Title'].iloc[0] for (iid, _) in top_n[uid]]\n",
        "\n",
        "print('Top 5 recommendations for user with id 196:')\n",
        "for i, rec in enumerate(recommendations):\n",
        "    print(f'{i+1} {rec}')"
      ],
      "metadata": {
        "colab": {
          "base_uri": "https://localhost:8080/"
        },
        "id": "aTogztKurlAy",
        "outputId": "f9583a9f-79d0-4065-ef19-abb1d592d3cd"
      },
      "execution_count": null,
      "outputs": [
        {
          "output_type": "stream",
          "name": "stdout",
          "text": [
            "Top 5 recommendations for user with id 196:\n",
            "1 Babe \n",
            "2 Raising Arizona \n",
            "3 While You Were Sleeping \n",
            "4 Mighty Aphrodite \n",
            "5 Beautiful Girls \n"
          ]
        }
      ]
    },
    {
      "cell_type": "code",
      "source": [],
      "metadata": {
        "id": "TKUOi7GIrk9m"
      },
      "execution_count": null,
      "outputs": []
    }
  ]
}