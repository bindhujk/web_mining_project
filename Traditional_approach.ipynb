{
  "nbformat": 4,
  "nbformat_minor": 0,
  "metadata": {
    "colab": {
      "provenance": [],
      "authorship_tag": "ABX9TyM6qZead/NuzDFJAuYH8slk",
      "include_colab_link": true
    },
    "kernelspec": {
      "name": "python3",
      "display_name": "Python 3"
    },
    "language_info": {
      "name": "python"
    }
  },
  "cells": [
    {
      "cell_type": "markdown",
      "metadata": {
        "id": "view-in-github",
        "colab_type": "text"
      },
      "source": [
        "<a href=\"https://colab.research.google.com/github/bindhujk/web_mining_project/blob/main/Web_mining_final.ipynb\" target=\"_parent\"><img src=\"https://colab.research.google.com/assets/colab-badge.svg\" alt=\"Open In Colab\"/></a>"
      ]
    },
    {
      "cell_type": "code",
      "execution_count": null,
      "metadata": {
        "id": "5aGrovXih5cU",
        "colab": {
          "base_uri": "https://localhost:8080/"
        },
        "outputId": "6d5ec0bf-f263-40c6-aa4b-3574583c0dae"
      },
      "outputs": [
        {
          "output_type": "stream",
          "name": "stdout",
          "text": [
            "Looking in indexes: https://pypi.org/simple, https://us-python.pkg.dev/colab-wheels/public/simple/\n",
            "Collecting surprise\n",
            "  Downloading surprise-0.1-py2.py3-none-any.whl (1.8 kB)\n",
            "Collecting scikit-surprise (from surprise)\n",
            "  Downloading scikit-surprise-1.1.3.tar.gz (771 kB)\n",
            "\u001b[2K     \u001b[90m━━━━━━━━━━━━━━━━━━━━━━━━━━━━━━━━━━━━━━\u001b[0m \u001b[32m772.0/772.0 kB\u001b[0m \u001b[31m10.4 MB/s\u001b[0m eta \u001b[36m0:00:00\u001b[0m\n",
            "\u001b[?25h  Preparing metadata (setup.py) ... \u001b[?25l\u001b[?25hdone\n",
            "Requirement already satisfied: joblib>=1.0.0 in /usr/local/lib/python3.10/dist-packages (from scikit-surprise->surprise) (1.2.0)\n",
            "Requirement already satisfied: numpy>=1.17.3 in /usr/local/lib/python3.10/dist-packages (from scikit-surprise->surprise) (1.22.4)\n",
            "Requirement already satisfied: scipy>=1.3.2 in /usr/local/lib/python3.10/dist-packages (from scikit-surprise->surprise) (1.10.1)\n",
            "Building wheels for collected packages: scikit-surprise\n",
            "  Building wheel for scikit-surprise (setup.py) ... \u001b[?25l\u001b[?25hdone\n",
            "  Created wheel for scikit-surprise: filename=scikit_surprise-1.1.3-cp310-cp310-linux_x86_64.whl size=3095448 sha256=75c867916aeaf96bbd16c846fb935241f8c22bb1fe31a3f6e6b9c7daba495d5f\n",
            "  Stored in directory: /root/.cache/pip/wheels/a5/ca/a8/4e28def53797fdc4363ca4af740db15a9c2f1595ebc51fb445\n",
            "Successfully built scikit-surprise\n",
            "Installing collected packages: scikit-surprise, surprise\n",
            "Successfully installed scikit-surprise-1.1.3 surprise-0.1\n"
          ]
        }
      ],
      "source": [
        "!pip install surprise"
      ]
    },
    {
      "cell_type": "code",
      "source": [
        "import csv\n",
        "import pandas as pd\n",
        "import re\n",
        "import numpy as np\n",
        "from sklearn import preprocessing\n",
        "from scipy.sparse import coo_matrix\n",
        "from scipy.sparse import csr_matrix\n",
        "from surprise import KNNBasic\n",
        "from surprise.model_selection import train_test_split\n",
        "from pdb import set_trace\n",
        "from surprise.accuracy import mse, rmse, mae\n",
        "from surprise import Dataset, Reader, KNNBasic\n",
        "import seaborn as sns"
      ],
      "metadata": {
        "id": "XNc4FoA_h5_4"
      },
      "execution_count": null,
      "outputs": []
    },
    {
      "cell_type": "code",
      "source": [
        "import random\n",
        "my_seed = 0\n",
        "random.seed(my_seed)\n",
        "np.random.seed(my_seed)"
      ],
      "metadata": {
        "id": "G9YgpoWxh6Dt"
      },
      "execution_count": null,
      "outputs": []
    },
    {
      "cell_type": "code",
      "source": [
        "from google.colab import drive\n",
        "drive.mount('/content/gdrive')"
      ],
      "metadata": {
        "id": "Rji4eR2bh6EV",
        "colab": {
          "base_uri": "https://localhost:8080/"
        },
        "outputId": "b5fb3927-4737-4cd8-a0ee-2cdb478586eb"
      },
      "execution_count": null,
      "outputs": [
        {
          "output_type": "stream",
          "name": "stdout",
          "text": [
            "Mounted at /content/gdrive\n"
          ]
        }
      ]
    },
    {
      "cell_type": "code",
      "source": [
        "def make_csv_file(srcfile, targetfile):\n",
        "    with open(srcfile, 'r') as dat_file:\n",
        "        with open(targetfile, 'w', newline='', encoding = 'utf-8') as csv_file:\n",
        "            csv_writer = csv.writer(csv_file)\n",
        "            for row in dat_file:\n",
        "                row = [value.strip() for value in row.split('::')]\n",
        "                csv_writer.writerow(row)"
      ],
      "metadata": {
        "id": "M1nLRBith6Hr"
      },
      "execution_count": null,
      "outputs": []
    },
    {
      "cell_type": "code",
      "source": [
        "df_ratings = pd.read_csv('/content/gdrive/MyDrive/ratings.csv')\n",
        "df_movies = pd.read_csv('/content/gdrive/MyDrive/movies.csv')\n",
        "df_users = pd.read_csv('/content/gdrive/MyDrive/users.csv')"
      ],
      "metadata": {
        "id": "MzXVvgLoh6Jc"
      },
      "execution_count": null,
      "outputs": []
    },
    {
      "cell_type": "code",
      "source": [
        "df_ratings.head()"
      ],
      "metadata": {
        "id": "AjcruDkxh6N2",
        "colab": {
          "base_uri": "https://localhost:8080/",
          "height": 206
        },
        "outputId": "7c0b8b1b-11b4-46d5-efcf-6f9c7b1b8135"
      },
      "execution_count": null,
      "outputs": [
        {
          "output_type": "execute_result",
          "data": {
            "text/plain": [
              "   UserID  MovieID  Rating  Timestamp\n",
              "0       1     1193       5  978300760\n",
              "1       1      661       3  978302109\n",
              "2       1      914       3  978301968\n",
              "3       1     3408       4  978300275\n",
              "4       1     2355       5  978824291"
            ],
            "text/html": [
              "\n",
              "  <div id=\"df-efcb3ec9-231a-4843-8b82-4ff2bc44764d\">\n",
              "    <div class=\"colab-df-container\">\n",
              "      <div>\n",
              "<style scoped>\n",
              "    .dataframe tbody tr th:only-of-type {\n",
              "        vertical-align: middle;\n",
              "    }\n",
              "\n",
              "    .dataframe tbody tr th {\n",
              "        vertical-align: top;\n",
              "    }\n",
              "\n",
              "    .dataframe thead th {\n",
              "        text-align: right;\n",
              "    }\n",
              "</style>\n",
              "<table border=\"1\" class=\"dataframe\">\n",
              "  <thead>\n",
              "    <tr style=\"text-align: right;\">\n",
              "      <th></th>\n",
              "      <th>UserID</th>\n",
              "      <th>MovieID</th>\n",
              "      <th>Rating</th>\n",
              "      <th>Timestamp</th>\n",
              "    </tr>\n",
              "  </thead>\n",
              "  <tbody>\n",
              "    <tr>\n",
              "      <th>0</th>\n",
              "      <td>1</td>\n",
              "      <td>1193</td>\n",
              "      <td>5</td>\n",
              "      <td>978300760</td>\n",
              "    </tr>\n",
              "    <tr>\n",
              "      <th>1</th>\n",
              "      <td>1</td>\n",
              "      <td>661</td>\n",
              "      <td>3</td>\n",
              "      <td>978302109</td>\n",
              "    </tr>\n",
              "    <tr>\n",
              "      <th>2</th>\n",
              "      <td>1</td>\n",
              "      <td>914</td>\n",
              "      <td>3</td>\n",
              "      <td>978301968</td>\n",
              "    </tr>\n",
              "    <tr>\n",
              "      <th>3</th>\n",
              "      <td>1</td>\n",
              "      <td>3408</td>\n",
              "      <td>4</td>\n",
              "      <td>978300275</td>\n",
              "    </tr>\n",
              "    <tr>\n",
              "      <th>4</th>\n",
              "      <td>1</td>\n",
              "      <td>2355</td>\n",
              "      <td>5</td>\n",
              "      <td>978824291</td>\n",
              "    </tr>\n",
              "  </tbody>\n",
              "</table>\n",
              "</div>\n",
              "      <button class=\"colab-df-convert\" onclick=\"convertToInteractive('df-efcb3ec9-231a-4843-8b82-4ff2bc44764d')\"\n",
              "              title=\"Convert this dataframe to an interactive table.\"\n",
              "              style=\"display:none;\">\n",
              "        \n",
              "  <svg xmlns=\"http://www.w3.org/2000/svg\" height=\"24px\"viewBox=\"0 0 24 24\"\n",
              "       width=\"24px\">\n",
              "    <path d=\"M0 0h24v24H0V0z\" fill=\"none\"/>\n",
              "    <path d=\"M18.56 5.44l.94 2.06.94-2.06 2.06-.94-2.06-.94-.94-2.06-.94 2.06-2.06.94zm-11 1L8.5 8.5l.94-2.06 2.06-.94-2.06-.94L8.5 2.5l-.94 2.06-2.06.94zm10 10l.94 2.06.94-2.06 2.06-.94-2.06-.94-.94-2.06-.94 2.06-2.06.94z\"/><path d=\"M17.41 7.96l-1.37-1.37c-.4-.4-.92-.59-1.43-.59-.52 0-1.04.2-1.43.59L10.3 9.45l-7.72 7.72c-.78.78-.78 2.05 0 2.83L4 21.41c.39.39.9.59 1.41.59.51 0 1.02-.2 1.41-.59l7.78-7.78 2.81-2.81c.8-.78.8-2.07 0-2.86zM5.41 20L4 18.59l7.72-7.72 1.47 1.35L5.41 20z\"/>\n",
              "  </svg>\n",
              "      </button>\n",
              "      \n",
              "  <style>\n",
              "    .colab-df-container {\n",
              "      display:flex;\n",
              "      flex-wrap:wrap;\n",
              "      gap: 12px;\n",
              "    }\n",
              "\n",
              "    .colab-df-convert {\n",
              "      background-color: #E8F0FE;\n",
              "      border: none;\n",
              "      border-radius: 50%;\n",
              "      cursor: pointer;\n",
              "      display: none;\n",
              "      fill: #1967D2;\n",
              "      height: 32px;\n",
              "      padding: 0 0 0 0;\n",
              "      width: 32px;\n",
              "    }\n",
              "\n",
              "    .colab-df-convert:hover {\n",
              "      background-color: #E2EBFA;\n",
              "      box-shadow: 0px 1px 2px rgba(60, 64, 67, 0.3), 0px 1px 3px 1px rgba(60, 64, 67, 0.15);\n",
              "      fill: #174EA6;\n",
              "    }\n",
              "\n",
              "    [theme=dark] .colab-df-convert {\n",
              "      background-color: #3B4455;\n",
              "      fill: #D2E3FC;\n",
              "    }\n",
              "\n",
              "    [theme=dark] .colab-df-convert:hover {\n",
              "      background-color: #434B5C;\n",
              "      box-shadow: 0px 1px 3px 1px rgba(0, 0, 0, 0.15);\n",
              "      filter: drop-shadow(0px 1px 2px rgba(0, 0, 0, 0.3));\n",
              "      fill: #FFFFFF;\n",
              "    }\n",
              "  </style>\n",
              "\n",
              "      <script>\n",
              "        const buttonEl =\n",
              "          document.querySelector('#df-efcb3ec9-231a-4843-8b82-4ff2bc44764d button.colab-df-convert');\n",
              "        buttonEl.style.display =\n",
              "          google.colab.kernel.accessAllowed ? 'block' : 'none';\n",
              "\n",
              "        async function convertToInteractive(key) {\n",
              "          const element = document.querySelector('#df-efcb3ec9-231a-4843-8b82-4ff2bc44764d');\n",
              "          const dataTable =\n",
              "            await google.colab.kernel.invokeFunction('convertToInteractive',\n",
              "                                                     [key], {});\n",
              "          if (!dataTable) return;\n",
              "\n",
              "          const docLinkHtml = 'Like what you see? Visit the ' +\n",
              "            '<a target=\"_blank\" href=https://colab.research.google.com/notebooks/data_table.ipynb>data table notebook</a>'\n",
              "            + ' to learn more about interactive tables.';\n",
              "          element.innerHTML = '';\n",
              "          dataTable['output_type'] = 'display_data';\n",
              "          await google.colab.output.renderOutput(dataTable, element);\n",
              "          const docLink = document.createElement('div');\n",
              "          docLink.innerHTML = docLinkHtml;\n",
              "          element.appendChild(docLink);\n",
              "        }\n",
              "      </script>\n",
              "    </div>\n",
              "  </div>\n",
              "  "
            ]
          },
          "metadata": {},
          "execution_count": 7
        }
      ]
    },
    {
      "cell_type": "markdown",
      "source": [
        "df_ratings['Rating'].mean()"
      ],
      "metadata": {
        "id": "pAPa9eyhYnkQ"
      }
    },
    {
      "cell_type": "code",
      "source": [
        "df_movies"
      ],
      "metadata": {
        "id": "-Vwh7cz2h6On",
        "colab": {
          "base_uri": "https://localhost:8080/",
          "height": 424
        },
        "outputId": "ce809997-7c62-4e6a-9be3-a2b3fdc66db9"
      },
      "execution_count": null,
      "outputs": [
        {
          "output_type": "execute_result",
          "data": {
            "text/plain": [
              "      MovieID                               Title  \\\n",
              "0           1                    Toy Story (1995)   \n",
              "1           2                      Jumanji (1995)   \n",
              "2           3             Grumpier Old Men (1995)   \n",
              "3           4            Waiting to Exhale (1995)   \n",
              "4           5  Father of the Bride Part II (1995)   \n",
              "...       ...                                 ...   \n",
              "3878     3948             Meet the Parents (2000)   \n",
              "3879     3949          Requiem for a Dream (2000)   \n",
              "3880     3950                    Tigerland (2000)   \n",
              "3881     3951             Two Family House (2000)   \n",
              "3882     3952               Contender, The (2000)   \n",
              "\n",
              "                            Genres  \n",
              "0      Animation|Children's|Comedy  \n",
              "1     Adventure|Children's|Fantasy  \n",
              "2                   Comedy|Romance  \n",
              "3                     Comedy|Drama  \n",
              "4                           Comedy  \n",
              "...                            ...  \n",
              "3878                        Comedy  \n",
              "3879                         Drama  \n",
              "3880                         Drama  \n",
              "3881                         Drama  \n",
              "3882                Drama|Thriller  \n",
              "\n",
              "[3883 rows x 3 columns]"
            ],
            "text/html": [
              "\n",
              "  <div id=\"df-034b29a4-13d3-4ac0-8ada-2c50ffbb53fa\">\n",
              "    <div class=\"colab-df-container\">\n",
              "      <div>\n",
              "<style scoped>\n",
              "    .dataframe tbody tr th:only-of-type {\n",
              "        vertical-align: middle;\n",
              "    }\n",
              "\n",
              "    .dataframe tbody tr th {\n",
              "        vertical-align: top;\n",
              "    }\n",
              "\n",
              "    .dataframe thead th {\n",
              "        text-align: right;\n",
              "    }\n",
              "</style>\n",
              "<table border=\"1\" class=\"dataframe\">\n",
              "  <thead>\n",
              "    <tr style=\"text-align: right;\">\n",
              "      <th></th>\n",
              "      <th>MovieID</th>\n",
              "      <th>Title</th>\n",
              "      <th>Genres</th>\n",
              "    </tr>\n",
              "  </thead>\n",
              "  <tbody>\n",
              "    <tr>\n",
              "      <th>0</th>\n",
              "      <td>1</td>\n",
              "      <td>Toy Story (1995)</td>\n",
              "      <td>Animation|Children's|Comedy</td>\n",
              "    </tr>\n",
              "    <tr>\n",
              "      <th>1</th>\n",
              "      <td>2</td>\n",
              "      <td>Jumanji (1995)</td>\n",
              "      <td>Adventure|Children's|Fantasy</td>\n",
              "    </tr>\n",
              "    <tr>\n",
              "      <th>2</th>\n",
              "      <td>3</td>\n",
              "      <td>Grumpier Old Men (1995)</td>\n",
              "      <td>Comedy|Romance</td>\n",
              "    </tr>\n",
              "    <tr>\n",
              "      <th>3</th>\n",
              "      <td>4</td>\n",
              "      <td>Waiting to Exhale (1995)</td>\n",
              "      <td>Comedy|Drama</td>\n",
              "    </tr>\n",
              "    <tr>\n",
              "      <th>4</th>\n",
              "      <td>5</td>\n",
              "      <td>Father of the Bride Part II (1995)</td>\n",
              "      <td>Comedy</td>\n",
              "    </tr>\n",
              "    <tr>\n",
              "      <th>...</th>\n",
              "      <td>...</td>\n",
              "      <td>...</td>\n",
              "      <td>...</td>\n",
              "    </tr>\n",
              "    <tr>\n",
              "      <th>3878</th>\n",
              "      <td>3948</td>\n",
              "      <td>Meet the Parents (2000)</td>\n",
              "      <td>Comedy</td>\n",
              "    </tr>\n",
              "    <tr>\n",
              "      <th>3879</th>\n",
              "      <td>3949</td>\n",
              "      <td>Requiem for a Dream (2000)</td>\n",
              "      <td>Drama</td>\n",
              "    </tr>\n",
              "    <tr>\n",
              "      <th>3880</th>\n",
              "      <td>3950</td>\n",
              "      <td>Tigerland (2000)</td>\n",
              "      <td>Drama</td>\n",
              "    </tr>\n",
              "    <tr>\n",
              "      <th>3881</th>\n",
              "      <td>3951</td>\n",
              "      <td>Two Family House (2000)</td>\n",
              "      <td>Drama</td>\n",
              "    </tr>\n",
              "    <tr>\n",
              "      <th>3882</th>\n",
              "      <td>3952</td>\n",
              "      <td>Contender, The (2000)</td>\n",
              "      <td>Drama|Thriller</td>\n",
              "    </tr>\n",
              "  </tbody>\n",
              "</table>\n",
              "<p>3883 rows × 3 columns</p>\n",
              "</div>\n",
              "      <button class=\"colab-df-convert\" onclick=\"convertToInteractive('df-034b29a4-13d3-4ac0-8ada-2c50ffbb53fa')\"\n",
              "              title=\"Convert this dataframe to an interactive table.\"\n",
              "              style=\"display:none;\">\n",
              "        \n",
              "  <svg xmlns=\"http://www.w3.org/2000/svg\" height=\"24px\"viewBox=\"0 0 24 24\"\n",
              "       width=\"24px\">\n",
              "    <path d=\"M0 0h24v24H0V0z\" fill=\"none\"/>\n",
              "    <path d=\"M18.56 5.44l.94 2.06.94-2.06 2.06-.94-2.06-.94-.94-2.06-.94 2.06-2.06.94zm-11 1L8.5 8.5l.94-2.06 2.06-.94-2.06-.94L8.5 2.5l-.94 2.06-2.06.94zm10 10l.94 2.06.94-2.06 2.06-.94-2.06-.94-.94-2.06-.94 2.06-2.06.94z\"/><path d=\"M17.41 7.96l-1.37-1.37c-.4-.4-.92-.59-1.43-.59-.52 0-1.04.2-1.43.59L10.3 9.45l-7.72 7.72c-.78.78-.78 2.05 0 2.83L4 21.41c.39.39.9.59 1.41.59.51 0 1.02-.2 1.41-.59l7.78-7.78 2.81-2.81c.8-.78.8-2.07 0-2.86zM5.41 20L4 18.59l7.72-7.72 1.47 1.35L5.41 20z\"/>\n",
              "  </svg>\n",
              "      </button>\n",
              "      \n",
              "  <style>\n",
              "    .colab-df-container {\n",
              "      display:flex;\n",
              "      flex-wrap:wrap;\n",
              "      gap: 12px;\n",
              "    }\n",
              "\n",
              "    .colab-df-convert {\n",
              "      background-color: #E8F0FE;\n",
              "      border: none;\n",
              "      border-radius: 50%;\n",
              "      cursor: pointer;\n",
              "      display: none;\n",
              "      fill: #1967D2;\n",
              "      height: 32px;\n",
              "      padding: 0 0 0 0;\n",
              "      width: 32px;\n",
              "    }\n",
              "\n",
              "    .colab-df-convert:hover {\n",
              "      background-color: #E2EBFA;\n",
              "      box-shadow: 0px 1px 2px rgba(60, 64, 67, 0.3), 0px 1px 3px 1px rgba(60, 64, 67, 0.15);\n",
              "      fill: #174EA6;\n",
              "    }\n",
              "\n",
              "    [theme=dark] .colab-df-convert {\n",
              "      background-color: #3B4455;\n",
              "      fill: #D2E3FC;\n",
              "    }\n",
              "\n",
              "    [theme=dark] .colab-df-convert:hover {\n",
              "      background-color: #434B5C;\n",
              "      box-shadow: 0px 1px 3px 1px rgba(0, 0, 0, 0.15);\n",
              "      filter: drop-shadow(0px 1px 2px rgba(0, 0, 0, 0.3));\n",
              "      fill: #FFFFFF;\n",
              "    }\n",
              "  </style>\n",
              "\n",
              "      <script>\n",
              "        const buttonEl =\n",
              "          document.querySelector('#df-034b29a4-13d3-4ac0-8ada-2c50ffbb53fa button.colab-df-convert');\n",
              "        buttonEl.style.display =\n",
              "          google.colab.kernel.accessAllowed ? 'block' : 'none';\n",
              "\n",
              "        async function convertToInteractive(key) {\n",
              "          const element = document.querySelector('#df-034b29a4-13d3-4ac0-8ada-2c50ffbb53fa');\n",
              "          const dataTable =\n",
              "            await google.colab.kernel.invokeFunction('convertToInteractive',\n",
              "                                                     [key], {});\n",
              "          if (!dataTable) return;\n",
              "\n",
              "          const docLinkHtml = 'Like what you see? Visit the ' +\n",
              "            '<a target=\"_blank\" href=https://colab.research.google.com/notebooks/data_table.ipynb>data table notebook</a>'\n",
              "            + ' to learn more about interactive tables.';\n",
              "          element.innerHTML = '';\n",
              "          dataTable['output_type'] = 'display_data';\n",
              "          await google.colab.output.renderOutput(dataTable, element);\n",
              "          const docLink = document.createElement('div');\n",
              "          docLink.innerHTML = docLinkHtml;\n",
              "          element.appendChild(docLink);\n",
              "        }\n",
              "      </script>\n",
              "    </div>\n",
              "  </div>\n",
              "  "
            ]
          },
          "metadata": {},
          "execution_count": 25
        }
      ]
    },
    {
      "cell_type": "code",
      "source": [
        "df_users"
      ],
      "metadata": {
        "id": "TQpYRN-2h6Qx",
        "colab": {
          "base_uri": "https://localhost:8080/",
          "height": 424
        },
        "outputId": "b3a4ee80-4869-4ce6-e587-89b21039c5c5"
      },
      "execution_count": null,
      "outputs": [
        {
          "output_type": "execute_result",
          "data": {
            "text/plain": [
              "      UserID Gender  Age  Occupation Zip-code\n",
              "0          1      F    1          10    48067\n",
              "1          2      M   56          16    70072\n",
              "2          3      M   25          15    55117\n",
              "3          4      M   45           7    02460\n",
              "4          5      M   25          20    55455\n",
              "...      ...    ...  ...         ...      ...\n",
              "6035    6036      F   25          15    32603\n",
              "6036    6037      F   45           1    76006\n",
              "6037    6038      F   56           1    14706\n",
              "6038    6039      F   45           0    01060\n",
              "6039    6040      M   25           6    11106\n",
              "\n",
              "[6040 rows x 5 columns]"
            ],
            "text/html": [
              "\n",
              "  <div id=\"df-4c25e181-48b8-46b5-9599-7dd2872aaf23\">\n",
              "    <div class=\"colab-df-container\">\n",
              "      <div>\n",
              "<style scoped>\n",
              "    .dataframe tbody tr th:only-of-type {\n",
              "        vertical-align: middle;\n",
              "    }\n",
              "\n",
              "    .dataframe tbody tr th {\n",
              "        vertical-align: top;\n",
              "    }\n",
              "\n",
              "    .dataframe thead th {\n",
              "        text-align: right;\n",
              "    }\n",
              "</style>\n",
              "<table border=\"1\" class=\"dataframe\">\n",
              "  <thead>\n",
              "    <tr style=\"text-align: right;\">\n",
              "      <th></th>\n",
              "      <th>UserID</th>\n",
              "      <th>Gender</th>\n",
              "      <th>Age</th>\n",
              "      <th>Occupation</th>\n",
              "      <th>Zip-code</th>\n",
              "    </tr>\n",
              "  </thead>\n",
              "  <tbody>\n",
              "    <tr>\n",
              "      <th>0</th>\n",
              "      <td>1</td>\n",
              "      <td>F</td>\n",
              "      <td>1</td>\n",
              "      <td>10</td>\n",
              "      <td>48067</td>\n",
              "    </tr>\n",
              "    <tr>\n",
              "      <th>1</th>\n",
              "      <td>2</td>\n",
              "      <td>M</td>\n",
              "      <td>56</td>\n",
              "      <td>16</td>\n",
              "      <td>70072</td>\n",
              "    </tr>\n",
              "    <tr>\n",
              "      <th>2</th>\n",
              "      <td>3</td>\n",
              "      <td>M</td>\n",
              "      <td>25</td>\n",
              "      <td>15</td>\n",
              "      <td>55117</td>\n",
              "    </tr>\n",
              "    <tr>\n",
              "      <th>3</th>\n",
              "      <td>4</td>\n",
              "      <td>M</td>\n",
              "      <td>45</td>\n",
              "      <td>7</td>\n",
              "      <td>02460</td>\n",
              "    </tr>\n",
              "    <tr>\n",
              "      <th>4</th>\n",
              "      <td>5</td>\n",
              "      <td>M</td>\n",
              "      <td>25</td>\n",
              "      <td>20</td>\n",
              "      <td>55455</td>\n",
              "    </tr>\n",
              "    <tr>\n",
              "      <th>...</th>\n",
              "      <td>...</td>\n",
              "      <td>...</td>\n",
              "      <td>...</td>\n",
              "      <td>...</td>\n",
              "      <td>...</td>\n",
              "    </tr>\n",
              "    <tr>\n",
              "      <th>6035</th>\n",
              "      <td>6036</td>\n",
              "      <td>F</td>\n",
              "      <td>25</td>\n",
              "      <td>15</td>\n",
              "      <td>32603</td>\n",
              "    </tr>\n",
              "    <tr>\n",
              "      <th>6036</th>\n",
              "      <td>6037</td>\n",
              "      <td>F</td>\n",
              "      <td>45</td>\n",
              "      <td>1</td>\n",
              "      <td>76006</td>\n",
              "    </tr>\n",
              "    <tr>\n",
              "      <th>6037</th>\n",
              "      <td>6038</td>\n",
              "      <td>F</td>\n",
              "      <td>56</td>\n",
              "      <td>1</td>\n",
              "      <td>14706</td>\n",
              "    </tr>\n",
              "    <tr>\n",
              "      <th>6038</th>\n",
              "      <td>6039</td>\n",
              "      <td>F</td>\n",
              "      <td>45</td>\n",
              "      <td>0</td>\n",
              "      <td>01060</td>\n",
              "    </tr>\n",
              "    <tr>\n",
              "      <th>6039</th>\n",
              "      <td>6040</td>\n",
              "      <td>M</td>\n",
              "      <td>25</td>\n",
              "      <td>6</td>\n",
              "      <td>11106</td>\n",
              "    </tr>\n",
              "  </tbody>\n",
              "</table>\n",
              "<p>6040 rows × 5 columns</p>\n",
              "</div>\n",
              "      <button class=\"colab-df-convert\" onclick=\"convertToInteractive('df-4c25e181-48b8-46b5-9599-7dd2872aaf23')\"\n",
              "              title=\"Convert this dataframe to an interactive table.\"\n",
              "              style=\"display:none;\">\n",
              "        \n",
              "  <svg xmlns=\"http://www.w3.org/2000/svg\" height=\"24px\"viewBox=\"0 0 24 24\"\n",
              "       width=\"24px\">\n",
              "    <path d=\"M0 0h24v24H0V0z\" fill=\"none\"/>\n",
              "    <path d=\"M18.56 5.44l.94 2.06.94-2.06 2.06-.94-2.06-.94-.94-2.06-.94 2.06-2.06.94zm-11 1L8.5 8.5l.94-2.06 2.06-.94-2.06-.94L8.5 2.5l-.94 2.06-2.06.94zm10 10l.94 2.06.94-2.06 2.06-.94-2.06-.94-.94-2.06-.94 2.06-2.06.94z\"/><path d=\"M17.41 7.96l-1.37-1.37c-.4-.4-.92-.59-1.43-.59-.52 0-1.04.2-1.43.59L10.3 9.45l-7.72 7.72c-.78.78-.78 2.05 0 2.83L4 21.41c.39.39.9.59 1.41.59.51 0 1.02-.2 1.41-.59l7.78-7.78 2.81-2.81c.8-.78.8-2.07 0-2.86zM5.41 20L4 18.59l7.72-7.72 1.47 1.35L5.41 20z\"/>\n",
              "  </svg>\n",
              "      </button>\n",
              "      \n",
              "  <style>\n",
              "    .colab-df-container {\n",
              "      display:flex;\n",
              "      flex-wrap:wrap;\n",
              "      gap: 12px;\n",
              "    }\n",
              "\n",
              "    .colab-df-convert {\n",
              "      background-color: #E8F0FE;\n",
              "      border: none;\n",
              "      border-radius: 50%;\n",
              "      cursor: pointer;\n",
              "      display: none;\n",
              "      fill: #1967D2;\n",
              "      height: 32px;\n",
              "      padding: 0 0 0 0;\n",
              "      width: 32px;\n",
              "    }\n",
              "\n",
              "    .colab-df-convert:hover {\n",
              "      background-color: #E2EBFA;\n",
              "      box-shadow: 0px 1px 2px rgba(60, 64, 67, 0.3), 0px 1px 3px 1px rgba(60, 64, 67, 0.15);\n",
              "      fill: #174EA6;\n",
              "    }\n",
              "\n",
              "    [theme=dark] .colab-df-convert {\n",
              "      background-color: #3B4455;\n",
              "      fill: #D2E3FC;\n",
              "    }\n",
              "\n",
              "    [theme=dark] .colab-df-convert:hover {\n",
              "      background-color: #434B5C;\n",
              "      box-shadow: 0px 1px 3px 1px rgba(0, 0, 0, 0.15);\n",
              "      filter: drop-shadow(0px 1px 2px rgba(0, 0, 0, 0.3));\n",
              "      fill: #FFFFFF;\n",
              "    }\n",
              "  </style>\n",
              "\n",
              "      <script>\n",
              "        const buttonEl =\n",
              "          document.querySelector('#df-4c25e181-48b8-46b5-9599-7dd2872aaf23 button.colab-df-convert');\n",
              "        buttonEl.style.display =\n",
              "          google.colab.kernel.accessAllowed ? 'block' : 'none';\n",
              "\n",
              "        async function convertToInteractive(key) {\n",
              "          const element = document.querySelector('#df-4c25e181-48b8-46b5-9599-7dd2872aaf23');\n",
              "          const dataTable =\n",
              "            await google.colab.kernel.invokeFunction('convertToInteractive',\n",
              "                                                     [key], {});\n",
              "          if (!dataTable) return;\n",
              "\n",
              "          const docLinkHtml = 'Like what you see? Visit the ' +\n",
              "            '<a target=\"_blank\" href=https://colab.research.google.com/notebooks/data_table.ipynb>data table notebook</a>'\n",
              "            + ' to learn more about interactive tables.';\n",
              "          element.innerHTML = '';\n",
              "          dataTable['output_type'] = 'display_data';\n",
              "          await google.colab.output.renderOutput(dataTable, element);\n",
              "          const docLink = document.createElement('div');\n",
              "          docLink.innerHTML = docLinkHtml;\n",
              "          element.appendChild(docLink);\n",
              "        }\n",
              "      </script>\n",
              "    </div>\n",
              "  </div>\n",
              "  "
            ]
          },
          "metadata": {},
          "execution_count": 15
        }
      ]
    },
    {
      "cell_type": "code",
      "source": [
        "df_users.loc[df_users['Occupation']==0]"
      ],
      "metadata": {
        "colab": {
          "base_uri": "https://localhost:8080/",
          "height": 424
        },
        "id": "y8wSyXUpU2uM",
        "outputId": "4eb2e30b-051f-4ab7-abf1-19c6eede5c54"
      },
      "execution_count": null,
      "outputs": [
        {
          "output_type": "execute_result",
          "data": {
            "text/plain": [
              "      UserID Gender  Age  Occupation Zip-code\n",
              "13        14      M   35           0    60126\n",
              "15        16      F   35           0    20670\n",
              "22        23      M   35           0    90049\n",
              "31        32      F   25           0    19355\n",
              "33        34      F   18           0    02135\n",
              "...      ...    ...  ...         ...      ...\n",
              "6009    6010      M   35           0    79606\n",
              "6018    6019      M   25           0    10024\n",
              "6022    6023      M   25           0    43213\n",
              "6030    6031      F   18           0    45123\n",
              "6038    6039      F   45           0    01060\n",
              "\n",
              "[711 rows x 5 columns]"
            ],
            "text/html": [
              "\n",
              "  <div id=\"df-7e8dd145-6293-4e8b-9e5c-981c8033c66c\">\n",
              "    <div class=\"colab-df-container\">\n",
              "      <div>\n",
              "<style scoped>\n",
              "    .dataframe tbody tr th:only-of-type {\n",
              "        vertical-align: middle;\n",
              "    }\n",
              "\n",
              "    .dataframe tbody tr th {\n",
              "        vertical-align: top;\n",
              "    }\n",
              "\n",
              "    .dataframe thead th {\n",
              "        text-align: right;\n",
              "    }\n",
              "</style>\n",
              "<table border=\"1\" class=\"dataframe\">\n",
              "  <thead>\n",
              "    <tr style=\"text-align: right;\">\n",
              "      <th></th>\n",
              "      <th>UserID</th>\n",
              "      <th>Gender</th>\n",
              "      <th>Age</th>\n",
              "      <th>Occupation</th>\n",
              "      <th>Zip-code</th>\n",
              "    </tr>\n",
              "  </thead>\n",
              "  <tbody>\n",
              "    <tr>\n",
              "      <th>13</th>\n",
              "      <td>14</td>\n",
              "      <td>M</td>\n",
              "      <td>35</td>\n",
              "      <td>0</td>\n",
              "      <td>60126</td>\n",
              "    </tr>\n",
              "    <tr>\n",
              "      <th>15</th>\n",
              "      <td>16</td>\n",
              "      <td>F</td>\n",
              "      <td>35</td>\n",
              "      <td>0</td>\n",
              "      <td>20670</td>\n",
              "    </tr>\n",
              "    <tr>\n",
              "      <th>22</th>\n",
              "      <td>23</td>\n",
              "      <td>M</td>\n",
              "      <td>35</td>\n",
              "      <td>0</td>\n",
              "      <td>90049</td>\n",
              "    </tr>\n",
              "    <tr>\n",
              "      <th>31</th>\n",
              "      <td>32</td>\n",
              "      <td>F</td>\n",
              "      <td>25</td>\n",
              "      <td>0</td>\n",
              "      <td>19355</td>\n",
              "    </tr>\n",
              "    <tr>\n",
              "      <th>33</th>\n",
              "      <td>34</td>\n",
              "      <td>F</td>\n",
              "      <td>18</td>\n",
              "      <td>0</td>\n",
              "      <td>02135</td>\n",
              "    </tr>\n",
              "    <tr>\n",
              "      <th>...</th>\n",
              "      <td>...</td>\n",
              "      <td>...</td>\n",
              "      <td>...</td>\n",
              "      <td>...</td>\n",
              "      <td>...</td>\n",
              "    </tr>\n",
              "    <tr>\n",
              "      <th>6009</th>\n",
              "      <td>6010</td>\n",
              "      <td>M</td>\n",
              "      <td>35</td>\n",
              "      <td>0</td>\n",
              "      <td>79606</td>\n",
              "    </tr>\n",
              "    <tr>\n",
              "      <th>6018</th>\n",
              "      <td>6019</td>\n",
              "      <td>M</td>\n",
              "      <td>25</td>\n",
              "      <td>0</td>\n",
              "      <td>10024</td>\n",
              "    </tr>\n",
              "    <tr>\n",
              "      <th>6022</th>\n",
              "      <td>6023</td>\n",
              "      <td>M</td>\n",
              "      <td>25</td>\n",
              "      <td>0</td>\n",
              "      <td>43213</td>\n",
              "    </tr>\n",
              "    <tr>\n",
              "      <th>6030</th>\n",
              "      <td>6031</td>\n",
              "      <td>F</td>\n",
              "      <td>18</td>\n",
              "      <td>0</td>\n",
              "      <td>45123</td>\n",
              "    </tr>\n",
              "    <tr>\n",
              "      <th>6038</th>\n",
              "      <td>6039</td>\n",
              "      <td>F</td>\n",
              "      <td>45</td>\n",
              "      <td>0</td>\n",
              "      <td>01060</td>\n",
              "    </tr>\n",
              "  </tbody>\n",
              "</table>\n",
              "<p>711 rows × 5 columns</p>\n",
              "</div>\n",
              "      <button class=\"colab-df-convert\" onclick=\"convertToInteractive('df-7e8dd145-6293-4e8b-9e5c-981c8033c66c')\"\n",
              "              title=\"Convert this dataframe to an interactive table.\"\n",
              "              style=\"display:none;\">\n",
              "        \n",
              "  <svg xmlns=\"http://www.w3.org/2000/svg\" height=\"24px\"viewBox=\"0 0 24 24\"\n",
              "       width=\"24px\">\n",
              "    <path d=\"M0 0h24v24H0V0z\" fill=\"none\"/>\n",
              "    <path d=\"M18.56 5.44l.94 2.06.94-2.06 2.06-.94-2.06-.94-.94-2.06-.94 2.06-2.06.94zm-11 1L8.5 8.5l.94-2.06 2.06-.94-2.06-.94L8.5 2.5l-.94 2.06-2.06.94zm10 10l.94 2.06.94-2.06 2.06-.94-2.06-.94-.94-2.06-.94 2.06-2.06.94z\"/><path d=\"M17.41 7.96l-1.37-1.37c-.4-.4-.92-.59-1.43-.59-.52 0-1.04.2-1.43.59L10.3 9.45l-7.72 7.72c-.78.78-.78 2.05 0 2.83L4 21.41c.39.39.9.59 1.41.59.51 0 1.02-.2 1.41-.59l7.78-7.78 2.81-2.81c.8-.78.8-2.07 0-2.86zM5.41 20L4 18.59l7.72-7.72 1.47 1.35L5.41 20z\"/>\n",
              "  </svg>\n",
              "      </button>\n",
              "      \n",
              "  <style>\n",
              "    .colab-df-container {\n",
              "      display:flex;\n",
              "      flex-wrap:wrap;\n",
              "      gap: 12px;\n",
              "    }\n",
              "\n",
              "    .colab-df-convert {\n",
              "      background-color: #E8F0FE;\n",
              "      border: none;\n",
              "      border-radius: 50%;\n",
              "      cursor: pointer;\n",
              "      display: none;\n",
              "      fill: #1967D2;\n",
              "      height: 32px;\n",
              "      padding: 0 0 0 0;\n",
              "      width: 32px;\n",
              "    }\n",
              "\n",
              "    .colab-df-convert:hover {\n",
              "      background-color: #E2EBFA;\n",
              "      box-shadow: 0px 1px 2px rgba(60, 64, 67, 0.3), 0px 1px 3px 1px rgba(60, 64, 67, 0.15);\n",
              "      fill: #174EA6;\n",
              "    }\n",
              "\n",
              "    [theme=dark] .colab-df-convert {\n",
              "      background-color: #3B4455;\n",
              "      fill: #D2E3FC;\n",
              "    }\n",
              "\n",
              "    [theme=dark] .colab-df-convert:hover {\n",
              "      background-color: #434B5C;\n",
              "      box-shadow: 0px 1px 3px 1px rgba(0, 0, 0, 0.15);\n",
              "      filter: drop-shadow(0px 1px 2px rgba(0, 0, 0, 0.3));\n",
              "      fill: #FFFFFF;\n",
              "    }\n",
              "  </style>\n",
              "\n",
              "      <script>\n",
              "        const buttonEl =\n",
              "          document.querySelector('#df-7e8dd145-6293-4e8b-9e5c-981c8033c66c button.colab-df-convert');\n",
              "        buttonEl.style.display =\n",
              "          google.colab.kernel.accessAllowed ? 'block' : 'none';\n",
              "\n",
              "        async function convertToInteractive(key) {\n",
              "          const element = document.querySelector('#df-7e8dd145-6293-4e8b-9e5c-981c8033c66c');\n",
              "          const dataTable =\n",
              "            await google.colab.kernel.invokeFunction('convertToInteractive',\n",
              "                                                     [key], {});\n",
              "          if (!dataTable) return;\n",
              "\n",
              "          const docLinkHtml = 'Like what you see? Visit the ' +\n",
              "            '<a target=\"_blank\" href=https://colab.research.google.com/notebooks/data_table.ipynb>data table notebook</a>'\n",
              "            + ' to learn more about interactive tables.';\n",
              "          element.innerHTML = '';\n",
              "          dataTable['output_type'] = 'display_data';\n",
              "          await google.colab.output.renderOutput(dataTable, element);\n",
              "          const docLink = document.createElement('div');\n",
              "          docLink.innerHTML = docLinkHtml;\n",
              "          element.appendChild(docLink);\n",
              "        }\n",
              "      </script>\n",
              "    </div>\n",
              "  </div>\n",
              "  "
            ]
          },
          "metadata": {},
          "execution_count": 22
        }
      ]
    },
    {
      "cell_type": "markdown",
      "source": [],
      "metadata": {
        "id": "y4WhKSVv3mg_"
      }
    },
    {
      "cell_type": "code",
      "source": [
        "df_ratings.isna().sum()"
      ],
      "metadata": {
        "colab": {
          "base_uri": "https://localhost:8080/"
        },
        "id": "VPd3VPNG68SU",
        "outputId": "689fe203-bd6b-469a-f738-b067b61714e3"
      },
      "execution_count": null,
      "outputs": [
        {
          "output_type": "execute_result",
          "data": {
            "text/plain": [
              "UserID       0\n",
              "MovieID      0\n",
              "Rating       0\n",
              "Timestamp    0\n",
              "dtype: int64"
            ]
          },
          "metadata": {},
          "execution_count": 10
        }
      ]
    },
    {
      "cell_type": "code",
      "source": [
        "df_movies.isna().sum()"
      ],
      "metadata": {
        "colab": {
          "base_uri": "https://localhost:8080/"
        },
        "id": "4WI3o9mj68PL",
        "outputId": "e435b307-d359-495c-da9b-a6e040f1f6ce"
      },
      "execution_count": null,
      "outputs": [
        {
          "output_type": "execute_result",
          "data": {
            "text/plain": [
              "MovieID    0\n",
              "Title      0\n",
              "Genres     0\n",
              "dtype: int64"
            ]
          },
          "metadata": {},
          "execution_count": 11
        }
      ]
    },
    {
      "cell_type": "code",
      "source": [
        "df_users.isna().sum()"
      ],
      "metadata": {
        "colab": {
          "base_uri": "https://localhost:8080/"
        },
        "id": "W1SSQ6Ro68J7",
        "outputId": "a50d41fc-8e58-4f10-8b04-ff1e9ac1f6ec"
      },
      "execution_count": null,
      "outputs": [
        {
          "output_type": "execute_result",
          "data": {
            "text/plain": [
              "UserID        0\n",
              "Gender        0\n",
              "Age           0\n",
              "Occupation    0\n",
              "Zip-code      0\n",
              "dtype: int64"
            ]
          },
          "metadata": {},
          "execution_count": 12
        }
      ]
    },
    {
      "cell_type": "code",
      "source": [
        "df_ratings['Rating'].describe()"
      ],
      "metadata": {
        "colab": {
          "base_uri": "https://localhost:8080/"
        },
        "id": "Tzfbgiy65Gvy",
        "outputId": "7fc05133-94b9-4779-bbb8-7e07be35c71e"
      },
      "execution_count": null,
      "outputs": [
        {
          "output_type": "execute_result",
          "data": {
            "text/plain": [
              "count    1.000209e+06\n",
              "mean     3.581564e+00\n",
              "std      1.117102e+00\n",
              "min      1.000000e+00\n",
              "25%      3.000000e+00\n",
              "50%      4.000000e+00\n",
              "75%      4.000000e+00\n",
              "max      5.000000e+00\n",
              "Name: Rating, dtype: float64"
            ]
          },
          "metadata": {},
          "execution_count": 13
        }
      ]
    },
    {
      "cell_type": "markdown",
      "source": [
        "## **Data Preprocessing**"
      ],
      "metadata": {
        "id": "vzTsj6UhBcJq"
      }
    },
    {
      "cell_type": "markdown",
      "source": [
        "Remove features that are not necessary"
      ],
      "metadata": {
        "id": "Ko98cODnh58G"
      }
    },
    {
      "cell_type": "code",
      "source": [
        "df_ratings.drop('Timestamp', axis=1, inplace=True)"
      ],
      "metadata": {
        "id": "NE4mxStMh6XR"
      },
      "execution_count": null,
      "outputs": []
    },
    {
      "cell_type": "markdown",
      "source": [
        "Preprocessing 'Title' and 'Genre' column of df_movies dataset"
      ],
      "metadata": {
        "id": "CIG9UBK--4ya"
      }
    },
    {
      "cell_type": "code",
      "source": [
        "def year(x):\n",
        "  x = re.findall('\\d{4}', x)\n",
        "  return x[0]"
      ],
      "metadata": {
        "id": "xZfk8zTHzwWn"
      },
      "execution_count": null,
      "outputs": []
    },
    {
      "cell_type": "code",
      "source": [
        "df_movies['Year'] = df_movies['Title'].apply(year)"
      ],
      "metadata": {
        "id": "q9y_Lau3zwTc"
      },
      "execution_count": null,
      "outputs": []
    },
    {
      "cell_type": "code",
      "source": [
        "def title(x):\n",
        "  x = re.sub('(\\d{4})', '', x)\n",
        "  x = re.sub('\\([^)]*\\)', '', x)\n",
        "  x = re.sub('[^a-zA-Z]+', ' ', x)\n",
        "  x = re.sub(\"'\", '', x)\n",
        "  x = re.sub(r'\\\\s+', ' ', x)\n",
        "  return x"
      ],
      "metadata": {
        "id": "uFz1jR4SzwP4"
      },
      "execution_count": null,
      "outputs": []
    },
    {
      "cell_type": "code",
      "source": [
        "df_movies['Title'] = df_movies['Title'].apply(title)\n",
        "df_movies['Genres'] = df_movies['Genres'].apply(title)"
      ],
      "metadata": {
        "id": "rb60i8QmzwNI"
      },
      "execution_count": null,
      "outputs": []
    },
    {
      "cell_type": "code",
      "source": [
        "df_movies"
      ],
      "metadata": {
        "colab": {
          "base_uri": "https://localhost:8080/",
          "height": 424
        },
        "id": "P8KC23iV_nTJ",
        "outputId": "a9b52f01-b655-40f9-e7a2-575a8cfe21ef"
      },
      "execution_count": null,
      "outputs": [
        {
          "output_type": "execute_result",
          "data": {
            "text/plain": [
              "      MovieID                         Title                        Genres  \\\n",
              "0           1                    Toy Story    Animation Children s Comedy   \n",
              "1           2                      Jumanji   Adventure Children s Fantasy   \n",
              "2           3             Grumpier Old Men                 Comedy Romance   \n",
              "3           4            Waiting to Exhale                   Comedy Drama   \n",
              "4           5  Father of the Bride Part II                         Comedy   \n",
              "...       ...                           ...                           ...   \n",
              "3878     3948             Meet the Parents                         Comedy   \n",
              "3879     3949          Requiem for a Dream                          Drama   \n",
              "3880     3950                    Tigerland                          Drama   \n",
              "3881     3951             Two Family House                          Drama   \n",
              "3882     3952                Contender The                 Drama Thriller   \n",
              "\n",
              "      Year  \n",
              "0     1995  \n",
              "1     1995  \n",
              "2     1995  \n",
              "3     1995  \n",
              "4     1995  \n",
              "...    ...  \n",
              "3878  2000  \n",
              "3879  2000  \n",
              "3880  2000  \n",
              "3881  2000  \n",
              "3882  2000  \n",
              "\n",
              "[3883 rows x 4 columns]"
            ],
            "text/html": [
              "\n",
              "  <div id=\"df-4d7a9ed6-8954-4dfc-b378-5c2f80c86061\">\n",
              "    <div class=\"colab-df-container\">\n",
              "      <div>\n",
              "<style scoped>\n",
              "    .dataframe tbody tr th:only-of-type {\n",
              "        vertical-align: middle;\n",
              "    }\n",
              "\n",
              "    .dataframe tbody tr th {\n",
              "        vertical-align: top;\n",
              "    }\n",
              "\n",
              "    .dataframe thead th {\n",
              "        text-align: right;\n",
              "    }\n",
              "</style>\n",
              "<table border=\"1\" class=\"dataframe\">\n",
              "  <thead>\n",
              "    <tr style=\"text-align: right;\">\n",
              "      <th></th>\n",
              "      <th>MovieID</th>\n",
              "      <th>Title</th>\n",
              "      <th>Genres</th>\n",
              "      <th>Year</th>\n",
              "    </tr>\n",
              "  </thead>\n",
              "  <tbody>\n",
              "    <tr>\n",
              "      <th>0</th>\n",
              "      <td>1</td>\n",
              "      <td>Toy Story</td>\n",
              "      <td>Animation Children s Comedy</td>\n",
              "      <td>1995</td>\n",
              "    </tr>\n",
              "    <tr>\n",
              "      <th>1</th>\n",
              "      <td>2</td>\n",
              "      <td>Jumanji</td>\n",
              "      <td>Adventure Children s Fantasy</td>\n",
              "      <td>1995</td>\n",
              "    </tr>\n",
              "    <tr>\n",
              "      <th>2</th>\n",
              "      <td>3</td>\n",
              "      <td>Grumpier Old Men</td>\n",
              "      <td>Comedy Romance</td>\n",
              "      <td>1995</td>\n",
              "    </tr>\n",
              "    <tr>\n",
              "      <th>3</th>\n",
              "      <td>4</td>\n",
              "      <td>Waiting to Exhale</td>\n",
              "      <td>Comedy Drama</td>\n",
              "      <td>1995</td>\n",
              "    </tr>\n",
              "    <tr>\n",
              "      <th>4</th>\n",
              "      <td>5</td>\n",
              "      <td>Father of the Bride Part II</td>\n",
              "      <td>Comedy</td>\n",
              "      <td>1995</td>\n",
              "    </tr>\n",
              "    <tr>\n",
              "      <th>...</th>\n",
              "      <td>...</td>\n",
              "      <td>...</td>\n",
              "      <td>...</td>\n",
              "      <td>...</td>\n",
              "    </tr>\n",
              "    <tr>\n",
              "      <th>3878</th>\n",
              "      <td>3948</td>\n",
              "      <td>Meet the Parents</td>\n",
              "      <td>Comedy</td>\n",
              "      <td>2000</td>\n",
              "    </tr>\n",
              "    <tr>\n",
              "      <th>3879</th>\n",
              "      <td>3949</td>\n",
              "      <td>Requiem for a Dream</td>\n",
              "      <td>Drama</td>\n",
              "      <td>2000</td>\n",
              "    </tr>\n",
              "    <tr>\n",
              "      <th>3880</th>\n",
              "      <td>3950</td>\n",
              "      <td>Tigerland</td>\n",
              "      <td>Drama</td>\n",
              "      <td>2000</td>\n",
              "    </tr>\n",
              "    <tr>\n",
              "      <th>3881</th>\n",
              "      <td>3951</td>\n",
              "      <td>Two Family House</td>\n",
              "      <td>Drama</td>\n",
              "      <td>2000</td>\n",
              "    </tr>\n",
              "    <tr>\n",
              "      <th>3882</th>\n",
              "      <td>3952</td>\n",
              "      <td>Contender The</td>\n",
              "      <td>Drama Thriller</td>\n",
              "      <td>2000</td>\n",
              "    </tr>\n",
              "  </tbody>\n",
              "</table>\n",
              "<p>3883 rows × 4 columns</p>\n",
              "</div>\n",
              "      <button class=\"colab-df-convert\" onclick=\"convertToInteractive('df-4d7a9ed6-8954-4dfc-b378-5c2f80c86061')\"\n",
              "              title=\"Convert this dataframe to an interactive table.\"\n",
              "              style=\"display:none;\">\n",
              "        \n",
              "  <svg xmlns=\"http://www.w3.org/2000/svg\" height=\"24px\"viewBox=\"0 0 24 24\"\n",
              "       width=\"24px\">\n",
              "    <path d=\"M0 0h24v24H0V0z\" fill=\"none\"/>\n",
              "    <path d=\"M18.56 5.44l.94 2.06.94-2.06 2.06-.94-2.06-.94-.94-2.06-.94 2.06-2.06.94zm-11 1L8.5 8.5l.94-2.06 2.06-.94-2.06-.94L8.5 2.5l-.94 2.06-2.06.94zm10 10l.94 2.06.94-2.06 2.06-.94-2.06-.94-.94-2.06-.94 2.06-2.06.94z\"/><path d=\"M17.41 7.96l-1.37-1.37c-.4-.4-.92-.59-1.43-.59-.52 0-1.04.2-1.43.59L10.3 9.45l-7.72 7.72c-.78.78-.78 2.05 0 2.83L4 21.41c.39.39.9.59 1.41.59.51 0 1.02-.2 1.41-.59l7.78-7.78 2.81-2.81c.8-.78.8-2.07 0-2.86zM5.41 20L4 18.59l7.72-7.72 1.47 1.35L5.41 20z\"/>\n",
              "  </svg>\n",
              "      </button>\n",
              "      \n",
              "  <style>\n",
              "    .colab-df-container {\n",
              "      display:flex;\n",
              "      flex-wrap:wrap;\n",
              "      gap: 12px;\n",
              "    }\n",
              "\n",
              "    .colab-df-convert {\n",
              "      background-color: #E8F0FE;\n",
              "      border: none;\n",
              "      border-radius: 50%;\n",
              "      cursor: pointer;\n",
              "      display: none;\n",
              "      fill: #1967D2;\n",
              "      height: 32px;\n",
              "      padding: 0 0 0 0;\n",
              "      width: 32px;\n",
              "    }\n",
              "\n",
              "    .colab-df-convert:hover {\n",
              "      background-color: #E2EBFA;\n",
              "      box-shadow: 0px 1px 2px rgba(60, 64, 67, 0.3), 0px 1px 3px 1px rgba(60, 64, 67, 0.15);\n",
              "      fill: #174EA6;\n",
              "    }\n",
              "\n",
              "    [theme=dark] .colab-df-convert {\n",
              "      background-color: #3B4455;\n",
              "      fill: #D2E3FC;\n",
              "    }\n",
              "\n",
              "    [theme=dark] .colab-df-convert:hover {\n",
              "      background-color: #434B5C;\n",
              "      box-shadow: 0px 1px 3px 1px rgba(0, 0, 0, 0.15);\n",
              "      filter: drop-shadow(0px 1px 2px rgba(0, 0, 0, 0.3));\n",
              "      fill: #FFFFFF;\n",
              "    }\n",
              "  </style>\n",
              "\n",
              "      <script>\n",
              "        const buttonEl =\n",
              "          document.querySelector('#df-4d7a9ed6-8954-4dfc-b378-5c2f80c86061 button.colab-df-convert');\n",
              "        buttonEl.style.display =\n",
              "          google.colab.kernel.accessAllowed ? 'block' : 'none';\n",
              "\n",
              "        async function convertToInteractive(key) {\n",
              "          const element = document.querySelector('#df-4d7a9ed6-8954-4dfc-b378-5c2f80c86061');\n",
              "          const dataTable =\n",
              "            await google.colab.kernel.invokeFunction('convertToInteractive',\n",
              "                                                     [key], {});\n",
              "          if (!dataTable) return;\n",
              "\n",
              "          const docLinkHtml = 'Like what you see? Visit the ' +\n",
              "            '<a target=\"_blank\" href=https://colab.research.google.com/notebooks/data_table.ipynb>data table notebook</a>'\n",
              "            + ' to learn more about interactive tables.';\n",
              "          element.innerHTML = '';\n",
              "          dataTable['output_type'] = 'display_data';\n",
              "          await google.colab.output.renderOutput(dataTable, element);\n",
              "          const docLink = document.createElement('div');\n",
              "          docLink.innerHTML = docLinkHtml;\n",
              "          element.appendChild(docLink);\n",
              "        }\n",
              "      </script>\n",
              "    </div>\n",
              "  </div>\n",
              "  "
            ]
          },
          "metadata": {},
          "execution_count": 20
        }
      ]
    },
    {
      "cell_type": "markdown",
      "source": [
        "Preprocessing 'Gender' and 'Occupation' column of df_users dataset"
      ],
      "metadata": {
        "id": "OPe4YgBH_wK8"
      }
    },
    {
      "cell_type": "code",
      "source": [
        "df_users['Gender'] = df_users['Gender'].replace({'M': 'Male', 'F': 'Female'})"
      ],
      "metadata": {
        "id": "c9FwZa9t_vyx"
      },
      "execution_count": null,
      "outputs": []
    },
    {
      "cell_type": "code",
      "source": [
        "categories = [\"other\",\"academic/educator\",\"artist\",\"clerical/admin\",\"college/grad student\",\"customer service\",\"doctor/health care\",\n",
        "              \"executive/managerial\",\"farmer\",\"homemaker\",\"K-12 student\",\"lawyer\",\"programmer\",\"retired\",\"sales/marketing\",\"scientist\",\n",
        "              \"self-employed\",\"technician/engineer\",\"tradesman/craftsman\",\"unemployed\",\"writer\"]"
      ],
      "metadata": {
        "id": "3RUg4C2y_vvp"
      },
      "execution_count": null,
      "outputs": []
    },
    {
      "cell_type": "code",
      "source": [
        "df_users['Occupation'] = pd.Categorical.from_codes(df_users['Occupation'], categories)"
      ],
      "metadata": {
        "id": "-2kLTeNS_vsi"
      },
      "execution_count": null,
      "outputs": []
    },
    {
      "cell_type": "code",
      "source": [
        "import re\n",
        "\n",
        "def pre(x):\n",
        "  x = re.sub('[^a-zA-Z]+', ' ', x)\n",
        "  x = re.sub(\"'\", '', x)\n",
        "  x = re.sub(r'\\\\s+', ' ', x)\n",
        "  return x\n",
        "df_users['Occupation'] = df_users['Occupation'].apply(pre)"
      ],
      "metadata": {
        "id": "F9e8Juqs_vpe"
      },
      "execution_count": null,
      "outputs": []
    },
    {
      "cell_type": "code",
      "source": [
        "df_users"
      ],
      "metadata": {
        "colab": {
          "base_uri": "https://localhost:8080/",
          "height": 424
        },
        "id": "Wi9auYpAATii",
        "outputId": "fef80dd4-3867-4be0-bfe4-eb27b03a8896"
      },
      "execution_count": null,
      "outputs": [
        {
          "output_type": "execute_result",
          "data": {
            "text/plain": [
              "      UserID  Gender  Age            Occupation Zip-code\n",
              "0          1  Female    1             K student    48067\n",
              "1          2    Male   56         self employed    70072\n",
              "2          3    Male   25             scientist    55117\n",
              "3          4    Male   45  executive managerial    02460\n",
              "4          5    Male   25                writer    55455\n",
              "...      ...     ...  ...                   ...      ...\n",
              "6035    6036  Female   25             scientist    32603\n",
              "6036    6037  Female   45     academic educator    76006\n",
              "6037    6038  Female   56     academic educator    14706\n",
              "6038    6039  Female   45                 other    01060\n",
              "6039    6040    Male   25    doctor health care    11106\n",
              "\n",
              "[6040 rows x 5 columns]"
            ],
            "text/html": [
              "\n",
              "  <div id=\"df-32d5944d-14a7-435c-b39d-385c741cd0b9\">\n",
              "    <div class=\"colab-df-container\">\n",
              "      <div>\n",
              "<style scoped>\n",
              "    .dataframe tbody tr th:only-of-type {\n",
              "        vertical-align: middle;\n",
              "    }\n",
              "\n",
              "    .dataframe tbody tr th {\n",
              "        vertical-align: top;\n",
              "    }\n",
              "\n",
              "    .dataframe thead th {\n",
              "        text-align: right;\n",
              "    }\n",
              "</style>\n",
              "<table border=\"1\" class=\"dataframe\">\n",
              "  <thead>\n",
              "    <tr style=\"text-align: right;\">\n",
              "      <th></th>\n",
              "      <th>UserID</th>\n",
              "      <th>Gender</th>\n",
              "      <th>Age</th>\n",
              "      <th>Occupation</th>\n",
              "      <th>Zip-code</th>\n",
              "    </tr>\n",
              "  </thead>\n",
              "  <tbody>\n",
              "    <tr>\n",
              "      <th>0</th>\n",
              "      <td>1</td>\n",
              "      <td>Female</td>\n",
              "      <td>1</td>\n",
              "      <td>K student</td>\n",
              "      <td>48067</td>\n",
              "    </tr>\n",
              "    <tr>\n",
              "      <th>1</th>\n",
              "      <td>2</td>\n",
              "      <td>Male</td>\n",
              "      <td>56</td>\n",
              "      <td>self employed</td>\n",
              "      <td>70072</td>\n",
              "    </tr>\n",
              "    <tr>\n",
              "      <th>2</th>\n",
              "      <td>3</td>\n",
              "      <td>Male</td>\n",
              "      <td>25</td>\n",
              "      <td>scientist</td>\n",
              "      <td>55117</td>\n",
              "    </tr>\n",
              "    <tr>\n",
              "      <th>3</th>\n",
              "      <td>4</td>\n",
              "      <td>Male</td>\n",
              "      <td>45</td>\n",
              "      <td>executive managerial</td>\n",
              "      <td>02460</td>\n",
              "    </tr>\n",
              "    <tr>\n",
              "      <th>4</th>\n",
              "      <td>5</td>\n",
              "      <td>Male</td>\n",
              "      <td>25</td>\n",
              "      <td>writer</td>\n",
              "      <td>55455</td>\n",
              "    </tr>\n",
              "    <tr>\n",
              "      <th>...</th>\n",
              "      <td>...</td>\n",
              "      <td>...</td>\n",
              "      <td>...</td>\n",
              "      <td>...</td>\n",
              "      <td>...</td>\n",
              "    </tr>\n",
              "    <tr>\n",
              "      <th>6035</th>\n",
              "      <td>6036</td>\n",
              "      <td>Female</td>\n",
              "      <td>25</td>\n",
              "      <td>scientist</td>\n",
              "      <td>32603</td>\n",
              "    </tr>\n",
              "    <tr>\n",
              "      <th>6036</th>\n",
              "      <td>6037</td>\n",
              "      <td>Female</td>\n",
              "      <td>45</td>\n",
              "      <td>academic educator</td>\n",
              "      <td>76006</td>\n",
              "    </tr>\n",
              "    <tr>\n",
              "      <th>6037</th>\n",
              "      <td>6038</td>\n",
              "      <td>Female</td>\n",
              "      <td>56</td>\n",
              "      <td>academic educator</td>\n",
              "      <td>14706</td>\n",
              "    </tr>\n",
              "    <tr>\n",
              "      <th>6038</th>\n",
              "      <td>6039</td>\n",
              "      <td>Female</td>\n",
              "      <td>45</td>\n",
              "      <td>other</td>\n",
              "      <td>01060</td>\n",
              "    </tr>\n",
              "    <tr>\n",
              "      <th>6039</th>\n",
              "      <td>6040</td>\n",
              "      <td>Male</td>\n",
              "      <td>25</td>\n",
              "      <td>doctor health care</td>\n",
              "      <td>11106</td>\n",
              "    </tr>\n",
              "  </tbody>\n",
              "</table>\n",
              "<p>6040 rows × 5 columns</p>\n",
              "</div>\n",
              "      <button class=\"colab-df-convert\" onclick=\"convertToInteractive('df-32d5944d-14a7-435c-b39d-385c741cd0b9')\"\n",
              "              title=\"Convert this dataframe to an interactive table.\"\n",
              "              style=\"display:none;\">\n",
              "        \n",
              "  <svg xmlns=\"http://www.w3.org/2000/svg\" height=\"24px\"viewBox=\"0 0 24 24\"\n",
              "       width=\"24px\">\n",
              "    <path d=\"M0 0h24v24H0V0z\" fill=\"none\"/>\n",
              "    <path d=\"M18.56 5.44l.94 2.06.94-2.06 2.06-.94-2.06-.94-.94-2.06-.94 2.06-2.06.94zm-11 1L8.5 8.5l.94-2.06 2.06-.94-2.06-.94L8.5 2.5l-.94 2.06-2.06.94zm10 10l.94 2.06.94-2.06 2.06-.94-2.06-.94-.94-2.06-.94 2.06-2.06.94z\"/><path d=\"M17.41 7.96l-1.37-1.37c-.4-.4-.92-.59-1.43-.59-.52 0-1.04.2-1.43.59L10.3 9.45l-7.72 7.72c-.78.78-.78 2.05 0 2.83L4 21.41c.39.39.9.59 1.41.59.51 0 1.02-.2 1.41-.59l7.78-7.78 2.81-2.81c.8-.78.8-2.07 0-2.86zM5.41 20L4 18.59l7.72-7.72 1.47 1.35L5.41 20z\"/>\n",
              "  </svg>\n",
              "      </button>\n",
              "      \n",
              "  <style>\n",
              "    .colab-df-container {\n",
              "      display:flex;\n",
              "      flex-wrap:wrap;\n",
              "      gap: 12px;\n",
              "    }\n",
              "\n",
              "    .colab-df-convert {\n",
              "      background-color: #E8F0FE;\n",
              "      border: none;\n",
              "      border-radius: 50%;\n",
              "      cursor: pointer;\n",
              "      display: none;\n",
              "      fill: #1967D2;\n",
              "      height: 32px;\n",
              "      padding: 0 0 0 0;\n",
              "      width: 32px;\n",
              "    }\n",
              "\n",
              "    .colab-df-convert:hover {\n",
              "      background-color: #E2EBFA;\n",
              "      box-shadow: 0px 1px 2px rgba(60, 64, 67, 0.3), 0px 1px 3px 1px rgba(60, 64, 67, 0.15);\n",
              "      fill: #174EA6;\n",
              "    }\n",
              "\n",
              "    [theme=dark] .colab-df-convert {\n",
              "      background-color: #3B4455;\n",
              "      fill: #D2E3FC;\n",
              "    }\n",
              "\n",
              "    [theme=dark] .colab-df-convert:hover {\n",
              "      background-color: #434B5C;\n",
              "      box-shadow: 0px 1px 3px 1px rgba(0, 0, 0, 0.15);\n",
              "      filter: drop-shadow(0px 1px 2px rgba(0, 0, 0, 0.3));\n",
              "      fill: #FFFFFF;\n",
              "    }\n",
              "  </style>\n",
              "\n",
              "      <script>\n",
              "        const buttonEl =\n",
              "          document.querySelector('#df-32d5944d-14a7-435c-b39d-385c741cd0b9 button.colab-df-convert');\n",
              "        buttonEl.style.display =\n",
              "          google.colab.kernel.accessAllowed ? 'block' : 'none';\n",
              "\n",
              "        async function convertToInteractive(key) {\n",
              "          const element = document.querySelector('#df-32d5944d-14a7-435c-b39d-385c741cd0b9');\n",
              "          const dataTable =\n",
              "            await google.colab.kernel.invokeFunction('convertToInteractive',\n",
              "                                                     [key], {});\n",
              "          if (!dataTable) return;\n",
              "\n",
              "          const docLinkHtml = 'Like what you see? Visit the ' +\n",
              "            '<a target=\"_blank\" href=https://colab.research.google.com/notebooks/data_table.ipynb>data table notebook</a>'\n",
              "            + ' to learn more about interactive tables.';\n",
              "          element.innerHTML = '';\n",
              "          dataTable['output_type'] = 'display_data';\n",
              "          await google.colab.output.renderOutput(dataTable, element);\n",
              "          const docLink = document.createElement('div');\n",
              "          docLink.innerHTML = docLinkHtml;\n",
              "          element.appendChild(docLink);\n",
              "        }\n",
              "      </script>\n",
              "    </div>\n",
              "  </div>\n",
              "  "
            ]
          },
          "metadata": {},
          "execution_count": 25
        }
      ]
    },
    {
      "cell_type": "markdown",
      "source": [
        "### Functions for evaluation metrics"
      ],
      "metadata": {
        "id": "PTUvceW3CxuF"
      }
    },
    {
      "cell_type": "code",
      "source": [
        "from collections import defaultdict\n",
        "from sklearn.metrics import precision_score, recall_score, f1_score, accuracy_score\n",
        "\n",
        "def precision_recall_f1(predictions, threshold=3.5):\n",
        "    \"\"\"Return precision, recall and f1 metrics averaged across all users\"\"\"\n",
        "\n",
        "    # First map the predictions to each user.\n",
        "    user_est_true = defaultdict(list)\n",
        "    for uid, _, true_r, est, _ in predictions:\n",
        "        user_est_true[uid].append((est, true_r))\n",
        "    \n",
        "    # collect metrics per user\n",
        "    precisions = dict()\n",
        "    recalls = dict()\n",
        "    f1s = dict()\n",
        "    accuracies = dict()\n",
        "    \n",
        "    for uid, user_ratings in user_est_true.items():\n",
        "        \n",
        "        # get relevance labels for average precision calculation\n",
        "        y_true = [1 if (true_r >= threshold) else 0 for (_, true_r) in user_ratings]\n",
        "        y_pred = [1 if (est_r >= threshold) else 0 for (est_r, _) in user_ratings]\n",
        "        \n",
        "        precisions[uid] = precision_score(y_true, y_pred, zero_division=0)\n",
        "        recalls[uid] = recall_score(y_true, y_pred, zero_division=0)\n",
        "        f1s[uid] = f1_score(y_true, y_pred, zero_division=0)\n",
        "\n",
        "        accuracies[uid] = accuracy_score(y_true, y_pred)\n",
        "\n",
        "    # average scores over all users \n",
        "    avg_precision = sum(list(precisions.values())) / len(list(precisions.values()))\n",
        "    avg_recall = sum(list(recalls.values())) / len(list(recalls.values()))\n",
        "    avg_f1 = sum(list(f1s.values())) / len(list(f1s.values()))\n",
        "    \n",
        "    avg_accuracy = sum(list(accuracies.values())) / len(list(accuracies.values()))\n",
        "    \n",
        "    return avg_precision, avg_recall, avg_f1, avg_accuracy"
      ],
      "metadata": {
        "id": "Ar6M7BNOC6XP"
      },
      "execution_count": null,
      "outputs": []
    },
    {
      "cell_type": "code",
      "source": [
        "from sklearn.metrics import average_precision_score, ndcg_score\n",
        "\n",
        "def measures_at_k(predictions, k=10, threshold=3.5):\n",
        "    \"\"\"Return precision and nDCG at k metrics averaged across all users\"\"\"\n",
        "\n",
        "    # First map the predictions to each user.\n",
        "    user_est_true = defaultdict(list)\n",
        "    for uid, _, true_r, est, _ in predictions:\n",
        "        user_est_true[uid].append((est, true_r))\n",
        "    \n",
        "    average_precisions = dict()\n",
        "    precisions_at_k = dict()\n",
        "    ndcgs_at_k = dict()\n",
        "\n",
        "    for uid, user_ratings in user_est_true.items():\n",
        "\n",
        "        # Sort user ratings by estimated value\n",
        "        user_ratings.sort(key=lambda x: x[0], reverse=True)\n",
        "        \n",
        "        # get relevance labels for average precision calculation\n",
        "        y_true = [1 if (true_r > threshold) else 0 for (_, true_r) in user_ratings]\n",
        "        y_pred = [1 if (est_r > threshold) else 0 for (est_r, _) in user_ratings]\n",
        "        \n",
        "        y_true_at_k = y_true[:k]\n",
        "        y_pred_at_k = y_pred[:k]\n",
        "        \n",
        "        if sum(y_true) > 0:\n",
        "            average_precisions[uid] = average_precision_score(y_true, y_pred)\n",
        "        else:\n",
        "            average_precisions[uid] = 0\n",
        "\n",
        "        precisions_at_k[uid] = precision_score(y_true_at_k, y_pred_at_k, zero_division=0)\n",
        "        \n",
        "        if not len(user_ratings) == 1:\n",
        "            ndcgs_at_k[uid] = ndcg_score(np.asarray([[x for (_, x) in user_ratings]]), np.asarray([[x for (x, _) in user_ratings]]), k=k)\n",
        "        elif len(user_ratings) == 1:\n",
        "            ndcgs_at_k[uid] = sum(\n",
        "            ((true_r >= threshold) and (est >= threshold))\n",
        "            for (est, true_r) in user_ratings\n",
        "        )\n",
        "            \n",
        "        # compute simple averages over all users for each score:\n",
        "        avg_average_precisions = sum(val for val in average_precisions.values()) / len(average_precisions)\n",
        "        avg_precisions_at_k = sum(val for val in precisions_at_k.values()) / len(precisions_at_k)\n",
        "        avg_ndcgs_at_k = sum(val for val in ndcgs_at_k.values()) / len(ndcgs_at_k)\n",
        "\n",
        "    return avg_average_precisions, avg_precisions_at_k, avg_ndcgs_at_k"
      ],
      "metadata": {
        "id": "AnDSrH9uC6Oc"
      },
      "execution_count": null,
      "outputs": []
    },
    {
      "cell_type": "markdown",
      "source": [
        "### Function to generate example recommendations for a user"
      ],
      "metadata": {
        "id": "JhuTrSmNFf9J"
      }
    },
    {
      "cell_type": "code",
      "source": [
        "def get_top_n(predictions, n=10):\n",
        "    \"\"\"Return the top-N recommendation for each user from a set of predictions.\n",
        "\n",
        "    Args:\n",
        "        predictions(list of Prediction objects): The list of predictions, as\n",
        "            returned by the test method of an algorithm.\n",
        "        n(int): The number of recommendation to output for each user. Default\n",
        "            is 10.\n",
        "\n",
        "    Returns:\n",
        "    A dict where keys are user (raw) ids and values are lists of tuples:\n",
        "        [(raw item id, rating estimation), ...] of size n.\n",
        "    \"\"\"\n",
        "\n",
        "    # First map the predictions to each user.\n",
        "    top_n = defaultdict(list)\n",
        "    for uid, iid, true_r, est, _ in predictions:\n",
        "        top_n[uid].append((iid, est))\n",
        "\n",
        "    # Then sort the predictions for each user and retrieve the k highest ones.\n",
        "    for uid, user_ratings in top_n.items():\n",
        "        user_ratings.sort(key=lambda x: x[1], reverse=True)\n",
        "        top_n[uid] = user_ratings[:n]\n",
        "\n",
        "    return top_n"
      ],
      "metadata": {
        "id": "lm3bRH0DFffO"
      },
      "execution_count": null,
      "outputs": []
    },
    {
      "cell_type": "markdown",
      "source": [
        "## **Collaborative Filtering**"
      ],
      "metadata": {
        "id": "gPg9NCcfBtsQ"
      }
    },
    {
      "cell_type": "code",
      "source": [
        "reader = Reader(rating_scale=(0, 5))\n",
        "data = Dataset.load_from_df(df_ratings[['UserID','MovieID','Rating']], reader)"
      ],
      "metadata": {
        "id": "kzFibm2gBtDx"
      },
      "execution_count": null,
      "outputs": []
    },
    {
      "cell_type": "markdown",
      "source": [
        "### **Baseline models**"
      ],
      "metadata": {
        "id": "tpTqL3VqDX-Y"
      }
    },
    {
      "cell_type": "markdown",
      "source": [
        "### 1. KNNBasic"
      ],
      "metadata": {
        "id": "50x-glKyDhBZ"
      }
    },
    {
      "cell_type": "code",
      "source": [
        "trainset, testset = train_test_split(data, test_size=0.25, random_state=my_seed)"
      ],
      "metadata": {
        "id": "LTkrQ1KsXpP_"
      },
      "execution_count": null,
      "outputs": []
    },
    {
      "cell_type": "code",
      "source": [
        "sim_options = {'name': 'pearson', 'user_based': True, 'min_support': 1}\n",
        "\n",
        "algo = KNNBasic(sim_options=sim_options)\n",
        "\n",
        "algo.fit(trainset)\n",
        "predictions_knn = algo.test(testset)"
      ],
      "metadata": {
        "colab": {
          "base_uri": "https://localhost:8080/"
        },
        "id": "eixxr7OjBZKF",
        "outputId": "92d55914-0076-410b-c0ca-2dc123124d67"
      },
      "execution_count": null,
      "outputs": [
        {
          "output_type": "stream",
          "name": "stdout",
          "text": [
            "Computing the pearson similarity matrix...\n",
            "Done computing similarity matrix.\n"
          ]
        }
      ]
    },
    {
      "cell_type": "code",
      "source": [
        "mse(predictions_knn)\n",
        "rmse(predictions_knn)\n",
        "mae(predictions_knn);"
      ],
      "metadata": {
        "colab": {
          "base_uri": "https://localhost:8080/"
        },
        "id": "dcCUMskIBZGY",
        "outputId": "1a0de2c4-9549-4255-d33c-7c005f52a2f4"
      },
      "execution_count": null,
      "outputs": [
        {
          "output_type": "stream",
          "name": "stdout",
          "text": [
            "MSE: 0.9311\n",
            "RMSE: 0.9649\n",
            "MAE:  0.7675\n"
          ]
        }
      ]
    },
    {
      "cell_type": "code",
      "source": [
        "# get average evaluation measures and print them\n",
        "avg_precision, avg_recall, avg_f1, avg_accuracy = precision_recall_f1(predictions_knn, threshold=3.5)\n",
        "print(f'Avg. Precision: {avg_precision}')\n",
        "print(f'Avg. Recall: {avg_recall}')\n",
        "print(f'Avg. F1: {avg_f1}')\n",
        "print(f'Avg. Accuracy: {avg_accuracy}')"
      ],
      "metadata": {
        "colab": {
          "base_uri": "https://localhost:8080/"
        },
        "id": "w9SjLNt5BZD_",
        "outputId": "ea60472b-aab1-4d75-9fa6-efed4c950755"
      },
      "execution_count": null,
      "outputs": [
        {
          "output_type": "stream",
          "name": "stdout",
          "text": [
            "Avg. Precision: 0.7258184888990705\n",
            "Avg. Recall: 0.7876402587966836\n",
            "Avg. F1: 0.7347869431098045\n",
            "Avg. Accuracy: 0.6957136354098599\n"
          ]
        }
      ]
    },
    {
      "cell_type": "code",
      "source": [
        "# get average evaluation measures and print them\n",
        "avg_average_precisions, avg_precisions, avg_ndcgs = measures_at_k(predictions_knn, k=5, threshold=3.5)\n",
        "print(f'Avg. AveragePrecision: {avg_average_precisions}')\n",
        "print(f'Avg. Precision@5: {avg_precisions}')\n",
        "print(f'Avg. nDCG@5: {avg_ndcgs}')"
      ],
      "metadata": {
        "colab": {
          "base_uri": "https://localhost:8080/"
        },
        "id": "YAMMRRs6BZA6",
        "outputId": "545c73d9-2196-4e57-b358-b7389e189ba4"
      },
      "execution_count": null,
      "outputs": [
        {
          "output_type": "stream",
          "name": "stdout",
          "text": [
            "Avg. AveragePrecision: 0.7071502544247958\n",
            "Avg. Precision@5: 0.8107064017660277\n",
            "Avg. nDCG@5: 0.8881175990438974\n"
          ]
        }
      ]
    },
    {
      "cell_type": "markdown",
      "source": [
        "### 2. SVD"
      ],
      "metadata": {
        "id": "hOqwC83UD_Do"
      }
    },
    {
      "cell_type": "code",
      "source": [
        "from surprise import SVD\n",
        "\n",
        "algo = SVD(n_epochs=10, lr_all=0.005, reg_all=0.4)\n",
        "\n",
        "# Train the algorithm on the trainset, and predict ratings for the testset\n",
        "algo.fit(trainset)\n",
        "predictions_svd = algo.test(testset)\n",
        "\n",
        "# Then compute MSE, RMSE and MAE\n",
        "mse(predictions_svd)\n",
        "rmse(predictions_svd)\n",
        "mae(predictions_svd);"
      ],
      "metadata": {
        "colab": {
          "base_uri": "https://localhost:8080/"
        },
        "id": "1S4XoUmiBY9x",
        "outputId": "9ba429f8-1afb-4676-ea50-7a5664924af9"
      },
      "execution_count": null,
      "outputs": [
        {
          "output_type": "stream",
          "name": "stdout",
          "text": [
            "MSE: 0.8652\n",
            "RMSE: 0.9302\n",
            "MAE:  0.7443\n"
          ]
        }
      ]
    },
    {
      "cell_type": "code",
      "source": [
        "# get average evaluation measures and print them\n",
        "avg_precision, avg_recall, avg_f1, avg_accuracy = precision_recall_f1(predictions_svd, threshold=3.5)\n",
        "print(f'Avg. Precision: {avg_precision}')\n",
        "print(f'Avg. Recall: {avg_recall}')\n",
        "print(f'Avg. F1: {avg_f1}')\n",
        "print(f'Avg. Accuracy: {avg_accuracy}')"
      ],
      "metadata": {
        "colab": {
          "base_uri": "https://localhost:8080/"
        },
        "id": "F1ptG7qoEEd0",
        "outputId": "aadbe883-070c-4430-a659-7ad4db3ac820"
      },
      "execution_count": null,
      "outputs": [
        {
          "output_type": "stream",
          "name": "stdout",
          "text": [
            "Avg. Precision: 0.721988837137242\n",
            "Avg. Recall: 0.7830978703273676\n",
            "Avg. F1: 0.7292526567024816\n",
            "Avg. Accuracy: 0.7233741968917056\n"
          ]
        }
      ]
    },
    {
      "cell_type": "code",
      "source": [
        "# get average evaluation measures and print them\n",
        "avg_average_precisions, avg_precisions, avg_ndcgs = measures_at_k(predictions_svd, k=5, threshold=3.5)\n",
        "print(f'Avg. AveragePrecision: {avg_average_precisions}')\n",
        "print(f'Avg. Precision@5: {avg_precisions}')\n",
        "print(f'Avg. nDCG@5: {avg_ndcgs}')"
      ],
      "metadata": {
        "colab": {
          "base_uri": "https://localhost:8080/"
        },
        "id": "sxU0uqphEEa7",
        "outputId": "ab69e415-9828-4bbb-b09e-b3c6ca74e806"
      },
      "execution_count": null,
      "outputs": [
        {
          "output_type": "stream",
          "name": "stdout",
          "text": [
            "Avg. AveragePrecision: 0.6949520240187177\n",
            "Avg. Precision@5: 0.8051324503311484\n",
            "Avg. nDCG@5: 0.8882310127727668\n"
          ]
        }
      ]
    },
    {
      "cell_type": "markdown",
      "source": [
        "### **Hyperparameter tuning**"
      ],
      "metadata": {
        "id": "M7XgVsnIEeNk"
      }
    },
    {
      "cell_type": "code",
      "source": [
        "!pip install auto_surprise"
      ],
      "metadata": {
        "colab": {
          "base_uri": "https://localhost:8080/"
        },
        "id": "l3nSzG5kEk-d",
        "outputId": "efa62198-ce39-4ae6-c42b-5677f3787158"
      },
      "execution_count": null,
      "outputs": [
        {
          "output_type": "stream",
          "name": "stdout",
          "text": [
            "Looking in indexes: https://pypi.org/simple, https://us-python.pkg.dev/colab-wheels/public/simple/\n",
            "Collecting auto_surprise\n",
            "  Downloading auto_surprise-0.1.8-py3-none-any.whl (19 kB)\n",
            "Requirement already satisfied: hyperopt>=0.2.5 in /usr/local/lib/python3.10/dist-packages (from auto_surprise) (0.2.7)\n",
            "Requirement already satisfied: numpy in /usr/local/lib/python3.10/dist-packages (from auto_surprise) (1.22.4)\n",
            "Requirement already satisfied: scikit-learn>=0.23.0 in /usr/local/lib/python3.10/dist-packages (from auto_surprise) (1.2.2)\n",
            "Requirement already satisfied: scikit-surprise in /usr/local/lib/python3.10/dist-packages (from auto_surprise) (1.1.3)\n",
            "Requirement already satisfied: rich in /usr/local/lib/python3.10/dist-packages (from auto_surprise) (13.3.4)\n",
            "Requirement already satisfied: scipy in /usr/local/lib/python3.10/dist-packages (from hyperopt>=0.2.5->auto_surprise) (1.10.1)\n",
            "Requirement already satisfied: six in /usr/local/lib/python3.10/dist-packages (from hyperopt>=0.2.5->auto_surprise) (1.16.0)\n",
            "Requirement already satisfied: networkx>=2.2 in /usr/local/lib/python3.10/dist-packages (from hyperopt>=0.2.5->auto_surprise) (3.1)\n",
            "Requirement already satisfied: future in /usr/local/lib/python3.10/dist-packages (from hyperopt>=0.2.5->auto_surprise) (0.18.3)\n",
            "Requirement already satisfied: tqdm in /usr/local/lib/python3.10/dist-packages (from hyperopt>=0.2.5->auto_surprise) (4.65.0)\n",
            "Requirement already satisfied: cloudpickle in /usr/local/lib/python3.10/dist-packages (from hyperopt>=0.2.5->auto_surprise) (2.2.1)\n",
            "Requirement already satisfied: py4j in /usr/local/lib/python3.10/dist-packages (from hyperopt>=0.2.5->auto_surprise) (0.10.9.7)\n",
            "Requirement already satisfied: joblib>=1.1.1 in /usr/local/lib/python3.10/dist-packages (from scikit-learn>=0.23.0->auto_surprise) (1.2.0)\n",
            "Requirement already satisfied: threadpoolctl>=2.0.0 in /usr/local/lib/python3.10/dist-packages (from scikit-learn>=0.23.0->auto_surprise) (3.1.0)\n",
            "Requirement already satisfied: markdown-it-py<3.0.0,>=2.2.0 in /usr/local/lib/python3.10/dist-packages (from rich->auto_surprise) (2.2.0)\n",
            "Requirement already satisfied: pygments<3.0.0,>=2.13.0 in /usr/local/lib/python3.10/dist-packages (from rich->auto_surprise) (2.14.0)\n",
            "Requirement already satisfied: mdurl~=0.1 in /usr/local/lib/python3.10/dist-packages (from markdown-it-py<3.0.0,>=2.2.0->rich->auto_surprise) (0.1.2)\n",
            "Installing collected packages: auto_surprise\n",
            "Successfully installed auto_surprise-0.1.8\n"
          ]
        }
      ]
    },
    {
      "cell_type": "code",
      "source": [
        "from surprise import Dataset\n",
        "from surprise import Reader\n",
        "from auto_surprise.engine import Engine\n",
        "import pandas as pd\n",
        "\n",
        "\n",
        "# Create a reader object with the rating scale\n",
        "reader = Reader(rating_scale=(1, 5))\n",
        "\n",
        "# Load the dataset from the dataframe\n",
        "data = Dataset.load_from_df(df_ratings[['UserID', 'MovieID', 'Rating']], reader)\n",
        "\n",
        "# Intitialize auto surprise engine\n",
        "engine = Engine(verbose=True)\n",
        "\n",
        "# Start the trainer\n",
        "best_algo, best_params, best_score, tasks = engine.train(\n",
        "    data=data,\n",
        "    target_metric='test_rmse', # The metric we seek to minimize\n",
        "    cpu_time_limit=60 * 60, # The time limit we want to train in seconds\n",
        "    max_evals=100 # The maximum number of evaluations each algorithm gets for hyper parameter optimization\n",
        ")\n",
        "\n",
        "# Print the results\n",
        "print(f\"Best algorithm: {best_algo}\")\n",
        "print(f\"Best parameters: {best_params}\")\n",
        "print(f\"Best score: {best_score}\")\n",
        "\n",
        "# Build a pickelable model with the best algorithm and parameters\n",
        "model = engine.build_model(best_algo, best_params)"
      ],
      "metadata": {
        "colab": {
          "base_uri": "https://localhost:8080/",
          "height": 1000
        },
        "id": "fybdjFbpEk6_",
        "outputId": "f955ad10-f703-4175-9839-79da40610315"
      },
      "execution_count": null,
      "outputs": [
        {
          "output_type": "display_data",
          "data": {
            "text/plain": [
              "auto_surprise \u001b[1;36m0.1\u001b[0m.\u001b[1;36m8\u001b[0m\n"
            ],
            "text/html": [
              "<pre style=\"white-space:pre;overflow-x:auto;line-height:normal;font-family:Menlo,'DejaVu Sans Mono',consolas,'Courier New',monospace\">auto_surprise <span style=\"color: #008080; text-decoration-color: #008080; font-weight: bold\">0.1</span>.<span style=\"color: #008080; text-decoration-color: #008080; font-weight: bold\">8</span>\n",
              "</pre>\n"
            ]
          },
          "metadata": {}
        },
        {
          "output_type": "display_data",
          "data": {
            "text/plain": [
              "Available CPUs: \u001b[1;36m2\u001b[0m\n"
            ],
            "text/html": [
              "<pre style=\"white-space:pre;overflow-x:auto;line-height:normal;font-family:Menlo,'DejaVu Sans Mono',consolas,'Courier New',monospace\">Available CPUs: <span style=\"color: #008080; text-decoration-color: #008080; font-weight: bold\">2</span>\n",
              "</pre>\n"
            ]
          },
          "metadata": {}
        },
        {
          "output_type": "stream",
          "name": "stderr",
          "text": [
            "INFO:auto_surprise.context.result_logging_manager_normal_predictor:Started hyperarameter optimization\n",
            "INFO:auto_surprise.context.result_logging_manager_normal_predictor:Execution time: 0:00:45 Loss: 1.5068472273865778 Hyperparameters: None\n"
          ]
        },
        {
          "output_type": "stream",
          "name": "stdout",
          "text": [
            "Evaluating RMSE, MAE, MSE of algorithm NormalPredictor on 5 split(s).\n",
            "\n",
            "                  Fold 1  Fold 2  Fold 3  Fold 4  Fold 5  Mean    Std     \n",
            "RMSE (testset)    1.5082  1.5056  1.5034  1.5093  1.5077  1.5068  0.0021  \n",
            "MAE (testset)     1.2086  1.2063  1.2053  1.2101  1.2096  1.2080  0.0019  \n",
            "MSE (testset)     2.2745  2.2667  2.2603  2.2780  2.2733  2.2706  0.0063  \n",
            "Fit time          2.83    5.56    1.65    1.63    1.67    2.67    1.51    \n",
            "Test time         4.49    3.53    3.31    1.23    2.35    2.98    1.11    \n"
          ]
        },
        {
          "output_type": "stream",
          "name": "stderr",
          "text": [
            "INFO:auto_surprise.context.result_logging_manager_normal_predictor:Done!\n"
          ]
        },
        {
          "output_type": "display_data",
          "data": {
            "text/plain": [
              "Baseline loss: \u001b[1;36m1.5068472273865778\u001b[0m\n"
            ],
            "text/html": [
              "<pre style=\"white-space:pre;overflow-x:auto;line-height:normal;font-family:Menlo,'DejaVu Sans Mono',consolas,'Courier New',monospace\">Baseline loss: <span style=\"color: #008080; text-decoration-color: #008080; font-weight: bold\">1.5068472273865778</span>\n",
              "</pre>\n"
            ]
          },
          "metadata": {}
        },
        {
          "output_type": "stream",
          "name": "stdout",
          "text": [
            "Starting process with svd algorithm\n",
            "Starting process with svdpp algorithm\n"
          ]
        },
        {
          "output_type": "stream",
          "name": "stderr",
          "text": [
            "INFO:auto_surprise.context.result_logging_manager_svd:Started hyperarameter optimization\n"
          ]
        },
        {
          "output_type": "stream",
          "name": "stdout",
          "text": [
            "\r  0%|          | 0/100 [00:00<?, ?trial/s, best loss=?]Starting process with nmf algorithm\n"
          ]
        },
        {
          "output_type": "stream",
          "name": "stderr",
          "text": [
            "INFO:auto_surprise.context.result_logging_manager_svdpp:Started hyperarameter optimization\n"
          ]
        },
        {
          "output_type": "stream",
          "name": "stdout",
          "text": [
            "\r  0%|          | 0/100 [00:00<?, ?trial/s, best loss=?]Starting process with knn_basic algorithm\n",
            "\n"
          ]
        },
        {
          "output_type": "stream",
          "name": "stderr",
          "text": [
            "INFO:auto_surprise.context.result_logging_manager_nmf:Started hyperarameter optimization\n"
          ]
        },
        {
          "output_type": "stream",
          "name": "stdout",
          "text": [
            "\r  0%|          | 0/100 [00:00<?, ?trial/s, best loss=?]"
          ]
        },
        {
          "output_type": "stream",
          "name": "stderr",
          "text": [
            "ERROR:auto_surprise.trainer:Exception for algo svd\n"
          ]
        },
        {
          "output_type": "stream",
          "name": "stdout",
          "text": [
            "Starting process with knn_baseline algorithm\n"
          ]
        },
        {
          "output_type": "stream",
          "name": "stderr",
          "text": [
            "ERROR:auto_surprise.trainer:Traceback (most recent call last):\n",
            "  File \"/usr/local/lib/python3.10/dist-packages/auto_surprise/trainer.py\", line 85, in start_with_limits\n",
            "    _, best_trial = self.algo_base.best_hyperparams(max_evals)\n",
            "  File \"/usr/local/lib/python3.10/dist-packages/auto_surprise/algorithms/base.py\", line 99, in best_hyperparams\n",
            "    best = fmin(**fmin_args)\n",
            "  File \"/usr/local/lib/python3.10/dist-packages/hyperopt/fmin.py\", line 540, in fmin\n",
            "    return trials.fmin(\n",
            "  File \"/usr/local/lib/python3.10/dist-packages/hyperopt/base.py\", line 671, in fmin\n",
            "    return fmin(\n",
            "  File \"/usr/local/lib/python3.10/dist-packages/hyperopt/fmin.py\", line 586, in fmin\n",
            "    rval.exhaust()\n",
            "  File \"/usr/local/lib/python3.10/dist-packages/hyperopt/fmin.py\", line 364, in exhaust\n",
            "    self.run(self.max_evals - n_done, block_until_done=self.asynchronous)\n",
            "  File \"/usr/local/lib/python3.10/dist-packages/hyperopt/fmin.py\", line 279, in run\n",
            "    new_ids, self.domain, trials, self.rstate.integers(2 ** 31 - 1)\n",
            "AttributeError: module 'numpy.random' has no attribute 'integers'\n",
            "\n"
          ]
        },
        {
          "output_type": "stream",
          "name": "stdout",
          "text": [
            "\r  0%|          | 0/100 [00:00<?, ?trial/s, best loss=?]\n"
          ]
        },
        {
          "output_type": "stream",
          "name": "stderr",
          "text": [
            "INFO:auto_surprise.context.result_logging_manager_knn_basic:Started hyperarameter optimization\n"
          ]
        },
        {
          "output_type": "stream",
          "name": "stdout",
          "text": [
            "\r  0%|          | 0/100 [00:00<?, ?trial/s, best loss=?]"
          ]
        },
        {
          "output_type": "stream",
          "name": "stderr",
          "text": [
            "INFO:auto_surprise.context.result_logging_manager_svd:Done!\n",
            "ERROR:auto_surprise.trainer:Exception for algo svdpp\n"
          ]
        },
        {
          "output_type": "stream",
          "name": "stdout",
          "text": [
            "Starting process with knn_with_means algorithm\n"
          ]
        },
        {
          "output_type": "stream",
          "name": "stderr",
          "text": [
            "ERROR:auto_surprise.trainer:Traceback (most recent call last):\n",
            "  File \"/usr/local/lib/python3.10/dist-packages/auto_surprise/trainer.py\", line 85, in start_with_limits\n",
            "    _, best_trial = self.algo_base.best_hyperparams(max_evals)\n",
            "  File \"/usr/local/lib/python3.10/dist-packages/auto_surprise/algorithms/base.py\", line 99, in best_hyperparams\n",
            "    best = fmin(**fmin_args)\n",
            "  File \"/usr/local/lib/python3.10/dist-packages/hyperopt/fmin.py\", line 540, in fmin\n",
            "    return trials.fmin(\n",
            "  File \"/usr/local/lib/python3.10/dist-packages/hyperopt/base.py\", line 671, in fmin\n",
            "    return fmin(\n",
            "  File \"/usr/local/lib/python3.10/dist-packages/hyperopt/fmin.py\", line 586, in fmin\n",
            "    rval.exhaust()\n",
            "  File \"/usr/local/lib/python3.10/dist-packages/hyperopt/fmin.py\", line 364, in exhaust\n",
            "    self.run(self.max_evals - n_done, block_until_done=self.asynchronous)\n",
            "  File \"/usr/local/lib/python3.10/dist-packages/hyperopt/fmin.py\", line 279, in run\n",
            "    new_ids, self.domain, trials, self.rstate.integers(2 ** 31 - 1)\n",
            "AttributeError: module 'numpy.random' has no attribute 'integers'\n",
            "\n"
          ]
        },
        {
          "output_type": "stream",
          "name": "stdout",
          "text": [
            "\r  0%|          | 0/100 [00:00<?, ?trial/s, best loss=?]\n"
          ]
        },
        {
          "output_type": "stream",
          "name": "stderr",
          "text": [
            "INFO:auto_surprise.context.result_logging_manager_svdpp:Done!\n"
          ]
        },
        {
          "output_type": "stream",
          "name": "stdout",
          "text": [
            "\r  0%|          | 0/100 [00:00<?, ?trial/s, best loss=?]"
          ]
        },
        {
          "output_type": "stream",
          "name": "stderr",
          "text": [
            "ERROR:auto_surprise.trainer:Exception for algo nmf\n",
            "INFO:auto_surprise.context.result_logging_manager_knn_baseline:Started hyperarameter optimization\n"
          ]
        },
        {
          "output_type": "stream",
          "name": "stdout",
          "text": [
            "Starting process with knn_with_z_score algorithm\n"
          ]
        },
        {
          "output_type": "stream",
          "name": "stderr",
          "text": [
            "ERROR:auto_surprise.trainer:Traceback (most recent call last):\n",
            "  File \"/usr/local/lib/python3.10/dist-packages/auto_surprise/trainer.py\", line 85, in start_with_limits\n",
            "    _, best_trial = self.algo_base.best_hyperparams(max_evals)\n",
            "  File \"/usr/local/lib/python3.10/dist-packages/auto_surprise/algorithms/base.py\", line 99, in best_hyperparams\n",
            "    best = fmin(**fmin_args)\n",
            "  File \"/usr/local/lib/python3.10/dist-packages/hyperopt/fmin.py\", line 540, in fmin\n",
            "    return trials.fmin(\n",
            "  File \"/usr/local/lib/python3.10/dist-packages/hyperopt/base.py\", line 671, in fmin\n",
            "    return fmin(\n",
            "  File \"/usr/local/lib/python3.10/dist-packages/hyperopt/fmin.py\", line 586, in fmin\n",
            "    rval.exhaust()\n",
            "  File \"/usr/local/lib/python3.10/dist-packages/hyperopt/fmin.py\", line 364, in exhaust\n",
            "    self.run(self.max_evals - n_done, block_until_done=self.asynchronous)\n",
            "  File \"/usr/local/lib/python3.10/dist-packages/hyperopt/fmin.py\", line 279, in run\n",
            "    new_ids, self.domain, trials, self.rstate.integers(2 ** 31 - 1)\n",
            "AttributeError: module 'numpy.random' has no attribute 'integers'\n",
            "\n"
          ]
        },
        {
          "output_type": "stream",
          "name": "stdout",
          "text": [
            "\n",
            "  0%|          | 0/100 [00:00<?, ?trial/s, best loss=?]"
          ]
        },
        {
          "output_type": "stream",
          "name": "stderr",
          "text": [
            "INFO:auto_surprise.context.result_logging_manager_knn_with_means:Started hyperarameter optimization\n",
            "INFO:auto_surprise.context.result_logging_manager_nmf:Done!\n",
            "ERROR:auto_surprise.trainer:Exception for algo knn_basic\n"
          ]
        },
        {
          "output_type": "stream",
          "name": "stdout",
          "text": [
            "  0%|          | 0/100 [00:00<?, ?trial/s, best loss=?]Starting process with co_clustering algorithm\n",
            "  0%|          | 0/100 [00:00<?, ?trial/s, best loss=?]"
          ]
        },
        {
          "output_type": "stream",
          "name": "stderr",
          "text": [
            "ERROR:auto_surprise.trainer:Traceback (most recent call last):\n",
            "  File \"/usr/local/lib/python3.10/dist-packages/auto_surprise/trainer.py\", line 85, in start_with_limits\n",
            "    _, best_trial = self.algo_base.best_hyperparams(max_evals)\n",
            "  File \"/usr/local/lib/python3.10/dist-packages/auto_surprise/algorithms/base.py\", line 99, in best_hyperparams\n",
            "    best = fmin(**fmin_args)\n",
            "  File \"/usr/local/lib/python3.10/dist-packages/hyperopt/fmin.py\", line 540, in fmin\n",
            "    return trials.fmin(\n",
            "  File \"/usr/local/lib/python3.10/dist-packages/hyperopt/base.py\", line 671, in fmin\n",
            "    return fmin(\n",
            "  File \"/usr/local/lib/python3.10/dist-packages/hyperopt/fmin.py\", line 586, in fmin\n",
            "    rval.exhaust()\n",
            "  File \"/usr/local/lib/python3.10/dist-packages/hyperopt/fmin.py\", line 364, in exhaust\n",
            "    self.run(self.max_evals - n_done, block_until_done=self.asynchronous)\n",
            "  File \"/usr/local/lib/python3.10/dist-packages/hyperopt/fmin.py\", line 279, in run\n",
            "    new_ids, self.domain, trials, self.rstate.integers(2 ** 31 - 1)\n",
            "AttributeError: module 'numpy.random' has no attribute 'integers'\n",
            "\n"
          ]
        },
        {
          "output_type": "stream",
          "name": "stdout",
          "text": [
            "\n"
          ]
        },
        {
          "output_type": "stream",
          "name": "stderr",
          "text": [
            "ERROR:auto_surprise.trainer:Exception for algo knn_baseline\n",
            "INFO:auto_surprise.context.result_logging_manager_knn_basic:Done!\n",
            "INFO:auto_surprise.context.result_logging_manager_knn_with_z_score:Started hyperarameter optimization\n"
          ]
        },
        {
          "output_type": "stream",
          "name": "stdout",
          "text": [
            "\r  0%|          | 0/100 [00:00<?, ?trial/s, best loss=?]"
          ]
        },
        {
          "output_type": "stream",
          "name": "stderr",
          "text": [
            "ERROR:auto_surprise.trainer:Traceback (most recent call last):\n",
            "  File \"/usr/local/lib/python3.10/dist-packages/auto_surprise/trainer.py\", line 85, in start_with_limits\n",
            "    _, best_trial = self.algo_base.best_hyperparams(max_evals)\n",
            "  File \"/usr/local/lib/python3.10/dist-packages/auto_surprise/algorithms/base.py\", line 99, in best_hyperparams\n",
            "    best = fmin(**fmin_args)\n",
            "  File \"/usr/local/lib/python3.10/dist-packages/hyperopt/fmin.py\", line 540, in fmin\n",
            "    return trials.fmin(\n",
            "  File \"/usr/local/lib/python3.10/dist-packages/hyperopt/base.py\", line 671, in fmin\n",
            "    return fmin(\n",
            "  File \"/usr/local/lib/python3.10/dist-packages/hyperopt/fmin.py\", line 586, in fmin\n",
            "    rval.exhaust()\n",
            "  File \"/usr/local/lib/python3.10/dist-packages/hyperopt/fmin.py\", line 364, in exhaust\n",
            "    self.run(self.max_evals - n_done, block_until_done=self.asynchronous)\n",
            "  File \"/usr/local/lib/python3.10/dist-packages/hyperopt/fmin.py\", line 279, in run\n",
            "    new_ids, self.domain, trials, self.rstate.integers(2 ** 31 - 1)\n",
            "AttributeError: module 'numpy.random' has no attribute 'integers'\n",
            "\n"
          ]
        },
        {
          "output_type": "stream",
          "name": "stdout",
          "text": [
            "Starting process with slope_one algorithm\n",
            "  0%|          | 0/100 [00:00<?, ?trial/s, best loss=?]\n"
          ]
        },
        {
          "output_type": "stream",
          "name": "stderr",
          "text": [
            "INFO:auto_surprise.context.result_logging_manager_co_clustering:Started hyperarameter optimization\n"
          ]
        },
        {
          "output_type": "stream",
          "name": "stdout",
          "text": [
            "\r  0%|          | 0/100 [00:00<?, ?trial/s, best loss=?]"
          ]
        },
        {
          "output_type": "stream",
          "name": "stderr",
          "text": [
            "ERROR:auto_surprise.trainer:Exception for algo knn_with_means\n",
            "INFO:auto_surprise.context.result_logging_manager_knn_baseline:Done!\n",
            "ERROR:auto_surprise.trainer:Traceback (most recent call last):\n",
            "  File \"/usr/local/lib/python3.10/dist-packages/auto_surprise/trainer.py\", line 85, in start_with_limits\n",
            "    _, best_trial = self.algo_base.best_hyperparams(max_evals)\n",
            "  File \"/usr/local/lib/python3.10/dist-packages/auto_surprise/algorithms/base.py\", line 99, in best_hyperparams\n",
            "    best = fmin(**fmin_args)\n",
            "  File \"/usr/local/lib/python3.10/dist-packages/hyperopt/fmin.py\", line 540, in fmin\n",
            "    return trials.fmin(\n",
            "  File \"/usr/local/lib/python3.10/dist-packages/hyperopt/base.py\", line 671, in fmin\n",
            "    return fmin(\n",
            "  File \"/usr/local/lib/python3.10/dist-packages/hyperopt/fmin.py\", line 586, in fmin\n",
            "    rval.exhaust()\n",
            "  File \"/usr/local/lib/python3.10/dist-packages/hyperopt/fmin.py\", line 364, in exhaust\n",
            "    self.run(self.max_evals - n_done, block_until_done=self.asynchronous)\n",
            "  File \"/usr/local/lib/python3.10/dist-packages/hyperopt/fmin.py\", line 279, in run\n",
            "    new_ids, self.domain, trials, self.rstate.integers(2 ** 31 - 1)\n",
            "AttributeError: module 'numpy.random' has no attribute 'integers'\n",
            "\n"
          ]
        },
        {
          "output_type": "stream",
          "name": "stdout",
          "text": [
            "Starting process with baseline_only algorithm\n",
            "  0%|          | 0/100 [00:00<?, ?trial/s, best loss=?]\n"
          ]
        },
        {
          "output_type": "stream",
          "name": "stderr",
          "text": [
            "INFO:auto_surprise.context.result_logging_manager_slope_one:Started hyperarameter optimization\n",
            "INFO:auto_surprise.context.result_logging_manager_knn_with_means:Done!\n"
          ]
        },
        {
          "output_type": "stream",
          "name": "stdout",
          "text": [
            "\r  0%|          | 0/100 [00:00<?, ?trial/s, best loss=?]"
          ]
        },
        {
          "output_type": "stream",
          "name": "stderr",
          "text": [
            "ERROR:auto_surprise.trainer:Exception for algo knn_with_z_score\n"
          ]
        },
        {
          "output_type": "stream",
          "name": "stdout",
          "text": [
            "\r  0%|          | 0/100 [00:00<?, ?trial/s, best loss=?]"
          ]
        },
        {
          "output_type": "stream",
          "name": "stderr",
          "text": [
            "ERROR:auto_surprise.trainer:Traceback (most recent call last):\n",
            "  File \"/usr/local/lib/python3.10/dist-packages/auto_surprise/trainer.py\", line 85, in start_with_limits\n",
            "    _, best_trial = self.algo_base.best_hyperparams(max_evals)\n",
            "  File \"/usr/local/lib/python3.10/dist-packages/auto_surprise/algorithms/base.py\", line 99, in best_hyperparams\n",
            "    best = fmin(**fmin_args)\n",
            "  File \"/usr/local/lib/python3.10/dist-packages/hyperopt/fmin.py\", line 540, in fmin\n",
            "    return trials.fmin(\n",
            "  File \"/usr/local/lib/python3.10/dist-packages/hyperopt/base.py\", line 671, in fmin\n",
            "    return fmin(\n",
            "  File \"/usr/local/lib/python3.10/dist-packages/hyperopt/fmin.py\", line 586, in fmin\n",
            "    rval.exhaust()\n",
            "  File \"/usr/local/lib/python3.10/dist-packages/hyperopt/fmin.py\", line 364, in exhaust\n",
            "    self.run(self.max_evals - n_done, block_until_done=self.asynchronous)\n",
            "  File \"/usr/local/lib/python3.10/dist-packages/hyperopt/fmin.py\", line 279, in run\n",
            "    new_ids, self.domain, trials, self.rstate.integers(2 ** 31 - 1)\n",
            "AttributeError: module 'numpy.random' has no attribute 'integers'\n",
            "\n"
          ]
        },
        {
          "output_type": "stream",
          "name": "stdout",
          "text": [
            "\n"
          ]
        },
        {
          "output_type": "stream",
          "name": "stderr",
          "text": [
            "ERROR:auto_surprise.trainer:Exception for algo co_clustering\n",
            "ERROR:auto_surprise.trainer:Traceback (most recent call last):\n",
            "  File \"/usr/local/lib/python3.10/dist-packages/auto_surprise/trainer.py\", line 85, in start_with_limits\n",
            "    _, best_trial = self.algo_base.best_hyperparams(max_evals)\n",
            "  File \"/usr/local/lib/python3.10/dist-packages/auto_surprise/algorithms/base.py\", line 99, in best_hyperparams\n",
            "    best = fmin(**fmin_args)\n",
            "  File \"/usr/local/lib/python3.10/dist-packages/hyperopt/fmin.py\", line 540, in fmin\n",
            "    return trials.fmin(\n",
            "  File \"/usr/local/lib/python3.10/dist-packages/hyperopt/base.py\", line 671, in fmin\n",
            "    return fmin(\n",
            "  File \"/usr/local/lib/python3.10/dist-packages/hyperopt/fmin.py\", line 586, in fmin\n",
            "    rval.exhaust()\n",
            "  File \"/usr/local/lib/python3.10/dist-packages/hyperopt/fmin.py\", line 364, in exhaust\n",
            "    self.run(self.max_evals - n_done, block_until_done=self.asynchronous)\n",
            "  File \"/usr/local/lib/python3.10/dist-packages/hyperopt/fmin.py\", line 279, in run\n",
            "    new_ids, self.domain, trials, self.rstate.integers(2 ** 31 - 1)\n",
            "AttributeError: module 'numpy.random' has no attribute 'integers'\n",
            "\n",
            "INFO:auto_surprise.context.result_logging_manager_knn_with_z_score:Done!\n",
            "INFO:auto_surprise.context.result_logging_manager_co_clustering:Done!\n",
            "INFO:auto_surprise.context.result_logging_manager_baseline_only:Started hyperarameter optimization\n"
          ]
        },
        {
          "output_type": "stream",
          "name": "stdout",
          "text": [
            "  0%|          | 0/100 [00:00<?, ?trial/s, best loss=?]\n"
          ]
        },
        {
          "output_type": "stream",
          "name": "stderr",
          "text": [
            "ERROR:auto_surprise.trainer:Exception for algo baseline_only\n",
            "ERROR:auto_surprise.trainer:Traceback (most recent call last):\n",
            "  File \"/usr/local/lib/python3.10/dist-packages/auto_surprise/trainer.py\", line 85, in start_with_limits\n",
            "    _, best_trial = self.algo_base.best_hyperparams(max_evals)\n",
            "  File \"/usr/local/lib/python3.10/dist-packages/auto_surprise/algorithms/base.py\", line 99, in best_hyperparams\n",
            "    best = fmin(**fmin_args)\n",
            "  File \"/usr/local/lib/python3.10/dist-packages/hyperopt/fmin.py\", line 540, in fmin\n",
            "    return trials.fmin(\n",
            "  File \"/usr/local/lib/python3.10/dist-packages/hyperopt/base.py\", line 671, in fmin\n",
            "    return fmin(\n",
            "  File \"/usr/local/lib/python3.10/dist-packages/hyperopt/fmin.py\", line 586, in fmin\n",
            "    rval.exhaust()\n",
            "  File \"/usr/local/lib/python3.10/dist-packages/hyperopt/fmin.py\", line 364, in exhaust\n",
            "    self.run(self.max_evals - n_done, block_until_done=self.asynchronous)\n",
            "  File \"/usr/local/lib/python3.10/dist-packages/hyperopt/fmin.py\", line 279, in run\n",
            "    new_ids, self.domain, trials, self.rstate.integers(2 ** 31 - 1)\n",
            "AttributeError: module 'numpy.random' has no attribute 'integers'\n",
            "\n",
            "INFO:auto_surprise.context.result_logging_manager_baseline_only:Done!\n"
          ]
        },
        {
          "output_type": "stream",
          "name": "stdout",
          "text": [
            "Evaluating RMSE, MAE, MSE of algorithm SlopeOne on 5 split(s).\n",
            "\n",
            "                  Fold 1  Fold 2  Fold 3  Fold 4  Fold 5  Mean    Std     \n",
            "RMSE (testset)    0.9069  0.9061  0.9056  0.9046  0.9099  0.9066  0.0018  \n",
            "MAE (testset)     0.7147  0.7140  0.7138  0.7132  0.7169  0.7145  0.0013  \n",
            "MSE (testset)     0.8225  0.8210  0.8202  0.8182  0.8278  0.8220  0.0033  \n",
            "Fit time          12.77   13.17   13.35   13.01   13.42   13.14   0.23    \n",
            "Test time         58.88   58.42   57.42   58.54   58.13   58.28   0.49    \n"
          ]
        },
        {
          "output_type": "stream",
          "name": "stderr",
          "text": [
            "INFO:auto_surprise.context.result_logging_manager_slope_one:Execution time: 0:06:08 Loss: 0.9066190344071057 Hyperparameters: None\n",
            "INFO:auto_surprise.context.result_logging_manager_slope_one:Done!\n"
          ]
        },
        {
          "output_type": "display_data",
          "data": {
            "text/plain": [
              "----Done!----\n"
            ],
            "text/html": [
              "<pre style=\"white-space:pre;overflow-x:auto;line-height:normal;font-family:Menlo,'DejaVu Sans Mono',consolas,'Courier New',monospace\">----Done!----\n",
              "</pre>\n"
            ]
          },
          "metadata": {}
        },
        {
          "output_type": "display_data",
          "data": {
            "text/plain": [
              "Best algorithm: slope_one\n"
            ],
            "text/html": [
              "<pre style=\"white-space:pre;overflow-x:auto;line-height:normal;font-family:Menlo,'DejaVu Sans Mono',consolas,'Courier New',monospace\">Best algorithm: slope_one\n",
              "</pre>\n"
            ]
          },
          "metadata": {}
        },
        {
          "output_type": "display_data",
          "data": {
            "text/plain": [
              "Best hyperparameters: \u001b[3;35mNone\u001b[0m\n"
            ],
            "text/html": [
              "<pre style=\"white-space:pre;overflow-x:auto;line-height:normal;font-family:Menlo,'DejaVu Sans Mono',consolas,'Courier New',monospace\">Best hyperparameters: <span style=\"color: #800080; text-decoration-color: #800080; font-style: italic\">None</span>\n",
              "</pre>\n"
            ]
          },
          "metadata": {}
        },
        {
          "output_type": "display_data",
          "data": {
            "text/plain": [
              "┏━━━━━━━━━━━━━━━━━━┳━━━━━━━━━━━━━━━━━┳━━━━━━━━━━━━━━━━━━━━┓\n",
              "┃\u001b[1;35m \u001b[0m\u001b[1;35mAlgorithm       \u001b[0m\u001b[1;35m \u001b[0m┃\u001b[1;35m \u001b[0m\u001b[1;35mHyperparameters\u001b[0m\u001b[1;35m \u001b[0m┃\u001b[1;35m \u001b[0m\u001b[1;35m              Loss\u001b[0m\u001b[1;35m \u001b[0m┃\n",
              "┡━━━━━━━━━━━━━━━━━━╇━━━━━━━━━━━━━━━━━╇━━━━━━━━━━━━━━━━━━━━┩\n",
              "│ svd              │ None            │               None │\n",
              "│ svdpp            │ None            │               None │\n",
              "│ nmf              │ None            │               None │\n",
              "│ knn_basic        │ None            │               None │\n",
              "│ knn_baseline     │ None            │               None │\n",
              "│ knn_with_means   │ None            │               None │\n",
              "│ knn_with_z_score │ None            │               None │\n",
              "│ co_clustering    │ None            │               None │\n",
              "│ baseline_only    │ None            │               None │\n",
              "│ slope_one        │ None            │ 0.9066190344071057 │\n",
              "└──────────────────┴─────────────────┴────────────────────┘\n"
            ],
            "text/html": [
              "<pre style=\"white-space:pre;overflow-x:auto;line-height:normal;font-family:Menlo,'DejaVu Sans Mono',consolas,'Courier New',monospace\">┏━━━━━━━━━━━━━━━━━━┳━━━━━━━━━━━━━━━━━┳━━━━━━━━━━━━━━━━━━━━┓\n",
              "┃<span style=\"color: #800080; text-decoration-color: #800080; font-weight: bold\"> Algorithm        </span>┃<span style=\"color: #800080; text-decoration-color: #800080; font-weight: bold\"> Hyperparameters </span>┃<span style=\"color: #800080; text-decoration-color: #800080; font-weight: bold\">               Loss </span>┃\n",
              "┡━━━━━━━━━━━━━━━━━━╇━━━━━━━━━━━━━━━━━╇━━━━━━━━━━━━━━━━━━━━┩\n",
              "│ svd              │ None            │               None │\n",
              "│ svdpp            │ None            │               None │\n",
              "│ nmf              │ None            │               None │\n",
              "│ knn_basic        │ None            │               None │\n",
              "│ knn_baseline     │ None            │               None │\n",
              "│ knn_with_means   │ None            │               None │\n",
              "│ knn_with_z_score │ None            │               None │\n",
              "│ co_clustering    │ None            │               None │\n",
              "│ baseline_only    │ None            │               None │\n",
              "│ slope_one        │ None            │ 0.9066190344071057 │\n",
              "└──────────────────┴─────────────────┴────────────────────┘\n",
              "</pre>\n"
            ]
          },
          "metadata": {}
        },
        {
          "output_type": "stream",
          "name": "stdout",
          "text": [
            "Best algorithm: slope_one\n",
            "Best parameters: None\n",
            "Best score: 0.9066190344071057\n"
          ]
        }
      ]
    },
    {
      "cell_type": "code",
      "source": [
        "model.fit(trainset)\n",
        "predictions_best = model.test(testset)"
      ],
      "metadata": {
        "id": "lOSELbJ2Ek4Y"
      },
      "execution_count": null,
      "outputs": []
    },
    {
      "cell_type": "code",
      "source": [
        "mse(predictions_best)\n",
        "rmse(predictions_best)\n",
        "mae(predictions_best);"
      ],
      "metadata": {
        "colab": {
          "base_uri": "https://localhost:8080/"
        },
        "id": "ZKUXvDNpEkHo",
        "outputId": "78baee5e-0097-42f5-ee73-bf0f27765f1d"
      },
      "execution_count": null,
      "outputs": [
        {
          "output_type": "stream",
          "name": "stdout",
          "text": [
            "MSE: 0.8251\n",
            "RMSE: 0.9083\n",
            "MAE:  0.7154\n"
          ]
        }
      ]
    },
    {
      "cell_type": "code",
      "source": [
        "# get average evaluation measures and print them\n",
        "avg_precision, avg_recall, avg_f1, avg_accuracy = precision_recall_f1(predictions_best, threshold=3.5)\n",
        "print(f'Avg. Precision: {avg_precision}')\n",
        "print(f'Avg. Recall: {avg_recall}')\n",
        "print(f'Avg. F1: {avg_f1}')\n",
        "print(f'Avg. Accuracy: {avg_accuracy}')"
      ],
      "metadata": {
        "colab": {
          "base_uri": "https://localhost:8080/"
        },
        "id": "k1-9bH1FEw8X",
        "outputId": "6e08f69b-5a51-4410-f7b5-30569bbff844"
      },
      "execution_count": null,
      "outputs": [
        {
          "output_type": "stream",
          "name": "stdout",
          "text": [
            "Avg. Precision: 0.731266642206662\n",
            "Avg. Recall: 0.7599667426450937\n",
            "Avg. F1: 0.7261660397139151\n",
            "Avg. Accuracy: 0.7240046114700436\n"
          ]
        }
      ]
    },
    {
      "cell_type": "code",
      "source": [
        "# get average evaluation measures and print them\n",
        "avg_average_precisions, avg_precisions, avg_ndcgs = measures_at_k(predictions_best, k=5, threshold=3.5)\n",
        "print(f'Avg. AveragePrecision: {avg_average_precisions}')\n",
        "print(f'Avg. Precision@5: {avg_precisions}')\n",
        "print(f'Avg. nDCG@5: {avg_ndcgs}')"
      ],
      "metadata": {
        "colab": {
          "base_uri": "https://localhost:8080/"
        },
        "id": "V8XMkyhGEw4v",
        "outputId": "d4366817-e1ad-41f7-d95f-d003f31c3d0d"
      },
      "execution_count": null,
      "outputs": [
        {
          "output_type": "stream",
          "name": "stdout",
          "text": [
            "Avg. AveragePrecision: 0.7040238963226542\n",
            "Avg. Precision@5: 0.8077262693156962\n",
            "Avg. nDCG@5: 0.8897121898186425\n"
          ]
        }
      ]
    },
    {
      "cell_type": "markdown",
      "source": [
        "### Getting some predictions"
      ],
      "metadata": {
        "id": "iD8dH-QbGCEe"
      }
    },
    {
      "cell_type": "code",
      "source": [
        "top_n = get_top_n(predictions_best, n=5)\n",
        "\n",
        "# Let's get recommendations for user 196\n",
        "uid = 256\n",
        "# collect all movies the user rated\n",
        "user_movies = df_ratings[df_ratings['UserID'] == int(uid)]\n",
        "\n",
        "# get the recommendations for the specific user from the top_n dict\n",
        "recommendations = [df_movies[df_movies['MovieID'] == int(iid)]['Title'].iloc[0] for (iid, _) in top_n[uid]]\n",
        "\n",
        "print('Top 5 recommendations for user with id 196:')\n",
        "for i, rec in enumerate(recommendations):\n",
        "    print(f'{i+1} {rec}')"
      ],
      "metadata": {
        "colab": {
          "base_uri": "https://localhost:8080/"
        },
        "id": "5SRLVeskFzTT",
        "outputId": "0b3be2cb-79ca-4c61-f0c8-fe7bc32dfe67"
      },
      "execution_count": null,
      "outputs": [
        {
          "output_type": "stream",
          "name": "stdout",
          "text": [
            "Top 5 recommendations for user with id 196:\n",
            "1 Big Sleep The \n",
            "2 Chinatown \n",
            "3 Star Wars Episode V The Empire Strikes Back \n",
            "4 Saving Private Ryan \n",
            "5 Matrix The \n"
          ]
        }
      ]
    },
    {
      "cell_type": "code",
      "source": [
        "# First we collect all movies the user rated and filter them down to only those appearing in the test set\n",
        "user_movies = df_ratings[df_ratings['UserID'] == uid].sort_values(by='Rating', ascending=False)\n",
        "movies_relevant = []\n",
        "for user, movie, rating in testset:\n",
        "    if user == uid:\n",
        "        movies_relevant.append(df_movies[df_movies['MovieID'] == int(movie)]['Title'].iloc[0])\n",
        "\n",
        "for movie in movies_relevant:\n",
        "    print(movie)"
      ],
      "metadata": {
        "colab": {
          "base_uri": "https://localhost:8080/"
        },
        "id": "4gf3cfdNFzQZ",
        "outputId": "8dd24ece-1fda-47f1-9211-e0197102b521"
      },
      "execution_count": null,
      "outputs": [
        {
          "output_type": "stream",
          "name": "stdout",
          "text": [
            "Usual Suspects The \n",
            "L A Confidential \n",
            "Sixth Sense The \n",
            "What Ever Happened to Baby Jane \n",
            "Almost Famous \n",
            "Meet the Parents \n",
            "Godfather Part II The \n",
            "Four Weddings and a Funeral \n",
            "American Beauty \n",
            "High Fidelity \n",
            "Rear Window \n"
          ]
        }
      ]
    },
    {
      "cell_type": "markdown",
      "source": [
        "## **Content-based recommender**"
      ],
      "metadata": {
        "id": "-tiCDgGiIMGh"
      }
    },
    {
      "cell_type": "code",
      "source": [
        "import pandas as pd\n",
        "# assuming movies and ratings are already defined as dataframes\n",
        "df_merged = pd.merge(df_movies, df_ratings, on='MovieID', how='inner')\n",
        "df_merged = pd.merge(df_merged, df_users, on='UserID', how='inner')"
      ],
      "metadata": {
        "id": "069BwgBPFzM9"
      },
      "execution_count": null,
      "outputs": []
    },
    {
      "cell_type": "code",
      "source": [
        "df_merged"
      ],
      "metadata": {
        "colab": {
          "base_uri": "https://localhost:8080/",
          "height": 424
        },
        "id": "Os9sjvDxFzKQ",
        "outputId": "85369d59-58ff-4b84-f6c4-d2270acdd75f"
      },
      "execution_count": null,
      "outputs": [
        {
          "output_type": "execute_result",
          "data": {
            "text/plain": [
              "         MovieID                             Title  \\\n",
              "0              1                        Toy Story    \n",
              "1             48                       Pocahontas    \n",
              "2            150                           Apollo    \n",
              "3            260  Star Wars Episode IV A New Hope    \n",
              "4            527                 Schindler s List    \n",
              "...          ...                               ...   \n",
              "1000204     3513              Rules of Engagement    \n",
              "1000205     3535                  American Psycho    \n",
              "1000206     3536                Keeping the Faith    \n",
              "1000207     3555                                U    \n",
              "1000208     3578                        Gladiator    \n",
              "\n",
              "                                       Genres  Year  UserID  Rating  Gender  \\\n",
              "0                 Animation Children s Comedy  1995       1       5  Female   \n",
              "1        Animation Children s Musical Romance  1995       1       5  Female   \n",
              "2                                       Drama  1995       1       5  Female   \n",
              "3             Action Adventure Fantasy Sci Fi  1977       1       4  Female   \n",
              "4                                   Drama War  1993       1       5  Female   \n",
              "...                                       ...   ...     ...     ...     ...   \n",
              "1000204                        Drama Thriller  2000    5727       4    Male   \n",
              "1000205                Comedy Horror Thriller  2000    5727       2    Male   \n",
              "1000206                        Comedy Romance  2000    5727       5    Male   \n",
              "1000207                       Action Thriller  2000    5727       3    Male   \n",
              "1000208                          Action Drama  2000    5727       5    Male   \n",
              "\n",
              "         Age            Occupation Zip-code  \n",
              "0          1             K student    48067  \n",
              "1          1             K student    48067  \n",
              "2          1             K student    48067  \n",
              "3          1             K student    48067  \n",
              "4          1             K student    48067  \n",
              "...      ...                   ...      ...  \n",
              "1000204   25  college grad student    92843  \n",
              "1000205   25  college grad student    92843  \n",
              "1000206   25  college grad student    92843  \n",
              "1000207   25  college grad student    92843  \n",
              "1000208   25  college grad student    92843  \n",
              "\n",
              "[1000209 rows x 10 columns]"
            ],
            "text/html": [
              "\n",
              "  <div id=\"df-13a2fe14-5b4a-4662-8722-05e1e39b6462\">\n",
              "    <div class=\"colab-df-container\">\n",
              "      <div>\n",
              "<style scoped>\n",
              "    .dataframe tbody tr th:only-of-type {\n",
              "        vertical-align: middle;\n",
              "    }\n",
              "\n",
              "    .dataframe tbody tr th {\n",
              "        vertical-align: top;\n",
              "    }\n",
              "\n",
              "    .dataframe thead th {\n",
              "        text-align: right;\n",
              "    }\n",
              "</style>\n",
              "<table border=\"1\" class=\"dataframe\">\n",
              "  <thead>\n",
              "    <tr style=\"text-align: right;\">\n",
              "      <th></th>\n",
              "      <th>MovieID</th>\n",
              "      <th>Title</th>\n",
              "      <th>Genres</th>\n",
              "      <th>Year</th>\n",
              "      <th>UserID</th>\n",
              "      <th>Rating</th>\n",
              "      <th>Gender</th>\n",
              "      <th>Age</th>\n",
              "      <th>Occupation</th>\n",
              "      <th>Zip-code</th>\n",
              "    </tr>\n",
              "  </thead>\n",
              "  <tbody>\n",
              "    <tr>\n",
              "      <th>0</th>\n",
              "      <td>1</td>\n",
              "      <td>Toy Story</td>\n",
              "      <td>Animation Children s Comedy</td>\n",
              "      <td>1995</td>\n",
              "      <td>1</td>\n",
              "      <td>5</td>\n",
              "      <td>Female</td>\n",
              "      <td>1</td>\n",
              "      <td>K student</td>\n",
              "      <td>48067</td>\n",
              "    </tr>\n",
              "    <tr>\n",
              "      <th>1</th>\n",
              "      <td>48</td>\n",
              "      <td>Pocahontas</td>\n",
              "      <td>Animation Children s Musical Romance</td>\n",
              "      <td>1995</td>\n",
              "      <td>1</td>\n",
              "      <td>5</td>\n",
              "      <td>Female</td>\n",
              "      <td>1</td>\n",
              "      <td>K student</td>\n",
              "      <td>48067</td>\n",
              "    </tr>\n",
              "    <tr>\n",
              "      <th>2</th>\n",
              "      <td>150</td>\n",
              "      <td>Apollo</td>\n",
              "      <td>Drama</td>\n",
              "      <td>1995</td>\n",
              "      <td>1</td>\n",
              "      <td>5</td>\n",
              "      <td>Female</td>\n",
              "      <td>1</td>\n",
              "      <td>K student</td>\n",
              "      <td>48067</td>\n",
              "    </tr>\n",
              "    <tr>\n",
              "      <th>3</th>\n",
              "      <td>260</td>\n",
              "      <td>Star Wars Episode IV A New Hope</td>\n",
              "      <td>Action Adventure Fantasy Sci Fi</td>\n",
              "      <td>1977</td>\n",
              "      <td>1</td>\n",
              "      <td>4</td>\n",
              "      <td>Female</td>\n",
              "      <td>1</td>\n",
              "      <td>K student</td>\n",
              "      <td>48067</td>\n",
              "    </tr>\n",
              "    <tr>\n",
              "      <th>4</th>\n",
              "      <td>527</td>\n",
              "      <td>Schindler s List</td>\n",
              "      <td>Drama War</td>\n",
              "      <td>1993</td>\n",
              "      <td>1</td>\n",
              "      <td>5</td>\n",
              "      <td>Female</td>\n",
              "      <td>1</td>\n",
              "      <td>K student</td>\n",
              "      <td>48067</td>\n",
              "    </tr>\n",
              "    <tr>\n",
              "      <th>...</th>\n",
              "      <td>...</td>\n",
              "      <td>...</td>\n",
              "      <td>...</td>\n",
              "      <td>...</td>\n",
              "      <td>...</td>\n",
              "      <td>...</td>\n",
              "      <td>...</td>\n",
              "      <td>...</td>\n",
              "      <td>...</td>\n",
              "      <td>...</td>\n",
              "    </tr>\n",
              "    <tr>\n",
              "      <th>1000204</th>\n",
              "      <td>3513</td>\n",
              "      <td>Rules of Engagement</td>\n",
              "      <td>Drama Thriller</td>\n",
              "      <td>2000</td>\n",
              "      <td>5727</td>\n",
              "      <td>4</td>\n",
              "      <td>Male</td>\n",
              "      <td>25</td>\n",
              "      <td>college grad student</td>\n",
              "      <td>92843</td>\n",
              "    </tr>\n",
              "    <tr>\n",
              "      <th>1000205</th>\n",
              "      <td>3535</td>\n",
              "      <td>American Psycho</td>\n",
              "      <td>Comedy Horror Thriller</td>\n",
              "      <td>2000</td>\n",
              "      <td>5727</td>\n",
              "      <td>2</td>\n",
              "      <td>Male</td>\n",
              "      <td>25</td>\n",
              "      <td>college grad student</td>\n",
              "      <td>92843</td>\n",
              "    </tr>\n",
              "    <tr>\n",
              "      <th>1000206</th>\n",
              "      <td>3536</td>\n",
              "      <td>Keeping the Faith</td>\n",
              "      <td>Comedy Romance</td>\n",
              "      <td>2000</td>\n",
              "      <td>5727</td>\n",
              "      <td>5</td>\n",
              "      <td>Male</td>\n",
              "      <td>25</td>\n",
              "      <td>college grad student</td>\n",
              "      <td>92843</td>\n",
              "    </tr>\n",
              "    <tr>\n",
              "      <th>1000207</th>\n",
              "      <td>3555</td>\n",
              "      <td>U</td>\n",
              "      <td>Action Thriller</td>\n",
              "      <td>2000</td>\n",
              "      <td>5727</td>\n",
              "      <td>3</td>\n",
              "      <td>Male</td>\n",
              "      <td>25</td>\n",
              "      <td>college grad student</td>\n",
              "      <td>92843</td>\n",
              "    </tr>\n",
              "    <tr>\n",
              "      <th>1000208</th>\n",
              "      <td>3578</td>\n",
              "      <td>Gladiator</td>\n",
              "      <td>Action Drama</td>\n",
              "      <td>2000</td>\n",
              "      <td>5727</td>\n",
              "      <td>5</td>\n",
              "      <td>Male</td>\n",
              "      <td>25</td>\n",
              "      <td>college grad student</td>\n",
              "      <td>92843</td>\n",
              "    </tr>\n",
              "  </tbody>\n",
              "</table>\n",
              "<p>1000209 rows × 10 columns</p>\n",
              "</div>\n",
              "      <button class=\"colab-df-convert\" onclick=\"convertToInteractive('df-13a2fe14-5b4a-4662-8722-05e1e39b6462')\"\n",
              "              title=\"Convert this dataframe to an interactive table.\"\n",
              "              style=\"display:none;\">\n",
              "        \n",
              "  <svg xmlns=\"http://www.w3.org/2000/svg\" height=\"24px\"viewBox=\"0 0 24 24\"\n",
              "       width=\"24px\">\n",
              "    <path d=\"M0 0h24v24H0V0z\" fill=\"none\"/>\n",
              "    <path d=\"M18.56 5.44l.94 2.06.94-2.06 2.06-.94-2.06-.94-.94-2.06-.94 2.06-2.06.94zm-11 1L8.5 8.5l.94-2.06 2.06-.94-2.06-.94L8.5 2.5l-.94 2.06-2.06.94zm10 10l.94 2.06.94-2.06 2.06-.94-2.06-.94-.94-2.06-.94 2.06-2.06.94z\"/><path d=\"M17.41 7.96l-1.37-1.37c-.4-.4-.92-.59-1.43-.59-.52 0-1.04.2-1.43.59L10.3 9.45l-7.72 7.72c-.78.78-.78 2.05 0 2.83L4 21.41c.39.39.9.59 1.41.59.51 0 1.02-.2 1.41-.59l7.78-7.78 2.81-2.81c.8-.78.8-2.07 0-2.86zM5.41 20L4 18.59l7.72-7.72 1.47 1.35L5.41 20z\"/>\n",
              "  </svg>\n",
              "      </button>\n",
              "      \n",
              "  <style>\n",
              "    .colab-df-container {\n",
              "      display:flex;\n",
              "      flex-wrap:wrap;\n",
              "      gap: 12px;\n",
              "    }\n",
              "\n",
              "    .colab-df-convert {\n",
              "      background-color: #E8F0FE;\n",
              "      border: none;\n",
              "      border-radius: 50%;\n",
              "      cursor: pointer;\n",
              "      display: none;\n",
              "      fill: #1967D2;\n",
              "      height: 32px;\n",
              "      padding: 0 0 0 0;\n",
              "      width: 32px;\n",
              "    }\n",
              "\n",
              "    .colab-df-convert:hover {\n",
              "      background-color: #E2EBFA;\n",
              "      box-shadow: 0px 1px 2px rgba(60, 64, 67, 0.3), 0px 1px 3px 1px rgba(60, 64, 67, 0.15);\n",
              "      fill: #174EA6;\n",
              "    }\n",
              "\n",
              "    [theme=dark] .colab-df-convert {\n",
              "      background-color: #3B4455;\n",
              "      fill: #D2E3FC;\n",
              "    }\n",
              "\n",
              "    [theme=dark] .colab-df-convert:hover {\n",
              "      background-color: #434B5C;\n",
              "      box-shadow: 0px 1px 3px 1px rgba(0, 0, 0, 0.15);\n",
              "      filter: drop-shadow(0px 1px 2px rgba(0, 0, 0, 0.3));\n",
              "      fill: #FFFFFF;\n",
              "    }\n",
              "  </style>\n",
              "\n",
              "      <script>\n",
              "        const buttonEl =\n",
              "          document.querySelector('#df-13a2fe14-5b4a-4662-8722-05e1e39b6462 button.colab-df-convert');\n",
              "        buttonEl.style.display =\n",
              "          google.colab.kernel.accessAllowed ? 'block' : 'none';\n",
              "\n",
              "        async function convertToInteractive(key) {\n",
              "          const element = document.querySelector('#df-13a2fe14-5b4a-4662-8722-05e1e39b6462');\n",
              "          const dataTable =\n",
              "            await google.colab.kernel.invokeFunction('convertToInteractive',\n",
              "                                                     [key], {});\n",
              "          if (!dataTable) return;\n",
              "\n",
              "          const docLinkHtml = 'Like what you see? Visit the ' +\n",
              "            '<a target=\"_blank\" href=https://colab.research.google.com/notebooks/data_table.ipynb>data table notebook</a>'\n",
              "            + ' to learn more about interactive tables.';\n",
              "          element.innerHTML = '';\n",
              "          dataTable['output_type'] = 'display_data';\n",
              "          await google.colab.output.renderOutput(dataTable, element);\n",
              "          const docLink = document.createElement('div');\n",
              "          docLink.innerHTML = docLinkHtml;\n",
              "          element.appendChild(docLink);\n",
              "        }\n",
              "      </script>\n",
              "    </div>\n",
              "  </div>\n",
              "  "
            ]
          },
          "metadata": {},
          "execution_count": 24
        }
      ]
    },
    {
      "cell_type": "code",
      "source": [
        "type(df_merged['Occupation'][0])"
      ],
      "metadata": {
        "colab": {
          "base_uri": "https://localhost:8080/"
        },
        "id": "Emp3IwEWVH1U",
        "outputId": "f354259e-674d-4957-eacc-0bb5b4b601e2"
      },
      "execution_count": null,
      "outputs": [
        {
          "output_type": "execute_result",
          "data": {
            "text/plain": [
              "str"
            ]
          },
          "metadata": {},
          "execution_count": 40
        }
      ]
    },
    {
      "cell_type": "code",
      "source": [
        "from gensim.utils import tokenize\n",
        "# Prepare Content\n",
        "df_merged['content'] = df_merged['Title'] + ' ' + df_merged['Genres'].astype(str)+ ' ' + df_merged['Gender'].astype(str) + ' ' + df_merged['Occupation'].astype(str)\n",
        "merged_content_dict = dict(zip(df_merged['MovieID'], df_merged['content']))\n",
        "\n",
        "# Add content to trainset to parse the content of the movies to the trainset\n",
        "#Convert content to list - Make sure that starting from 0 to the highest movieId a content entry exists in the list\n",
        "trainset.content = [merged_content_dict[key] if key in merged_content_dict else '' for key in range(0, max(merged_content_dict.keys()))]"
      ],
      "metadata": {
        "id": "07UhnsTvIv5E"
      },
      "execution_count": null,
      "outputs": []
    },
    {
      "cell_type": "code",
      "source": [
        "reader = Reader(rating_scale=(1, 5))\n",
        "\n",
        "df_merged = Dataset.load_from_df(df_ratings, reader)\n",
        "df_merged.content = [merged_content_dict[key] if key in merged_content_dict else '' for key in range(0, max(merged_content_dict.keys()))]"
      ],
      "metadata": {
        "id": "T2lqRD1TIv1i"
      },
      "execution_count": null,
      "outputs": []
    },
    {
      "cell_type": "code",
      "source": [
        "# Import KNNBasic from surprise\n",
        "# Content-based Prediction using the Gensim library\n",
        "from surprise import AlgoBase, Dataset, PredictionImpossible\n",
        "from surprise.model_selection import cross_validate\n",
        "from gensim.models import TfidfModel\n",
        "from gensim.corpora import Dictionary\n",
        "from gensim.similarities import SparseMatrixSimilarity\n",
        "\n",
        "sim_options = {'name': 'cosine', 'user_based': True}\n",
        "\n",
        "# Define a custom content-based recommender class that inherits from KNNBasic\n",
        "class ContentKNN(KNNBasic):\n",
        "    def __init__(self,k=5, sim_options=sim_options):\n",
        "        # Call the base method and pass the sim_options parameter\n",
        "        KNNBasic.__init__(self, sim_options=sim_options)\n",
        "        self.k=k\n",
        "        self.df = df_merged\n",
        "    \n",
        "    def fit(self, trainset):\n",
        "        # Call the base method before doing anything\n",
        "        KNNBasic.fit(self, trainset)\n",
        "        \n",
        "        # Tokenize content by whitespace\n",
        "        tokenized_content = [list(tokenize(line)) for line in df_merged.content]\n",
        "        \n",
        "        # Compute TF-IDF Similarity Matrix\n",
        "        dct = Dictionary(tokenized_content) # fit dictionary\n",
        "        self.corpus = [dct.doc2bow(line) for line in tokenized_content]\n",
        "        self.model = TfidfModel(self.corpus)\n",
        "\n",
        "        \n",
        "        # Prepare Index\n",
        "        self.index = SparseMatrixSimilarity(self.model[self.corpus], num_features=len(dct))\n",
        "\n",
        "        return self\n",
        "    \n",
        "    \n",
        "    def estimate(self, u, i):\n",
        "        \n",
        "        # The user must be \"known\" as we need at least 1 rated item to make a recommendation\n",
        "        if self.trainset.knows_user(u):\n",
        "            # Get user ratings\n",
        "            user_ratings = self.trainset.ur[u]\n",
        "            \n",
        "            # if an item is not \"known\" to the training set (cold-start) we still can\n",
        "            # make a prediction with the content-based recommender\n",
        "            if type(i) is str:\n",
        "                i = int(i.replace('UKN__', '')) - 1\n",
        "            \n",
        "            # Get similarities\n",
        "            try:\n",
        "                similarities = self.index[self.corpus[i]]\n",
        "            except TypeError:\n",
        "                set_trace()\n",
        "            \n",
        "            # Filter user similarity scores by number of nearst neighbours and threshold > 0\n",
        "            sim_user_dict = {user_rating[0]: similarities[user_rating[0]] for user_rating in user_ratings}\n",
        "            sorted_filtered_sim = sorted(list(sim_user_dict.values()), reverse=True)[0:self.k]\n",
        "            sim_user_dict = {user: sim for user, sim in sim_user_dict.items() if sim > 0 and sim in sorted_filtered_sim}\n",
        "            \n",
        "            #Simple prediction\n",
        "            if len(sim_user_dict) > 0:\n",
        "                rating = sum([sim_user_dict[user_rating[0]]*user_rating[1] for user_rating in user_ratings if user_rating[0] in sim_user_dict])/\\\n",
        "                sum([sim_user_dict[user_rating[0]] for user_rating in user_ratings if user_rating[0] in sim_user_dict])\n",
        "            else:\n",
        "                raise PredictionImpossible(\"No similar items found.\")\n",
        "        else:\n",
        "            raise PredictionImpossible(\"User is unknown.\")\n",
        "        \n",
        "        \n",
        "        return rating"
      ],
      "metadata": {
        "id": "bVH9r3hxIvzG"
      },
      "execution_count": null,
      "outputs": []
    },
    {
      "cell_type": "code",
      "source": [
        "knn = ContentKNN(k=5)\n",
        "\n",
        "# Train the algorithm on the trainset, and predict ratings for the testset\n",
        "knn.fit(trainset)\n",
        "predictions_contentknn = knn.test(testset)\n",
        "\n",
        "# Then compute MSE, RMSE and MAE\n",
        "mse(predictions_contentknn)\n",
        "rmse(predictions_contentknn)\n",
        "mae(predictions_contentknn);"
      ],
      "metadata": {
        "colab": {
          "base_uri": "https://localhost:8080/"
        },
        "id": "rS7qlZIMIvwA",
        "outputId": "063ee495-612f-4dc4-9950-9a5d7705313b"
      },
      "execution_count": null,
      "outputs": [
        {
          "output_type": "stream",
          "name": "stdout",
          "text": [
            "Computing the cosine similarity matrix...\n",
            "Done computing similarity matrix.\n",
            "MSE: 1.2804\n",
            "RMSE: 1.1315\n",
            "MAE:  0.9003\n"
          ]
        }
      ]
    },
    {
      "cell_type": "code",
      "source": [
        "# get average evaluation measures and print them\n",
        "avg_precision, avg_recall, avg_f1, avg_accuracy = precision_recall_f1(predictions_contentknn, threshold=3.5)\n",
        "print(f'Avg. Precision: {avg_precision}')\n",
        "print(f'Avg. Recall: {avg_recall}')\n",
        "print(f'Avg. F1: {avg_f1}')\n",
        "print(f'Avg. Accuracy: {avg_accuracy}')"
      ],
      "metadata": {
        "colab": {
          "base_uri": "https://localhost:8080/"
        },
        "id": "F2pkX4KgbWDo",
        "outputId": "6c6f99c2-65d2-44cc-88ca-3b9f54b3611d"
      },
      "execution_count": null,
      "outputs": [
        {
          "output_type": "stream",
          "name": "stdout",
          "text": [
            "Avg. Precision: 0.6179173871941218\n",
            "Avg. Recall: 0.6813181885138346\n",
            "Avg. F1: 0.6323690951875801\n",
            "Avg. Accuracy: 0.6152680544142562\n"
          ]
        }
      ]
    },
    {
      "cell_type": "code",
      "source": [
        "# get average evaluation measures and print them\n",
        "avg_average_precisions, avg_precisions, avg_ndcgs = measures_at_k(predictions_contentknn, k=5, threshold=3.5)\n",
        "print(f'Avg. AveragePrecision: {avg_average_precisions}')\n",
        "print(f'Avg. Precision@5: {avg_precisions}')\n",
        "print(f'Avg. nDCG@5: {avg_ndcgs}')"
      ],
      "metadata": {
        "colab": {
          "base_uri": "https://localhost:8080/"
        },
        "id": "usGyD3_7bV6R",
        "outputId": "9deb5b64-101b-4e1a-fb81-7eb72a81e901"
      },
      "execution_count": null,
      "outputs": [
        {
          "output_type": "stream",
          "name": "stdout",
          "text": [
            "Avg. AveragePrecision: 0.6326059459895277\n",
            "Avg. Precision@5: 0.624379139072854\n",
            "Avg. nDCG@5: 0.7831808252694338\n"
          ]
        }
      ]
    },
    {
      "cell_type": "markdown",
      "source": [
        "### Hyperparameter tuning"
      ],
      "metadata": {
        "id": "rTGUfFaGbBd_"
      }
    },
    {
      "cell_type": "code",
      "source": [
        "# Import GridSearchCV from surprise\n",
        "from surprise.model_selection import GridSearchCV\n",
        "\n",
        "# Define a dictionary of hyperparameters and their values to search over\n",
        "param_grid = {\n",
        "    'k': [3, 5, 10, 20],\n",
        "    'sim_options': {\n",
        "        'name': ['cosine'],\n",
        "        'user_based': [True]\n",
        "    }\n",
        "}\n",
        "\n",
        "# Create a GridSearchCV object with the content-based recommender and the parameter grid\n",
        "grid_search = GridSearchCV(ContentKNN, param_grid, cv=5)\n",
        "\n",
        "# Fit the grid search on the Trainset object\n",
        "grid_search.fit(df_merged)\n",
        "\n",
        "# Print the best score and the best parameters\n",
        "print(\"Best score: {}\".format(grid_search.best_score))\n",
        "print(\"Best parameters: {}\".format(grid_search.best_params))"
      ],
      "metadata": {
        "colab": {
          "base_uri": "https://localhost:8080/"
        },
        "id": "CkxNeMrKbE-4",
        "outputId": "48b84be5-af33-42e4-a018-d47ea1abfdb5"
      },
      "execution_count": null,
      "outputs": [
        {
          "output_type": "stream",
          "name": "stdout",
          "text": [
            "Computing the cosine similarity matrix...\n",
            "Done computing similarity matrix.\n",
            "Computing the cosine similarity matrix...\n",
            "Done computing similarity matrix.\n",
            "Computing the cosine similarity matrix...\n",
            "Done computing similarity matrix.\n",
            "Computing the cosine similarity matrix...\n",
            "Done computing similarity matrix.\n",
            "Computing the cosine similarity matrix...\n",
            "Done computing similarity matrix.\n",
            "Computing the cosine similarity matrix...\n",
            "Done computing similarity matrix.\n",
            "Computing the cosine similarity matrix...\n",
            "Done computing similarity matrix.\n",
            "Computing the cosine similarity matrix...\n",
            "Done computing similarity matrix.\n",
            "Computing the cosine similarity matrix...\n",
            "Done computing similarity matrix.\n",
            "Computing the cosine similarity matrix...\n",
            "Done computing similarity matrix.\n",
            "Computing the cosine similarity matrix...\n",
            "Done computing similarity matrix.\n",
            "Computing the cosine similarity matrix...\n",
            "Done computing similarity matrix.\n",
            "Computing the cosine similarity matrix...\n",
            "Done computing similarity matrix.\n",
            "Computing the cosine similarity matrix...\n",
            "Done computing similarity matrix.\n",
            "Computing the cosine similarity matrix...\n",
            "Done computing similarity matrix.\n",
            "Computing the cosine similarity matrix...\n",
            "Done computing similarity matrix.\n",
            "Computing the cosine similarity matrix...\n",
            "Done computing similarity matrix.\n",
            "Computing the cosine similarity matrix...\n",
            "Done computing similarity matrix.\n",
            "Computing the cosine similarity matrix...\n",
            "Done computing similarity matrix.\n",
            "Computing the cosine similarity matrix...\n",
            "Done computing similarity matrix.\n",
            "Best score: {'rmse': 1.0663002867014524, 'mae': 0.8535928354573465}\n",
            "Best parameters: {'rmse': {'k': 20, 'sim_options': {'name': 'cosine', 'user_based': True}}, 'mae': {'k': 20, 'sim_options': {'name': 'cosine', 'user_based': True}}}\n"
          ]
        }
      ]
    },
    {
      "cell_type": "code",
      "source": [
        "knn = ContentKNN(k=20)\n",
        "\n",
        "# Train the algorithm on the trainset, and predict ratings for the testset\n",
        "knn.fit(trainset)\n",
        "predictions_contentknn_best = knn.test(testset)\n",
        "\n",
        "# Then compute MSE, RMSE and MAE\n",
        "mse(predictions_contentknn_best)\n",
        "rmse(predictions_contentknn_best)\n",
        "mae(predictions_contentknn_best);"
      ],
      "metadata": {
        "colab": {
          "base_uri": "https://localhost:8080/"
        },
        "id": "s_Yb5kzcbFFM",
        "outputId": "f4c4e2cc-fde1-4f6e-88a0-b50f8f61c8fa"
      },
      "execution_count": null,
      "outputs": [
        {
          "output_type": "stream",
          "name": "stdout",
          "text": [
            "Computing the cosine similarity matrix...\n",
            "Done computing similarity matrix.\n",
            "MSE: 1.1377\n",
            "RMSE: 1.0666\n",
            "MAE:  0.8534\n"
          ]
        }
      ]
    },
    {
      "cell_type": "code",
      "source": [
        "predictions_contentknn_best"
      ],
      "metadata": {
        "id": "9GvI1_iWjVd0"
      },
      "execution_count": null,
      "outputs": []
    },
    {
      "cell_type": "code",
      "source": [
        "# get average evaluation measures and print them\n",
        "avg_precision, avg_recall, avg_f1, avg_accuracy = precision_recall_f1(predictions_contentknn_best, threshold=3.5)\n",
        "print(f'Avg. Precision: {avg_precision}')\n",
        "print(f'Avg. Recall: {avg_recall}')\n",
        "print(f'Avg. F1: {avg_f1}')\n",
        "print(f'Avg. Accuracy: {avg_accuracy}')"
      ],
      "metadata": {
        "colab": {
          "base_uri": "https://localhost:8080/"
        },
        "id": "5mRho7Nhbhq4",
        "outputId": "46fc361a-89f3-4848-aa87-ea85be6253bd"
      },
      "execution_count": null,
      "outputs": [
        {
          "output_type": "stream",
          "name": "stdout",
          "text": [
            "Avg. Precision: 0.6179173871941218\n",
            "Avg. Recall: 0.6813181885138346\n",
            "Avg. F1: 0.6323690951875801\n",
            "Avg. Accuracy: 0.6152680544142562\n"
          ]
        }
      ]
    },
    {
      "cell_type": "code",
      "source": [
        "# get average evaluation measures and print them\n",
        "avg_average_precisions, avg_precisions, avg_ndcgs = measures_at_k(predictions_contentknn_best, k=5, threshold=3.5)\n",
        "print(f'Avg. AveragePrecision: {avg_average_precisions}')\n",
        "print(f'Avg. Precision@5: {avg_precisions}')\n",
        "print(f'Avg. nDCG@5: {avg_ndcgs}')"
      ],
      "metadata": {
        "colab": {
          "base_uri": "https://localhost:8080/"
        },
        "id": "E7VQYhiYbhnf",
        "outputId": "4f13b133-3155-4b3a-dd17-2f5e2f522f0c"
      },
      "execution_count": null,
      "outputs": [
        {
          "output_type": "stream",
          "name": "stdout",
          "text": [
            "Avg. AveragePrecision: 0.631121248246841\n",
            "Avg. Precision@5: 0.6139292399649627\n",
            "Avg. nDCG@5: 0.8505759662823443\n"
          ]
        }
      ]
    },
    {
      "cell_type": "code",
      "source": [
        "top_n = get_top_n(predictions_contentknn, n=5)\n",
        "\n",
        "# collect all movies the user rated\n",
        "user_movies = df_ratings[df_ratings['UserID'] == int(uid)]\n",
        "\n",
        "# get the recommendations for the specific user from the top_n dict\n",
        "recommendations = [df_movies[df_movies['MovieID'] == int(iid)]['Title'].iloc[0] for (iid, _) in top_n[uid]]\n",
        "\n",
        "print('Top 5 recommendations for user with id 256:')\n",
        "for i, rec in enumerate(recommendations):\n",
        "    print(f'{i+1} {rec}')"
      ],
      "metadata": {
        "colab": {
          "base_uri": "https://localhost:8080/"
        },
        "id": "kxU6gfmCbcw9",
        "outputId": "8ea43e56-6d56-4948-db00-6f0f99a55ca2"
      },
      "execution_count": null,
      "outputs": [
        {
          "output_type": "stream",
          "name": "stdout",
          "text": [
            "Top 5 recommendations for user with id 256:\n",
            "1 Saving Private Ryan \n",
            "2 Pope of Greenwich Village The \n",
            "3 Snake Eyes \n",
            "4 Big Sleep The \n",
            "5 Chinatown \n"
          ]
        }
      ]
    },
    {
      "cell_type": "code",
      "source": [
        "# First we collect all movies the user rated and filter them down to only those appearing in the test set\n",
        "user_movies = df_ratings[df_ratings['UserID'] == uid].sort_values(by='Rating', ascending=False)\n",
        "movies_relevant = []\n",
        "for user, movie, rating in testset:\n",
        "    if user == uid:\n",
        "        movies_relevant.append(df_movies[df_movies['MovieID'] == int(movie)]['Genres'].iloc[0])\n",
        "\n",
        "for movie in movies_relevant:\n",
        "    print(movie)"
      ],
      "metadata": {
        "colab": {
          "base_uri": "https://localhost:8080/"
        },
        "id": "ZIQ7FbcZbgQG",
        "outputId": "40f1f063-878b-409b-cd08-55d54b1b89d7"
      },
      "execution_count": null,
      "outputs": [
        {
          "output_type": "stream",
          "name": "stdout",
          "text": [
            "Action Adventure Fantasy\n",
            "Action Adventure Fantasy Sci Fi\n",
            "Action Thriller\n",
            "Action Adventure Sci Fi Thriller\n",
            "Action\n",
            "Drama Thriller\n",
            "Action Adventure Romance Thriller\n",
            "Film Noir Mystery\n",
            "Action Sci Fi Thriller\n",
            "Action Crime Mystery Thriller\n",
            "Action Drama War\n",
            "Film Noir Mystery Thriller\n",
            "Action Thriller\n",
            "Action\n",
            "Action Adventure\n",
            "Action Drama War\n",
            "Action Adventure Fantasy Sci Fi\n",
            "Action Romance\n",
            "Action Romance War\n",
            "Action Adventure Sci Fi\n",
            "Action Adventure Romance Sci Fi War\n",
            "Action Thriller\n",
            "Crime Drama Film Noir Thriller\n",
            "Action Adventure Drama Sci Fi War\n",
            "Action Comedy Crime Drama\n"
          ]
        }
      ]
    },
    {
      "cell_type": "markdown",
      "source": [
        "### **Hybrid recommender system**"
      ],
      "metadata": {
        "id": "-JBamQzEmJSG"
      }
    },
    {
      "cell_type": "code",
      "source": [
        "from surprise.prediction_algorithms import SlopeOne"
      ],
      "metadata": {
        "id": "KMbmkCILbgMk"
      },
      "execution_count": null,
      "outputs": []
    },
    {
      "cell_type": "code",
      "source": [
        "class ContentKNNBasicHybrid(AlgoBase):\n",
        "    def __init__(self,k=20, name='cosine', user_based=True, min_support=1):\n",
        "\n",
        "        # Always call base method before doing anything.\n",
        "        AlgoBase.__init__(self)\n",
        "        self.k = k\n",
        "        self.name = name\n",
        "        self.user_based = user_based\n",
        "        self.min_support = min_support\n",
        "    \n",
        "    def fit(self, trainset):\n",
        "\n",
        "        # Here again: call base method before doing anything.\n",
        "        AlgoBase.fit(self, trainset)\n",
        "        \n",
        "        self.content = ContentKNN(k=20)\n",
        "        self.content.fit(trainset)\n",
        "        \n",
        "        sim_options = {'name': self.name, 'user_based': self.user_based, 'min_support': self.min_support}\n",
        "        self.slopeone = SlopeOne()\n",
        "        self.slopeone.fit(trainset)\n",
        "\n",
        "        return self\n",
        "    \n",
        "    \n",
        "    def estimate(self, u, i):\n",
        "        # Implement estimation\n",
        "\n",
        "        if self.trainset.knows_user(u):\n",
        "            r_content = self.content.estimate(u, i)\n",
        "            r_slopeone = self.slopeone.estimate(u, i)\n",
        "\n",
        "            #Simple prediction using the average of both ratings\n",
        "            rating = (r_content + r_slopeone) / 2\n",
        "        else:\n",
        "            raise PredictionImpossible(\"User is unknown.\")\n",
        "            \n",
        "        return rating"
      ],
      "metadata": {
        "id": "Bkr5CjAIbgJ-"
      },
      "execution_count": null,
      "outputs": []
    },
    {
      "cell_type": "code",
      "source": [
        "algo = ContentKNNBasicHybrid(k=20, name='cosine', user_based=True, min_support=1)\n",
        "\n",
        "# Train the algorithm on the trainset, and predict ratings for the testset\n",
        "algo.fit(trainset)\n",
        "predictions = algo.test(testset)\n",
        "  \n",
        "# Then compute MSE, RMSE and MAE\n",
        "mse(predictions)\n",
        "rmse(predictions)\n",
        "mae(predictions);"
      ],
      "metadata": {
        "colab": {
          "base_uri": "https://localhost:8080/"
        },
        "id": "86GK3USomzAe",
        "outputId": "9dccbf5a-a74b-47d1-9a7f-6acc4e04b325"
      },
      "execution_count": null,
      "outputs": [
        {
          "output_type": "stream",
          "name": "stdout",
          "text": [
            "Computing the cosine similarity matrix...\n",
            "Done computing similarity matrix.\n",
            "MSE: 0.9179\n",
            "RMSE: 0.9581\n",
            "MAE:  0.7645\n"
          ]
        }
      ]
    },
    {
      "cell_type": "code",
      "source": [
        "# get average evaluation measures and print them\n",
        "avg_precision, avg_recall, avg_f1, avg_accuracy = precision_recall_f1(predictions, threshold=3.5)\n",
        "print(f'Avg. Precision: {avg_precision}')\n",
        "print(f'Avg. Recall: {avg_recall}')\n",
        "print(f'Avg. F1: {avg_f1}')\n",
        "print(f'Avg. Accuracy: {avg_accuracy}')"
      ],
      "metadata": {
        "colab": {
          "base_uri": "https://localhost:8080/"
        },
        "id": "S4sUqNOrvB9z",
        "outputId": "d5983769-461f-4c70-ed30-881432d9d258"
      },
      "execution_count": null,
      "outputs": [
        {
          "output_type": "stream",
          "name": "stdout",
          "text": [
            "Avg. Precision: 0.6775971397688808\n",
            "Avg. Recall: 0.7685266552074249\n",
            "Avg. F1: 0.6974352068758655\n",
            "Avg. Accuracy: 0.7010877064870974\n"
          ]
        }
      ]
    },
    {
      "cell_type": "code",
      "source": [
        "# get average evaluation measures and print them\n",
        "avg_average_precisions, avg_precisions, avg_ndcgs = measures_at_k(predictions, k=5, threshold=3.5)\n",
        "print(f'Avg. AveragePrecision: {avg_average_precisions}')\n",
        "print(f'Avg. Precision@5: {avg_precisions}')\n",
        "print(f'Avg. nDCG@5: {avg_ndcgs}')"
      ],
      "metadata": {
        "colab": {
          "base_uri": "https://localhost:8080/"
        },
        "id": "4wHhP6yZvHhJ",
        "outputId": "a410cf14-7990-4c90-f5c5-6fa35551e332"
      },
      "execution_count": null,
      "outputs": [
        {
          "output_type": "stream",
          "name": "stdout",
          "text": [
            "Avg. AveragePrecision: 0.6693452646068477\n",
            "Avg. Precision@5: 0.7083772230727718\n",
            "Avg. nDCG@5: 0.9092129140239997\n"
          ]
        }
      ]
    },
    {
      "cell_type": "code",
      "source": [
        "top_n = get_top_n(predictions, n=5)\n",
        "\n",
        "# collect all movies the user rated\n",
        "user_movies = df_ratings[df_ratings['UserID'] == int(uid)]\n",
        "\n",
        "# get the recommendations for the specific user from the top_n dict\n",
        "recommendations = [df_movies[df_movies['MovieID'] == int(iid)]['Title'].iloc[0] for (iid, _) in top_n[uid]]\n",
        "\n",
        "print('Top 5 recommendations for user with id 256:')\n",
        "for i, rec in enumerate(recommendations):\n",
        "    print(f'{i+1} {rec}')"
      ],
      "metadata": {
        "colab": {
          "base_uri": "https://localhost:8080/"
        },
        "id": "aTogztKurlAy",
        "outputId": "a735aa00-f68a-4721-fbe0-f68463af2ecf"
      },
      "execution_count": null,
      "outputs": [
        {
          "output_type": "stream",
          "name": "stdout",
          "text": [
            "Top 5 recommendations for user with id 256:\n",
            "1 Big Sleep The \n",
            "2 Saving Private Ryan \n",
            "3 Chinatown \n",
            "4 Star Wars Episode V The Empire Strikes Back \n",
            "5 Matrix The \n"
          ]
        }
      ]
    },
    {
      "cell_type": "code",
      "source": [],
      "metadata": {
        "id": "TKUOi7GIrk9m"
      },
      "execution_count": null,
      "outputs": []
    }
  ]
}
